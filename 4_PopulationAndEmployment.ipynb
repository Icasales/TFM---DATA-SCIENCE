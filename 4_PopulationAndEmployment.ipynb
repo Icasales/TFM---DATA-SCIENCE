{
 "cells": [
  {
   "cell_type": "markdown",
   "metadata": {},
   "source": [
    "\t\n",
    "# Population and employment"
   ]
  },
  {
   "cell_type": "markdown",
   "metadata": {},
   "source": [
    "## 4. Datos relativos a población y empleo\n",
    "\n",
    "Indicadores clave auxiliares, su uso deriva en agregados principales de PIB per capita, productividad y coste unitario de fuerza laboral\n"
   ]
  },
  {
   "cell_type": "code",
   "execution_count": 1,
   "metadata": {},
   "outputs": [],
   "source": [
    "import pandas as pd\n",
    "import numpy as np\n",
    "import matplotlib.pyplot as plt\n",
    "import seaborn as sns\n",
    "import eurostat\n",
    "import plotly.express as px # Graphics\n",
    "from MyFunctions import EUcountries\n",
    "from pyspark.sql import SparkSession \n",
    "from pyspark.sql.types import StructField, StructType, StringType, IntegerType, FloatType \n",
    "from pyspark.sql import functions as func"
   ]
  },
  {
   "cell_type": "code",
   "execution_count": 2,
   "metadata": {},
   "outputs": [],
   "source": [
    "spark = SparkSession.builder.appName(\"PopulationAndEmpl\").master(\"local\") .getOrCreate() "
   ]
  },
  {
   "cell_type": "markdown",
   "metadata": {},
   "source": [
    "### Exploración DF"
   ]
  },
  {
   "cell_type": "code",
   "execution_count": 3,
   "metadata": {
    "scrolled": true
   },
   "outputs": [
    {
     "name": "stdout",
     "output_type": "stream",
     "text": [
      "<class 'pandas.core.frame.DataFrame'>\n",
      "RangeIndex: 1264 entries, 0 to 1263\n",
      "Columns: 191 entries, unit to 1975Q1\n",
      "dtypes: float64(187), object(4)\n",
      "memory usage: 1.8+ MB\n"
     ]
    }
   ],
   "source": [
    "# # Load data on Population and employment\n",
    "import eurostat\n",
    "PopEmpl = eurostat.get_data_df('namq_10_pe')\n",
    "PopEmpl.info()"
   ]
  },
  {
   "cell_type": "code",
   "execution_count": 4,
   "metadata": {},
   "outputs": [
    {
     "name": "stdout",
     "output_type": "stream",
     "text": [
      "Dataset actualizado a: 29 de Octubre 2021\n",
      "Nº de filas / entradas:  1264\n",
      "Nº de columnas / variables:  191\n",
      "Tipo de datos para cada variable: \n"
     ]
    },
    {
     "data": {
      "text/plain": [
       "unit         object\n",
       "s_adj        object\n",
       "na_item      object\n",
       "geo\\time     object\n",
       "2021Q3      float64\n",
       "             ...   \n",
       "1976Q1      float64\n",
       "1975Q4      float64\n",
       "1975Q3      float64\n",
       "1975Q2      float64\n",
       "1975Q1      float64\n",
       "Length: 191, dtype: object"
      ]
     },
     "metadata": {},
     "output_type": "display_data"
    },
    {
     "name": "stdout",
     "output_type": "stream",
     "text": [
      "Total valores nulos:  109075\n",
      "Variables con valores nulos: \n",
      "  2021Q3:  1204 valores nulos\n",
      "  2018Q3:  66 valores nulos\n"
     ]
    }
   ],
   "source": [
    "print(\"Dataset actualizado a: 29 de Octubre 2021\")\n",
    "print(\"Nº de filas / entradas: \", PopEmpl.shape[0])\n",
    "print(\"Nº de columnas / variables: \", PopEmpl.shape[1])\n",
    "print(\"Tipo de datos para cada variable: \")\n",
    "display(PopEmpl.dtypes)\n",
    "print(\"Total valores nulos: \", PopEmpl.isnull().sum().sum())\n",
    "print(\"Variables con valores nulos: \")\n",
    "print(\"  2021Q3: \", PopEmpl['2021Q3'].isnull().sum().sum(), \"valores nulos\")\n",
    "print(\"  2018Q3: \", PopEmpl['2018Q3'].isnull().sum().sum(),  \"valores nulos\")"
   ]
  },
  {
   "cell_type": "code",
   "execution_count": 5,
   "metadata": {},
   "outputs": [
    {
     "data": {
      "text/html": [
       "<div>\n",
       "<style scoped>\n",
       "    .dataframe tbody tr th:only-of-type {\n",
       "        vertical-align: middle;\n",
       "    }\n",
       "\n",
       "    .dataframe tbody tr th {\n",
       "        vertical-align: top;\n",
       "    }\n",
       "\n",
       "    .dataframe thead th {\n",
       "        text-align: right;\n",
       "    }\n",
       "</style>\n",
       "<table border=\"1\" class=\"dataframe\">\n",
       "  <thead>\n",
       "    <tr style=\"text-align: right;\">\n",
       "      <th></th>\n",
       "      <th>unit</th>\n",
       "      <th>s_adj</th>\n",
       "      <th>na_item</th>\n",
       "      <th>geo\\time</th>\n",
       "      <th>2021Q3</th>\n",
       "      <th>2021Q2</th>\n",
       "      <th>2021Q1</th>\n",
       "      <th>2020Q4</th>\n",
       "      <th>2020Q3</th>\n",
       "      <th>2020Q2</th>\n",
       "      <th>...</th>\n",
       "      <th>1977Q2</th>\n",
       "      <th>1977Q1</th>\n",
       "      <th>1976Q4</th>\n",
       "      <th>1976Q3</th>\n",
       "      <th>1976Q2</th>\n",
       "      <th>1976Q1</th>\n",
       "      <th>1975Q4</th>\n",
       "      <th>1975Q3</th>\n",
       "      <th>1975Q2</th>\n",
       "      <th>1975Q1</th>\n",
       "    </tr>\n",
       "  </thead>\n",
       "  <tbody>\n",
       "    <tr>\n",
       "      <th>371</th>\n",
       "      <td>PCH_SM_PER</td>\n",
       "      <td>NSA</td>\n",
       "      <td>SAL_DC</td>\n",
       "      <td>BG</td>\n",
       "      <td>NaN</td>\n",
       "      <td>2.20</td>\n",
       "      <td>-1.80</td>\n",
       "      <td>-2.50</td>\n",
       "      <td>-3.80</td>\n",
       "      <td>-4.60</td>\n",
       "      <td>...</td>\n",
       "      <td>NaN</td>\n",
       "      <td>NaN</td>\n",
       "      <td>NaN</td>\n",
       "      <td>NaN</td>\n",
       "      <td>NaN</td>\n",
       "      <td>NaN</td>\n",
       "      <td>NaN</td>\n",
       "      <td>NaN</td>\n",
       "      <td>NaN</td>\n",
       "      <td>NaN</td>\n",
       "    </tr>\n",
       "    <tr>\n",
       "      <th>1083</th>\n",
       "      <td>THS_PER</td>\n",
       "      <td>SCA</td>\n",
       "      <td>EMP_DC</td>\n",
       "      <td>BE</td>\n",
       "      <td>NaN</td>\n",
       "      <td>4963.90</td>\n",
       "      <td>4926.70</td>\n",
       "      <td>4912.30</td>\n",
       "      <td>4882.50</td>\n",
       "      <td>4873.70</td>\n",
       "      <td>...</td>\n",
       "      <td>NaN</td>\n",
       "      <td>NaN</td>\n",
       "      <td>NaN</td>\n",
       "      <td>NaN</td>\n",
       "      <td>NaN</td>\n",
       "      <td>NaN</td>\n",
       "      <td>NaN</td>\n",
       "      <td>NaN</td>\n",
       "      <td>NaN</td>\n",
       "      <td>NaN</td>\n",
       "    </tr>\n",
       "    <tr>\n",
       "      <th>996</th>\n",
       "      <td>THS_PER</td>\n",
       "      <td>NSA</td>\n",
       "      <td>SELF_NC</td>\n",
       "      <td>CH</td>\n",
       "      <td>NaN</td>\n",
       "      <td>441.33</td>\n",
       "      <td>438.01</td>\n",
       "      <td>441.03</td>\n",
       "      <td>442.72</td>\n",
       "      <td>433.18</td>\n",
       "      <td>...</td>\n",
       "      <td>NaN</td>\n",
       "      <td>NaN</td>\n",
       "      <td>NaN</td>\n",
       "      <td>NaN</td>\n",
       "      <td>NaN</td>\n",
       "      <td>NaN</td>\n",
       "      <td>NaN</td>\n",
       "      <td>NaN</td>\n",
       "      <td>NaN</td>\n",
       "      <td>NaN</td>\n",
       "    </tr>\n",
       "    <tr>\n",
       "      <th>107</th>\n",
       "      <td>PCH_PRE_PER</td>\n",
       "      <td>SCA</td>\n",
       "      <td>EMP_NC</td>\n",
       "      <td>SI</td>\n",
       "      <td>NaN</td>\n",
       "      <td>0.30</td>\n",
       "      <td>0.60</td>\n",
       "      <td>0.50</td>\n",
       "      <td>0.50</td>\n",
       "      <td>-2.50</td>\n",
       "      <td>...</td>\n",
       "      <td>NaN</td>\n",
       "      <td>NaN</td>\n",
       "      <td>NaN</td>\n",
       "      <td>NaN</td>\n",
       "      <td>NaN</td>\n",
       "      <td>NaN</td>\n",
       "      <td>NaN</td>\n",
       "      <td>NaN</td>\n",
       "      <td>NaN</td>\n",
       "      <td>NaN</td>\n",
       "    </tr>\n",
       "    <tr>\n",
       "      <th>73</th>\n",
       "      <td>PCH_PRE_PER</td>\n",
       "      <td>SCA</td>\n",
       "      <td>EMP_DC</td>\n",
       "      <td>IE</td>\n",
       "      <td>NaN</td>\n",
       "      <td>3.70</td>\n",
       "      <td>-1.80</td>\n",
       "      <td>0.40</td>\n",
       "      <td>3.30</td>\n",
       "      <td>-6.00</td>\n",
       "      <td>...</td>\n",
       "      <td>NaN</td>\n",
       "      <td>NaN</td>\n",
       "      <td>NaN</td>\n",
       "      <td>NaN</td>\n",
       "      <td>NaN</td>\n",
       "      <td>NaN</td>\n",
       "      <td>NaN</td>\n",
       "      <td>NaN</td>\n",
       "      <td>NaN</td>\n",
       "      <td>NaN</td>\n",
       "    </tr>\n",
       "  </tbody>\n",
       "</table>\n",
       "<p>5 rows × 191 columns</p>\n",
       "</div>"
      ],
      "text/plain": [
       "             unit s_adj  na_item geo\\time  2021Q3   2021Q2   2021Q1   2020Q4  \\\n",
       "371    PCH_SM_PER   NSA   SAL_DC       BG     NaN     2.20    -1.80    -2.50   \n",
       "1083      THS_PER   SCA   EMP_DC       BE     NaN  4963.90  4926.70  4912.30   \n",
       "996       THS_PER   NSA  SELF_NC       CH     NaN   441.33   438.01   441.03   \n",
       "107   PCH_PRE_PER   SCA   EMP_NC       SI     NaN     0.30     0.60     0.50   \n",
       "73    PCH_PRE_PER   SCA   EMP_DC       IE     NaN     3.70    -1.80     0.40   \n",
       "\n",
       "       2020Q3   2020Q2  ...  1977Q2  1977Q1  1976Q4  1976Q3  1976Q2  1976Q1  \\\n",
       "371     -3.80    -4.60  ...     NaN     NaN     NaN     NaN     NaN     NaN   \n",
       "1083  4882.50  4873.70  ...     NaN     NaN     NaN     NaN     NaN     NaN   \n",
       "996    442.72   433.18  ...     NaN     NaN     NaN     NaN     NaN     NaN   \n",
       "107      0.50    -2.50  ...     NaN     NaN     NaN     NaN     NaN     NaN   \n",
       "73       3.30    -6.00  ...     NaN     NaN     NaN     NaN     NaN     NaN   \n",
       "\n",
       "      1975Q4  1975Q3  1975Q2  1975Q1  \n",
       "371      NaN     NaN     NaN     NaN  \n",
       "1083     NaN     NaN     NaN     NaN  \n",
       "996      NaN     NaN     NaN     NaN  \n",
       "107      NaN     NaN     NaN     NaN  \n",
       "73       NaN     NaN     NaN     NaN  \n",
       "\n",
       "[5 rows x 191 columns]"
      ]
     },
     "execution_count": 5,
     "metadata": {},
     "output_type": "execute_result"
    }
   ],
   "source": [
    "PopEmpl.sample(5)"
   ]
  },
  {
   "cell_type": "code",
   "execution_count": 6,
   "metadata": {},
   "outputs": [],
   "source": [
    "#2021Q3 Tiene demasiados datos null \n",
    "PopEmpl.drop(['2021Q3'], axis=1, inplace=True)"
   ]
  },
  {
   "cell_type": "code",
   "execution_count": 7,
   "metadata": {},
   "outputs": [
    {
     "name": "stdout",
     "output_type": "stream",
     "text": [
      "Descripción Variables: \n",
      "Unit: Unidad de medida\n",
      "['PCH_PRE_PER' 'PCH_SM_PER' 'THS_PER']\n",
      "Tipo: Object\n",
      "--------------------------------------------------------------------\n",
      "s_adj: Ajuste estacional\n",
      "['SA' 'SCA' 'CA' 'NSA']\n",
      "Tipo: Object\n",
      "--------------------------------------------------------------------\n",
      "na_item: Indicador de cuentas nacionales\n",
      "['EMP_DC' 'EMP_NC' 'POP_NC' 'SAL_DC' 'SAL_NC' 'SELF_DC' 'SELF_NC']\n",
      "Tipo: Object\n",
      "--------------------------------------------------------------------\n"
     ]
    }
   ],
   "source": [
    "print('Descripción Variables: ')\n",
    "print('Unit: Unidad de medida')\n",
    "print(PopEmpl.unit.unique())\n",
    "print('Tipo: Object')\n",
    "print('--------------------------------------------------------------------')\n",
    "print('s_adj: Ajuste estacional')\n",
    "print(PopEmpl.s_adj.unique())\n",
    "print('Tipo: Object')\n",
    "print('--------------------------------------------------------------------')\n",
    "print('na_item: Indicador de cuentas nacionales')\n",
    "print(PopEmpl.na_item.unique())\n",
    "print('Tipo: Object')\n",
    "print('--------------------------------------------------------------------')\n"
   ]
  },
  {
   "cell_type": "markdown",
   "metadata": {},
   "source": [
    "### Limpieza y preparación"
   ]
  },
  {
   "cell_type": "markdown",
   "metadata": {},
   "source": [
    "**FILTROS**:\n",
    "\n",
    "* Primer filtro: trimestres en este caso dejaré datos del año 2018 en adelante  "
   ]
  },
  {
   "cell_type": "code",
   "execution_count": 8,
   "metadata": {},
   "outputs": [],
   "source": [
    "#Primer filtro: trimestres en este caso dejaré datos del año 2007 en adelante, por ser el ultimo año en el que algún país ingresó formalment a la UE\n",
    "PopEmpl.drop(PopEmpl.iloc[:,18:], inplace = True, axis = 1) "
   ]
  },
  {
   "cell_type": "code",
   "execution_count": 9,
   "metadata": {},
   "outputs": [],
   "source": [
    "#Rename columns\n",
    "\n",
    "PopEmpl.columns = ['unit','s_adj', 'na_item', 'country', '2021Q2', '2021Q1', '2020Q4', '2020Q3', '2020Q2', '2020Q1', '2019Q4',\n",
    "                '2019Q3', '2019Q2', '2019Q1', '2018Q4',  '2018Q3', '2018Q2', '2018Q1']"
   ]
  },
  {
   "cell_type": "markdown",
   "metadata": {},
   "source": [
    "Segundo filtro: filtrar por los paises miembros de la UE"
   ]
  },
  {
   "cell_type": "code",
   "execution_count": 10,
   "metadata": {},
   "outputs": [
    {
     "data": {
      "text/plain": [
       "array(['CZ', 'EL', 'FR', 'MT', 'PL', 'PT', 'IT', 'AT', 'BE', 'BG', 'CY',\n",
       "       'DE', 'DK', 'EE', 'ES', 'FI', 'HR', 'HU', 'IE', 'LT', 'LU', 'LV',\n",
       "       'NL', 'RO', 'SE', 'SI', 'SK'], dtype=object)"
      ]
     },
     "execution_count": 10,
     "metadata": {},
     "output_type": "execute_result"
    }
   ],
   "source": [
    "# Segundo filtro: filtrar por los paises miembros de la UE\n",
    "# from MyFunctions import DF EU countries.\n",
    "\n",
    "PopEmpl = PopEmpl[PopEmpl.country.isin(EUcountries().Code)]\n",
    "\n",
    "#Verico que estén los 27\n",
    "PopEmpl['country'].unique()"
   ]
  },
  {
   "cell_type": "code",
   "execution_count": 11,
   "metadata": {},
   "outputs": [
    {
     "data": {
      "text/html": [
       "<div>\n",
       "<style scoped>\n",
       "    .dataframe tbody tr th:only-of-type {\n",
       "        vertical-align: middle;\n",
       "    }\n",
       "\n",
       "    .dataframe tbody tr th {\n",
       "        vertical-align: top;\n",
       "    }\n",
       "\n",
       "    .dataframe thead th {\n",
       "        text-align: right;\n",
       "    }\n",
       "</style>\n",
       "<table border=\"1\" class=\"dataframe\">\n",
       "  <thead>\n",
       "    <tr style=\"text-align: right;\">\n",
       "      <th></th>\n",
       "      <th>unit</th>\n",
       "      <th>s_adj</th>\n",
       "      <th>na_item</th>\n",
       "      <th>country</th>\n",
       "      <th>2021Q2</th>\n",
       "      <th>2021Q1</th>\n",
       "      <th>2020Q4</th>\n",
       "      <th>2020Q3</th>\n",
       "      <th>2020Q2</th>\n",
       "      <th>2020Q1</th>\n",
       "      <th>2019Q4</th>\n",
       "      <th>2019Q3</th>\n",
       "      <th>2019Q2</th>\n",
       "      <th>2019Q1</th>\n",
       "      <th>2018Q4</th>\n",
       "      <th>2018Q3</th>\n",
       "      <th>2018Q2</th>\n",
       "      <th>2018Q1</th>\n",
       "    </tr>\n",
       "  </thead>\n",
       "  <tbody>\n",
       "    <tr>\n",
       "      <th>1261</th>\n",
       "      <td>THS_PER</td>\n",
       "      <td>SCA</td>\n",
       "      <td>SELF_NC</td>\n",
       "      <td>SI</td>\n",
       "      <td>200.02</td>\n",
       "      <td>200.2</td>\n",
       "      <td>199.8</td>\n",
       "      <td>199.95</td>\n",
       "      <td>196.78</td>\n",
       "      <td>199.21</td>\n",
       "      <td>198.86</td>\n",
       "      <td>198.05</td>\n",
       "      <td>197.4</td>\n",
       "      <td>196.49</td>\n",
       "      <td>195.62</td>\n",
       "      <td>194.8</td>\n",
       "      <td>194.0</td>\n",
       "      <td>193.33</td>\n",
       "    </tr>\n",
       "    <tr>\n",
       "      <th>118</th>\n",
       "      <td>PCH_PRE_PER</td>\n",
       "      <td>SCA</td>\n",
       "      <td>POP_NC</td>\n",
       "      <td>FI</td>\n",
       "      <td>0.10</td>\n",
       "      <td>0.0</td>\n",
       "      <td>0.1</td>\n",
       "      <td>0.10</td>\n",
       "      <td>0.00</td>\n",
       "      <td>0.00</td>\n",
       "      <td>0.00</td>\n",
       "      <td>0.10</td>\n",
       "      <td>0.0</td>\n",
       "      <td>0.00</td>\n",
       "      <td>0.00</td>\n",
       "      <td>0.0</td>\n",
       "      <td>0.0</td>\n",
       "      <td>0.00</td>\n",
       "    </tr>\n",
       "    <tr>\n",
       "      <th>299</th>\n",
       "      <td>PCH_SM_PER</td>\n",
       "      <td>NSA</td>\n",
       "      <td>EMP_NC</td>\n",
       "      <td>BE</td>\n",
       "      <td>1.80</td>\n",
       "      <td>0.4</td>\n",
       "      <td>-0.2</td>\n",
       "      <td>-0.50</td>\n",
       "      <td>-0.30</td>\n",
       "      <td>0.90</td>\n",
       "      <td>1.60</td>\n",
       "      <td>1.60</td>\n",
       "      <td>1.5</td>\n",
       "      <td>1.60</td>\n",
       "      <td>1.40</td>\n",
       "      <td>1.4</td>\n",
       "      <td>1.4</td>\n",
       "      <td>1.70</td>\n",
       "    </tr>\n",
       "    <tr>\n",
       "      <th>614</th>\n",
       "      <td>PCH_SM_PER</td>\n",
       "      <td>SCA</td>\n",
       "      <td>EMP_NC</td>\n",
       "      <td>LV</td>\n",
       "      <td>1.00</td>\n",
       "      <td>-6.5</td>\n",
       "      <td>-3.0</td>\n",
       "      <td>-2.70</td>\n",
       "      <td>-1.50</td>\n",
       "      <td>-0.20</td>\n",
       "      <td>0.40</td>\n",
       "      <td>-0.20</td>\n",
       "      <td>-0.4</td>\n",
       "      <td>0.70</td>\n",
       "      <td>0.80</td>\n",
       "      <td>1.8</td>\n",
       "      <td>1.9</td>\n",
       "      <td>1.60</td>\n",
       "    </tr>\n",
       "  </tbody>\n",
       "</table>\n",
       "</div>"
      ],
      "text/plain": [
       "             unit s_adj  na_item country  2021Q2  2021Q1  2020Q4  2020Q3  \\\n",
       "1261      THS_PER   SCA  SELF_NC      SI  200.02   200.2   199.8  199.95   \n",
       "118   PCH_PRE_PER   SCA   POP_NC      FI    0.10     0.0     0.1    0.10   \n",
       "299    PCH_SM_PER   NSA   EMP_NC      BE    1.80     0.4    -0.2   -0.50   \n",
       "614    PCH_SM_PER   SCA   EMP_NC      LV    1.00    -6.5    -3.0   -2.70   \n",
       "\n",
       "      2020Q2  2020Q1  2019Q4  2019Q3  2019Q2  2019Q1  2018Q4  2018Q3  2018Q2  \\\n",
       "1261  196.78  199.21  198.86  198.05   197.4  196.49  195.62   194.8   194.0   \n",
       "118     0.00    0.00    0.00    0.10     0.0    0.00    0.00     0.0     0.0   \n",
       "299    -0.30    0.90    1.60    1.60     1.5    1.60    1.40     1.4     1.4   \n",
       "614    -1.50   -0.20    0.40   -0.20    -0.4    0.70    0.80     1.8     1.9   \n",
       "\n",
       "      2018Q1  \n",
       "1261  193.33  \n",
       "118     0.00  \n",
       "299     1.70  \n",
       "614     1.60  "
      ]
     },
     "execution_count": 11,
     "metadata": {},
     "output_type": "execute_result"
    }
   ],
   "source": [
    "PopEmpl.sample(4)"
   ]
  },
  {
   "cell_type": "code",
   "execution_count": 12,
   "metadata": {},
   "outputs": [
    {
     "data": {
      "text/plain": [
       "84"
      ]
     },
     "execution_count": 12,
     "metadata": {},
     "output_type": "execute_result"
    }
   ],
   "source": [
    "#Busco null values\n",
    "PopEmpl.isnull().sum().sum()"
   ]
  },
  {
   "cell_type": "code",
   "execution_count": 13,
   "metadata": {},
   "outputs": [
    {
     "data": {
      "text/html": [
       "<div>\n",
       "<style scoped>\n",
       "    .dataframe tbody tr th:only-of-type {\n",
       "        vertical-align: middle;\n",
       "    }\n",
       "\n",
       "    .dataframe tbody tr th {\n",
       "        vertical-align: top;\n",
       "    }\n",
       "\n",
       "    .dataframe thead th {\n",
       "        text-align: right;\n",
       "    }\n",
       "</style>\n",
       "<table border=\"1\" class=\"dataframe\">\n",
       "  <thead>\n",
       "    <tr style=\"text-align: right;\">\n",
       "      <th></th>\n",
       "      <th>unit</th>\n",
       "      <th>s_adj</th>\n",
       "      <th>na_item</th>\n",
       "      <th>country</th>\n",
       "      <th>2021Q2</th>\n",
       "      <th>2021Q1</th>\n",
       "      <th>2020Q4</th>\n",
       "      <th>2020Q3</th>\n",
       "      <th>2020Q2</th>\n",
       "      <th>2020Q1</th>\n",
       "      <th>2019Q4</th>\n",
       "      <th>2019Q3</th>\n",
       "      <th>2019Q2</th>\n",
       "      <th>2019Q1</th>\n",
       "      <th>2018Q4</th>\n",
       "      <th>2018Q3</th>\n",
       "      <th>2018Q2</th>\n",
       "      <th>2018Q1</th>\n",
       "    </tr>\n",
       "  </thead>\n",
       "  <tbody>\n",
       "    <tr>\n",
       "      <th>20</th>\n",
       "      <td>PCH_PRE_PER</td>\n",
       "      <td>SA</td>\n",
       "      <td>POP_NC</td>\n",
       "      <td>IT</td>\n",
       "      <td>NaN</td>\n",
       "      <td>NaN</td>\n",
       "      <td>NaN</td>\n",
       "      <td>NaN</td>\n",
       "      <td>NaN</td>\n",
       "      <td>NaN</td>\n",
       "      <td>NaN</td>\n",
       "      <td>NaN</td>\n",
       "      <td>NaN</td>\n",
       "      <td>NaN</td>\n",
       "      <td>NaN</td>\n",
       "      <td>NaN</td>\n",
       "      <td>NaN</td>\n",
       "      <td>NaN</td>\n",
       "    </tr>\n",
       "    <tr>\n",
       "      <th>1046</th>\n",
       "      <td>THS_PER</td>\n",
       "      <td>SA</td>\n",
       "      <td>POP_NC</td>\n",
       "      <td>IT</td>\n",
       "      <td>NaN</td>\n",
       "      <td>NaN</td>\n",
       "      <td>NaN</td>\n",
       "      <td>NaN</td>\n",
       "      <td>NaN</td>\n",
       "      <td>NaN</td>\n",
       "      <td>NaN</td>\n",
       "      <td>NaN</td>\n",
       "      <td>NaN</td>\n",
       "      <td>NaN</td>\n",
       "      <td>NaN</td>\n",
       "      <td>NaN</td>\n",
       "      <td>NaN</td>\n",
       "      <td>NaN</td>\n",
       "    </tr>\n",
       "    <tr>\n",
       "      <th>1048</th>\n",
       "      <td>THS_PER</td>\n",
       "      <td>SA</td>\n",
       "      <td>POP_NC</td>\n",
       "      <td>PL</td>\n",
       "      <td>NaN</td>\n",
       "      <td>NaN</td>\n",
       "      <td>NaN</td>\n",
       "      <td>NaN</td>\n",
       "      <td>NaN</td>\n",
       "      <td>NaN</td>\n",
       "      <td>NaN</td>\n",
       "      <td>NaN</td>\n",
       "      <td>NaN</td>\n",
       "      <td>NaN</td>\n",
       "      <td>NaN</td>\n",
       "      <td>NaN</td>\n",
       "      <td>NaN</td>\n",
       "      <td>NaN</td>\n",
       "    </tr>\n",
       "    <tr>\n",
       "      <th>22</th>\n",
       "      <td>PCH_PRE_PER</td>\n",
       "      <td>SA</td>\n",
       "      <td>POP_NC</td>\n",
       "      <td>PL</td>\n",
       "      <td>NaN</td>\n",
       "      <td>NaN</td>\n",
       "      <td>NaN</td>\n",
       "      <td>NaN</td>\n",
       "      <td>NaN</td>\n",
       "      <td>NaN</td>\n",
       "      <td>NaN</td>\n",
       "      <td>NaN</td>\n",
       "      <td>NaN</td>\n",
       "      <td>NaN</td>\n",
       "      <td>NaN</td>\n",
       "      <td>NaN</td>\n",
       "      <td>NaN</td>\n",
       "      <td>NaN</td>\n",
       "    </tr>\n",
       "    <tr>\n",
       "      <th>533</th>\n",
       "      <td>PCH_SM_PER</td>\n",
       "      <td>SA</td>\n",
       "      <td>POP_NC</td>\n",
       "      <td>IT</td>\n",
       "      <td>NaN</td>\n",
       "      <td>NaN</td>\n",
       "      <td>NaN</td>\n",
       "      <td>NaN</td>\n",
       "      <td>NaN</td>\n",
       "      <td>NaN</td>\n",
       "      <td>NaN</td>\n",
       "      <td>NaN</td>\n",
       "      <td>NaN</td>\n",
       "      <td>NaN</td>\n",
       "      <td>NaN</td>\n",
       "      <td>NaN</td>\n",
       "      <td>NaN</td>\n",
       "      <td>NaN</td>\n",
       "    </tr>\n",
       "  </tbody>\n",
       "</table>\n",
       "</div>"
      ],
      "text/plain": [
       "             unit s_adj na_item country  2021Q2  2021Q1  2020Q4  2020Q3  \\\n",
       "20    PCH_PRE_PER    SA  POP_NC      IT     NaN     NaN     NaN     NaN   \n",
       "1046      THS_PER    SA  POP_NC      IT     NaN     NaN     NaN     NaN   \n",
       "1048      THS_PER    SA  POP_NC      PL     NaN     NaN     NaN     NaN   \n",
       "22    PCH_PRE_PER    SA  POP_NC      PL     NaN     NaN     NaN     NaN   \n",
       "533    PCH_SM_PER    SA  POP_NC      IT     NaN     NaN     NaN     NaN   \n",
       "\n",
       "      2020Q2  2020Q1  2019Q4  2019Q3  2019Q2  2019Q1  2018Q4  2018Q3  2018Q2  \\\n",
       "20       NaN     NaN     NaN     NaN     NaN     NaN     NaN     NaN     NaN   \n",
       "1046     NaN     NaN     NaN     NaN     NaN     NaN     NaN     NaN     NaN   \n",
       "1048     NaN     NaN     NaN     NaN     NaN     NaN     NaN     NaN     NaN   \n",
       "22       NaN     NaN     NaN     NaN     NaN     NaN     NaN     NaN     NaN   \n",
       "533      NaN     NaN     NaN     NaN     NaN     NaN     NaN     NaN     NaN   \n",
       "\n",
       "      2018Q1  \n",
       "20       NaN  \n",
       "1046     NaN  \n",
       "1048     NaN  \n",
       "22       NaN  \n",
       "533      NaN  "
      ]
     },
     "execution_count": 13,
     "metadata": {},
     "output_type": "execute_result"
    }
   ],
   "source": [
    "#Muestra de algunos valores nulos\n",
    "PopEmpl[PopEmpl.isnull().any(1)].sample(5)\n",
    "\n",
    "# despuues de varias samples coinciden con código na_item POP_NC Total population national concept y SA Seasonally adjusted data, not calendar adjusted data                         "
   ]
  },
  {
   "cell_type": "code",
   "execution_count": 14,
   "metadata": {},
   "outputs": [],
   "source": [
    "# Cargo los diccionarios para PopEmpl desde el bulkdown de Eurostat\n",
    "unit = eurostat.get_dic('unit')\n",
    "s_adj = eurostat.get_dic('s_adj')\n",
    "na_item =eurostat.get_dic('na_item')\n",
    "geo =eurostat.get_dic('geo')"
   ]
  },
  {
   "cell_type": "code",
   "execution_count": 15,
   "metadata": {},
   "outputs": [],
   "source": [
    "#Uso la variable broadcast porque solo me interesan los datos presentes en el dataframe\n",
    "broadcast_unit = spark.sparkContext.broadcast(unit)\n",
    "broadcast_s_adj = spark.sparkContext.broadcast(s_adj)\n",
    "broadcast_na_item = spark.sparkContext.broadcast(na_item)\n",
    "broadcast_geo = spark.sparkContext.broadcast(geo)"
   ]
  },
  {
   "cell_type": "code",
   "execution_count": 16,
   "metadata": {},
   "outputs": [],
   "source": [
    "PopAndEmp = spark.createDataFrame(PopEmpl)"
   ]
  },
  {
   "cell_type": "code",
   "execution_count": 17,
   "metadata": {
    "scrolled": true
   },
   "outputs": [
    {
     "name": "stdout",
     "output_type": "stream",
     "text": [
      "root\n",
      " |-- unit: string (nullable = true)\n",
      " |-- s_adj: string (nullable = true)\n",
      " |-- na_item: string (nullable = true)\n",
      " |-- country: string (nullable = true)\n",
      " |-- 2021Q2: double (nullable = true)\n",
      " |-- 2021Q1: double (nullable = true)\n",
      " |-- 2020Q4: double (nullable = true)\n",
      " |-- 2020Q3: double (nullable = true)\n",
      " |-- 2020Q2: double (nullable = true)\n",
      " |-- 2020Q1: double (nullable = true)\n",
      " |-- 2019Q4: double (nullable = true)\n",
      " |-- 2019Q3: double (nullable = true)\n",
      " |-- 2019Q2: double (nullable = true)\n",
      " |-- 2019Q1: double (nullable = true)\n",
      " |-- 2018Q4: double (nullable = true)\n",
      " |-- 2018Q3: double (nullable = true)\n",
      " |-- 2018Q2: double (nullable = true)\n",
      " |-- 2018Q1: double (nullable = true)\n",
      "\n"
     ]
    }
   ],
   "source": [
    "PopAndEmp.printSchema()"
   ]
  },
  {
   "cell_type": "code",
   "execution_count": 18,
   "metadata": {},
   "outputs": [
    {
     "name": "stdout",
     "output_type": "stream",
     "text": [
      "----------------------------------------------\n",
      "Codes in Population and Employmnet DataFrame\n",
      "----------------------------------------------\n",
      "+-----------+-----+-----------------------------------------------------------------------------+\n",
      "|unit       |count|UnitDesc                                                                     |\n",
      "+-----------+-----+-----------------------------------------------------------------------------+\n",
      "|PCH_SM_PER |398  |Percentage change compared to same period in previous year (based on persons)|\n",
      "|THS_PER    |398  |Thousand persons                                                             |\n",
      "|PCH_PRE_PER|188  |Percentage change on previous period (based on persons)                      |\n",
      "+-----------+-----+-----------------------------------------------------------------------------+\n",
      "\n",
      "+-----+-----+-----------------------------------------------------------------------------+\n",
      "|s_adj|count|s_adjDesc                                                                    |\n",
      "+-----+-----+-----------------------------------------------------------------------------+\n",
      "|NSA  |378  |Unadjusted data (i.e. neither seasonally adjusted nor calendar adjusted data)|\n",
      "|SA   |129  |Seasonally adjusted data, not calendar adjusted data                         |\n",
      "|CA   |42   |Calendar adjusted data, not seasonally adjusted data                         |\n",
      "|SCA  |435  |Seasonally and calendar adjusted data                                        |\n",
      "+-----+-----+-----------------------------------------------------------------------------+\n",
      "\n",
      "+-------+-----+---------------------------------+\n",
      "|na_item|count|na_itemDesc                      |\n",
      "+-------+-----+---------------------------------+\n",
      "|POP_NC |138  |Total population national concept|\n",
      "|SAL_NC |141  |Employees national concept       |\n",
      "|SELF_DC|141  |Self-employed domestic concept   |\n",
      "|SAL_DC |141  |Employees domestic concept       |\n",
      "|EMP_NC |141  |Total employment national concept|\n",
      "|SELF_NC|141  |Self-employed national concept   |\n",
      "|EMP_DC |141  |Total employment domestic concept|\n",
      "+-------+-----+---------------------------------+\n",
      "\n",
      "+-------+-----+------------------------------------------------+\n",
      "|country|count|CountryName                                     |\n",
      "+-------+-----+------------------------------------------------+\n",
      "|LT     |35   |Lithuania                                       |\n",
      "|FI     |49   |Finland                                         |\n",
      "|RO     |35   |Romania                                         |\n",
      "|NL     |35   |Netherlands                                     |\n",
      "|PL     |35   |Poland                                          |\n",
      "|EE     |35   |Estonia                                         |\n",
      "|AT     |35   |Austria                                         |\n",
      "|HR     |35   |Croatia                                         |\n",
      "|CZ     |35   |Czechia                                         |\n",
      "|PT     |35   |Portugal                                        |\n",
      "|MT     |35   |Malta                                           |\n",
      "|DE     |35   |Germany (until 1990 former territory of the FRG)|\n",
      "|ES     |35   |Spain                                           |\n",
      "|FR     |35   |France                                          |\n",
      "|IT     |35   |Italy                                           |\n",
      "|SE     |32   |Sweden                                          |\n",
      "|BG     |35   |Bulgaria                                        |\n",
      "|SK     |35   |Slovakia                                        |\n",
      "|LV     |49   |Latvia                                          |\n",
      "|HU     |35   |Hungary                                         |\n",
      "|CY     |35   |Cyprus                                          |\n",
      "|SI     |35   |Slovenia                                        |\n",
      "|IE     |35   |Ireland                                         |\n",
      "|EL     |35   |Greece                                          |\n",
      "|BE     |35   |Belgium                                         |\n",
      "|LU     |49   |Luxembourg                                      |\n",
      "|DK     |35   |Denmark                                         |\n",
      "+-------+-----+------------------------------------------------+\n",
      "\n"
     ]
    }
   ],
   "source": [
    "from pyspark.sql import functions as func\n",
    "\n",
    "# Look for the codes for each variable, the meaning of the codes and count how many times apears in the DF\n",
    "UnitText = PopAndEmp.groupBy(\"unit\").count()\n",
    "s_adjText = PopAndEmp.groupBy(\"s_adj\").count()\n",
    "na_itemText = PopAndEmp.groupBy(\"na_item\").count()\n",
    "geoText = PopAndEmp.groupBy(\"country\").count()\n",
    "\n",
    "# Function to look up code names from broadcasted variables\n",
    "###...Problem: I've not been able to use just one Function and replace the variables. def lookup(x)\n",
    "def lookupUnit(unit):\n",
    "    return broadcast_unit.value[unit]\n",
    "\n",
    "def lookupS_adj(s_adj):\n",
    "    return broadcast_s_adj.value[s_adj]\n",
    "\n",
    "def lookupNa_item(na_item):\n",
    "    return broadcast_na_item.value[na_item]\n",
    "\n",
    "def lookupGeo(geo):\n",
    "    return broadcast_geo.value[geo]\n",
    "\n",
    "lookupUnitUDF = func.udf(lookupUnit)\n",
    "lookupS_adjUDF = func.udf(lookupS_adj)\n",
    "lookupNa_itemUDF = func.udf(lookupNa_item)\n",
    "lookupGeoUDF = func.udf(lookupGeo)\n",
    "\n",
    "# Add a new column\n",
    "\n",
    "UnitDesc = UnitText.withColumn(\"UnitDesc\", lookupUnitUDF(func.col(\"unit\")))\n",
    "s_adjDesc = s_adjText.withColumn(\"s_adjDesc\", lookupS_adjUDF(func.col(\"s_adj\")))\n",
    "na_itemDesc = na_itemText.withColumn(\"na_itemDesc\", lookupNa_itemUDF(func.col(\"na_item\")))\n",
    "geoDesc = geoText.withColumn(\"CountryName\", lookupGeoUDF(func.col(\"Country\")))\n",
    "\n",
    "print(\"----------------------------------------------\")\n",
    "print(\"Codes in Population and Employmnet DataFrame\")\n",
    "print(\"----------------------------------------------\")\n",
    "\n",
    "UnitDesc.show(truncate=False)\n",
    "s_adjDesc.show(truncate=False)\n",
    "na_itemDesc.show(truncate=False)\n",
    "geoDesc.show(27, truncate=False)"
   ]
  },
  {
   "cell_type": "code",
   "execution_count": 19,
   "metadata": {},
   "outputs": [],
   "source": [
    "#De este DataFrame quiero todos los datos con NSA y THS_PER\n",
    "#Elimino la columna s_adj y unit\n",
    "\n",
    "s_adjconcept= ['NSA'] #Unadjusted data (i.e. neither seasonally adjusted nor calendar adjusted data) \n",
    "unitconcept = ['THS_PER'] # Thousand persons\n",
    "\n",
    "PopAndEmp = PopAndEmp.filter((PopAndEmp.s_adj.isin(s_adjconcept)) & (PopAndEmp.unit.isin(unitconcept)))\n",
    "PopAndEmp = PopAndEmp.select([c for c in PopAndEmp.columns if c not in {'s_adj'}])\n",
    "PopAndEmp = PopAndEmp.select([c for c in PopAndEmp.columns if c not in {'unit'}])"
   ]
  },
  {
   "cell_type": "code",
   "execution_count": 20,
   "metadata": {},
   "outputs": [
    {
     "name": "stdout",
     "output_type": "stream",
     "text": [
      "27\n"
     ]
    }
   ],
   "source": [
    "#verifico cant paises\n",
    "print(PopAndEmp.select(['Country']).distinct().count())"
   ]
  },
  {
   "cell_type": "code",
   "execution_count": 21,
   "metadata": {
    "scrolled": true
   },
   "outputs": [
    {
     "name": "stdout",
     "output_type": "stream",
     "text": [
      "root\n",
      " |-- na_item: string (nullable = true)\n",
      " |-- country: string (nullable = true)\n",
      " |-- 2021Q2: double (nullable = true)\n",
      " |-- 2021Q1: double (nullable = true)\n",
      " |-- 2020Q4: double (nullable = true)\n",
      " |-- 2020Q3: double (nullable = true)\n",
      " |-- 2020Q2: double (nullable = true)\n",
      " |-- 2020Q1: double (nullable = true)\n",
      " |-- 2019Q4: double (nullable = true)\n",
      " |-- 2019Q3: double (nullable = true)\n",
      " |-- 2019Q2: double (nullable = true)\n",
      " |-- 2019Q1: double (nullable = true)\n",
      " |-- 2018Q4: double (nullable = true)\n",
      " |-- 2018Q3: double (nullable = true)\n",
      " |-- 2018Q2: double (nullable = true)\n",
      " |-- 2018Q1: double (nullable = true)\n",
      "\n"
     ]
    }
   ],
   "source": [
    "PopAndEmp.printSchema()"
   ]
  },
  {
   "cell_type": "code",
   "execution_count": 22,
   "metadata": {},
   "outputs": [],
   "source": [
    "PopAndEmp = PopAndEmp.selectExpr('na_item', 'country', \"\"\"stack(14,'2021Q2', 2021Q2, '2021Q1', 2021Q1, '2020Q4', 2020Q4, '2020Q3', 2020Q3, '2020Q2', 2020Q2, '2020Q1', 2020Q1, '2019Q4', 2019Q4,\n",
    "                '2019Q3', 2019Q3, '2019Q2', 2019Q2, '2019Q1', 2019Q1, '2018Q4', 2018Q4, '2018Q3', 2018Q3, '2018Q2', 2018Q2, '2018Q1', 2018Q1) as (Date, cant)\"\"\")"
   ]
  },
  {
   "cell_type": "code",
   "execution_count": 23,
   "metadata": {},
   "outputs": [
    {
     "name": "stdout",
     "output_type": "stream",
     "text": [
      "root\n",
      " |-- na_item: string (nullable = true)\n",
      " |-- country: string (nullable = true)\n",
      " |-- Date: string (nullable = true)\n",
      " |-- cant: double (nullable = true)\n",
      "\n"
     ]
    }
   ],
   "source": [
    "PopAndEmp.printSchema()"
   ]
  },
  {
   "cell_type": "code",
   "execution_count": 24,
   "metadata": {},
   "outputs": [
    {
     "name": "stdout",
     "output_type": "stream",
     "text": [
      "+-------+-------+-------+------+------------------+\n",
      "|summary|na_item|country|  Date|              cant|\n",
      "+-------+-------+-------+------+------------------+\n",
      "|  count|   2646|   2646|  2646|              2646|\n",
      "|   mean|   null|   null|  null| 6750.356636432363|\n",
      "| stddev|   null|   null|  null|12111.722871965178|\n",
      "|    min| EMP_DC|     AT|2018Q1|             21.39|\n",
      "|    25%|   null|   null|  null|            655.07|\n",
      "|    50%|   null|   null|  null|            2633.2|\n",
      "|    75%|   null|   null|  null|           5458.74|\n",
      "|    max|SELF_NC|     SK|2021Q2|           83194.0|\n",
      "+-------+-------+-------+------+------------------+\n",
      "\n"
     ]
    }
   ],
   "source": [
    "PopAndEmp.summary().show()"
   ]
  },
  {
   "cell_type": "code",
   "execution_count": 25,
   "metadata": {},
   "outputs": [
    {
     "name": "stdout",
     "output_type": "stream",
     "text": [
      "+-------+-------+----+----+\n",
      "|na_item|country|Date|cant|\n",
      "+-------+-------+----+----+\n",
      "|      0|      0|   0|   0|\n",
      "+-------+-------+----+----+\n",
      "\n"
     ]
    }
   ],
   "source": [
    "PopAndEmp.select([func.count(func.when(func.isnan(c) | func.col(c).isNull(), c)).alias(c) for c in PopAndEmp.columns]).show()"
   ]
  },
  {
   "cell_type": "code",
   "execution_count": 26,
   "metadata": {},
   "outputs": [],
   "source": [
    "PopAndEmp_F = PopAndEmp.withColumn(\"Indicador\", lookupNa_itemUDF(func.col(\"na_item\"))).withColumn(\"CountryName\", lookupGeoUDF(func.col(\"Country\"))).orderBy('Country', \"date\")"
   ]
  },
  {
   "cell_type": "code",
   "execution_count": 27,
   "metadata": {},
   "outputs": [
    {
     "name": "stdout",
     "output_type": "stream",
     "text": [
      "+-------+-------+------+-------+--------------------+-----------+\n",
      "|na_item|country|  Date|   cant|           Indicador|CountryName|\n",
      "+-------+-------+------+-------+--------------------+-----------+\n",
      "|SELF_DC|     AT|2018Q1| 540.75|Self-employed dom...|    Austria|\n",
      "| EMP_DC|     AT|2018Q1|4404.95|Total employment ...|    Austria|\n",
      "|SELF_NC|     AT|2018Q1| 540.75|Self-employed nat...|    Austria|\n",
      "| POP_NC|     AT|2018Q1|8824.65|Total population ...|    Austria|\n",
      "| SAL_DC|     AT|2018Q1|3864.19|Employees domesti...|    Austria|\n",
      "| EMP_NC|     AT|2018Q1|4296.55|Total employment ...|    Austria|\n",
      "| SAL_NC|     AT|2018Q1|3755.79|Employees nationa...|    Austria|\n",
      "| SAL_DC|     AT|2018Q2|3933.31|Employees domesti...|    Austria|\n",
      "|SELF_DC|     AT|2018Q2| 545.38|Self-employed dom...|    Austria|\n",
      "| SAL_NC|     AT|2018Q2|3835.72|Employees nationa...|    Austria|\n",
      "| EMP_NC|     AT|2018Q2|4381.09|Total employment ...|    Austria|\n",
      "| POP_NC|     AT|2018Q2|8830.12|Total population ...|    Austria|\n",
      "|SELF_NC|     AT|2018Q2| 545.38|Self-employed nat...|    Austria|\n",
      "| EMP_DC|     AT|2018Q2|4478.68|Total employment ...|    Austria|\n",
      "| EMP_NC|     AT|2018Q3|4420.97|Total employment ...|    Austria|\n",
      "| EMP_DC|     AT|2018Q3| 4553.8|Total employment ...|    Austria|\n",
      "| SAL_DC|     AT|2018Q3|4013.14|Employees domesti...|    Austria|\n",
      "|SELF_DC|     AT|2018Q3| 540.66|Self-employed dom...|    Austria|\n",
      "| POP_NC|     AT|2018Q3|8841.63|Total population ...|    Austria|\n",
      "|SELF_NC|     AT|2018Q3| 540.66|Self-employed nat...|    Austria|\n",
      "+-------+-------+------+-------+--------------------+-----------+\n",
      "only showing top 20 rows\n",
      "\n"
     ]
    }
   ],
   "source": [
    "PopAndEmp_F.show()"
   ]
  },
  {
   "cell_type": "code",
   "execution_count": 28,
   "metadata": {},
   "outputs": [],
   "source": [
    "Germanie_Issue = PopAndEmp_F.toPandas()\n",
    "Germanie_Issue['CountryName'].replace(\n",
    "    to_replace=['Germany (until 1990 former territory of the FRG)'],\n",
    "    value='Germany',\n",
    "    inplace=True\n",
    ")\n",
    "PopAndEmp_F = spark.createDataFrame(Germanie_Issue)"
   ]
  },
  {
   "cell_type": "code",
   "execution_count": 29,
   "metadata": {},
   "outputs": [],
   "source": [
    "#Guardar en HDFS row data\n",
    "\n",
    "PopAndEmp_F.write.mode('overwrite').parquet(\"hdfs://localhost:9000//TFM_CEE/output/PopAndEmp.parquet\")"
   ]
  },
  {
   "cell_type": "code",
   "execution_count": null,
   "metadata": {},
   "outputs": [],
   "source": []
  }
 ],
 "metadata": {
  "kernelspec": {
   "display_name": "Python 3",
   "language": "python",
   "name": "python3"
  },
  "language_info": {
   "codemirror_mode": {
    "name": "ipython",
    "version": 3
   },
   "file_extension": ".py",
   "mimetype": "text/x-python",
   "name": "python",
   "nbconvert_exporter": "python",
   "pygments_lexer": "ipython3",
   "version": "3.8.5"
  }
 },
 "nbformat": 4,
 "nbformat_minor": 4
}
