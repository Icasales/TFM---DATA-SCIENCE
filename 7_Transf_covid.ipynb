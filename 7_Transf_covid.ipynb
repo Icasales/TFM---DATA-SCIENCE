{
 "cells": [
  {
   "cell_type": "markdown",
   "metadata": {},
   "source": [
    "# Transformación datos"
   ]
  },
  {
   "cell_type": "markdown",
   "metadata": {},
   "source": [
    "### 7. Transformación de datos Covid-19\n",
    "\n",
    "* Data on 14-day notification rate of new COVID-19 cases and deaths\n",
    "* Data on COVID-19 vaccination in the EU/EEA"
   ]
  },
  {
   "cell_type": "code",
   "execution_count": 1,
   "metadata": {},
   "outputs": [],
   "source": [
    "import pandas as pd\n",
    "import eurostat\n",
    "import plotly.express as px # Graphics\n",
    "from pyspark.sql import SparkSession \n",
    "from pyspark.sql.types import StructField, StructType, StringType, IntegerType, FloatType \n",
    "from pyspark.sql import functions as func"
   ]
  },
  {
   "cell_type": "code",
   "execution_count": 2,
   "metadata": {},
   "outputs": [],
   "source": [
    "spark = SparkSession.builder.appName(\"TrOnCovid\").master(\"local\") .getOrCreate() "
   ]
  },
  {
   "cell_type": "code",
   "execution_count": 3,
   "metadata": {},
   "outputs": [],
   "source": [
    "cases14day = spark.read.parquet(\"hdfs://localhost:9000/TFM_CEE/row/Weeklycases.parquet\")\n",
    "VaccinationQ = spark.read.parquet(\"hdfs://localhost:9000/TFM_CEE/row/WeeklyVaccineData.parquet\")"
   ]
  },
  {
   "cell_type": "markdown",
   "metadata": {},
   "source": [
    "#### Objetivo 1:\n",
    "- Convertir datos en variable YearWeekISO / year_weeka a datos trimestrales en nueva variable DataQ\n",
    "        - Extraer quarter y año from date\n",
    "        - Concatenar en una columna\n",
    "        - Agrupar datos por trimestre"
   ]
  },
  {
   "cell_type": "code",
   "execution_count": 4,
   "metadata": {},
   "outputs": [
    {
     "name": "stdout",
     "output_type": "stream",
     "text": [
      "+------------+-------+----------+---------+---------+----------+------------+-----------------+----------------+-------+---------+------+\n",
      "|country_code|country|population|indicator|year_week|      date|weekly_count|      rate_14_day|cumulative_count|quarter|Real_year| DateQ|\n",
      "+------------+-------+----------+---------+---------+----------+------------+-----------------+----------------+-------+---------+------+\n",
      "|         AUT|Austria|   8901064|    cases|  2020-01|2020-01-06|           0|              0.0|               0|      1|     2020|2020Q1|\n",
      "|         AUT|Austria|   8901064|    cases|  2020-02|2020-01-13|           0|              0.0|               0|      1|     2020|2020Q1|\n",
      "|         AUT|Austria|   8901064|    cases|  2020-03|2020-01-20|           0|              0.0|               0|      1|     2020|2020Q1|\n",
      "|         AUT|Austria|   8901064|    cases|  2020-04|2020-01-27|           0|              0.0|               0|      1|     2020|2020Q1|\n",
      "|         AUT|Austria|   8901064|    cases|  2020-05|2020-02-03|           0|              0.0|               0|      1|     2020|2020Q1|\n",
      "|         AUT|Austria|   8901064|    cases|  2020-06|2020-02-10|           0|              0.0|               0|      1|     2020|2020Q1|\n",
      "|         AUT|Austria|   8901064|    cases|  2020-07|2020-02-17|           0|              0.0|               0|      1|     2020|2020Q1|\n",
      "|         AUT|Austria|   8901064|    cases|  2020-08|2020-02-24|           0|              0.0|               0|      1|     2020|2020Q1|\n",
      "|         AUT|Austria|   8901064|    cases|  2020-09|2020-03-02|          12|0.134815343424112|              12|      1|     2020|2020Q1|\n",
      "|         AUT|Austria|   8901064|    cases|  2020-10|2020-03-09|         114| 1.41556110595318|             126|      1|     2020|2020Q1|\n",
      "|         AUT|Austria|   8901064|    cases|  2020-11|2020-03-16|         874| 11.0997966085852|            1000|      1|     2020|2020Q1|\n",
      "|         AUT|Austria|   8901064|    cases|  2020-12|2020-03-23|        3068| 44.2868403148208|            4068|      1|     2020|2020Q1|\n",
      "|         AUT|Austria|   8901064|    cases|  2020-13|2020-03-30|        5128| 92.0788795586685|            9196|      1|     2020|2020Q1|\n",
      "|         AUT|Austria|   8901064|    cases|  2020-14|2020-04-06|        3116| 92.6181409323649|           12312|      2|     2020|2020Q2|\n",
      "|         AUT|Austria|   8901064|    cases|  2020-15|2020-04-13|        1838| 55.6562676102542|           14150|      2|     2020|2020Q2|\n",
      "|         AUT|Austria|   8901064|    cases|  2020-16|2020-04-20|         684| 28.3336913429675|           14834|      2|     2020|2020Q2|\n",
      "|         AUT|Austria|   8901064|    cases|  2020-17|2020-04-27|         448| 12.7175807296746|           15282|      2|     2020|2020Q2|\n",
      "|         AUT|Austria|   8901064|    cases|  2020-18|2020-05-04|         312| 8.53830508352709|           15594|      2|     2020|2020Q2|\n",
      "|         AUT|Austria|   8901064|    cases|  2020-19|2020-05-11|         264| 6.47113648435738|           15858|      2|     2020|2020Q2|\n",
      "|         AUT|Austria|   8901064|    cases|  2020-20|2020-05-18|         335| 6.72953255925359|           16193|      2|     2020|2020Q2|\n",
      "+------------+-------+----------+---------+---------+----------+------------+-----------------+----------------+-------+---------+------+\n",
      "only showing top 20 rows\n",
      "\n"
     ]
    }
   ],
   "source": [
    "cases14day = cases14day.select('country_code', 'country', 'population', 'indicator', 'year_week', 'date', 'weekly_count', 'rate_14_day',\n",
    "                                'cumulative_count')\n",
    "\n",
    "#Con la función quarter extraigo el trimestre de la variable date en nueva columna quarter\n",
    "casesQ = cases14day.withColumn('quarter', func.quarter(cases14day.date)) #Covid\n",
    "VaccinationQ = VaccinationQ.withColumn('quarter', func.quarter(VaccinationQ.date)) #Vaccination\n",
    "\n",
    "#Con la función year extraigo el año de la variable date\n",
    "# No uso el año de la variable Year que ya tengo porque me he dado cuenta que la ultima semana de 2020\n",
    "# es en ralidad la primera de 2021 en modo ISO. nueva columna Real_year\n",
    "casesQ = casesQ.withColumn('Real_year', func.year(cases14day.date))\n",
    "VaccinationQ = VaccinationQ.withColumn('Real_year', func.year(VaccinationQ.date))\n",
    "\n",
    "# Nueva variable DateQ concatenando los valores de Real_year y quarter tengo el mismo formato que el resto de DF\n",
    "casesQ = casesQ.withColumn('DateQ', func.concat_ws(\"Q\",casesQ.Real_year,casesQ.quarter))\n",
    "VaccinationQ = VaccinationQ.withColumn('DateQ', func.concat_ws(\"Q\",VaccinationQ.Real_year,VaccinationQ.quarter))\n",
    "\n",
    "casesQ.show()"
   ]
  },
  {
   "cell_type": "code",
   "execution_count": 5,
   "metadata": {},
   "outputs": [
    {
     "name": "stdout",
     "output_type": "stream",
     "text": [
      "+-------+---------+------+\n",
      "|quarter|Real_year| DateQ|\n",
      "+-------+---------+------+\n",
      "|      1|     2020|2020Q1|\n",
      "|      1|     2020|2020Q1|\n",
      "+-------+---------+------+\n",
      "only showing top 2 rows\n",
      "\n"
     ]
    }
   ],
   "source": [
    "casesQ.select('quarter', 'Real_year', 'DateQ').show(2)"
   ]
  },
  {
   "cell_type": "code",
   "execution_count": 6,
   "metadata": {},
   "outputs": [],
   "source": [
    "# Una vez asignado el trimestre a cada fecha agrupo los datos por DateQ y obtengo:\n",
    "# Para weekly_count suma de casos dentro del trimestre\n",
    "# Para cumulative_count el dato más alto en determinado trimestre\n",
    "# Para rate_14_day la media para cada trimestre\n",
    "\n",
    "from pyspark.sql.functions import sum,avg,max,min,mean,count\n",
    "\n",
    "CovidCasesQ = casesQ.groupBy('country_code', 'country', 'DateQ', 'population', 'indicator') \\\n",
    "            .agg(sum('weekly_count').alias('Quarter_count'), \\\n",
    "             max('cumulative_count').alias('cumulative_count'), \\\n",
    "             avg('rate_14_day').alias('rate_Quarter')\\\n",
    "            )\\\n",
    "            .sort('country', 'indicator', 'DateQ')"
   ]
  },
  {
   "cell_type": "code",
   "execution_count": 7,
   "metadata": {},
   "outputs": [
    {
     "name": "stdout",
     "output_type": "stream",
     "text": [
      "+------------+-------+------+----------+---------+-------------+----------------+------------------+\n",
      "|country_code|country| DateQ|population|indicator|Quarter_count|cumulative_count|      rate_Quarter|\n",
      "+------------+-------+------+----------+---------+-------------+----------------+------------------+\n",
      "|         ESP|  Spain|2020Q1|  47332614|    cases|       157679|          157679| 44.09124427723027|\n",
      "|         ESP|  Spain|2020Q2|  47332614|    cases|       100538|          258217|39.433535356663576|\n",
      "|         ESP|  Spain|2020Q3|  47332614|    cases|       543499|          801716|165.47884200619376|\n",
      "+------------+-------+------+----------+---------+-------------+----------------+------------------+\n",
      "only showing top 3 rows\n",
      "\n"
     ]
    }
   ],
   "source": [
    "CovidCasesQ.filter(CovidCasesQ.country == 'Spain').show(3)"
   ]
  },
  {
   "cell_type": "code",
   "execution_count": 8,
   "metadata": {},
   "outputs": [],
   "source": [
    "# Una vez asignado el trimestre a cada fecha agrupo los datos por DateQ y obtengo para cada variable total vacunas aplicadas por timestre\n",
    "\n",
    "from pyspark.sql.functions import sum,avg,max,min,mean,count\n",
    "\n",
    "VaccinationQ = VaccinationQ.groupBy('ReportingCountry', 'DateQ', 'Vaccine', 'Denominator') \\\n",
    "            .agg(sum('FirstDose').alias('FirstDose'), \\\n",
    "             sum('SecondDose').alias('SecondDose'), \\\n",
    "             sum('UnknownDose').alias('UnknownDose')\\\n",
    "                )\\\n",
    "            .sort('ReportingCountry', 'Vaccine', 'DateQ')"
   ]
  },
  {
   "cell_type": "code",
   "execution_count": 9,
   "metadata": {
    "scrolled": true
   },
   "outputs": [
    {
     "name": "stdout",
     "output_type": "stream",
     "text": [
      "+----------------+------+-------+-----------+---------+----------+-----------+\n",
      "|ReportingCountry| DateQ|Vaccine|Denominator|FirstDose|SecondDose|UnknownDose|\n",
      "+----------------+------+-------+-----------+---------+----------+-----------+\n",
      "|              IT|2021Q1|     AZ|   50208329|  2206753|       973|          0|\n",
      "|              IT|2021Q2|     AZ|   50208329|  4195214|   2719313|          0|\n",
      "|              IT|2021Q3|     AZ|   50208329|    27517|   2817909|          0|\n",
      "+----------------+------+-------+-----------+---------+----------+-----------+\n",
      "only showing top 3 rows\n",
      "\n"
     ]
    }
   ],
   "source": [
    "#DF Vaccination por trimestre\n",
    "VaccinationQ.filter(VaccinationQ.ReportingCountry == 'IT').show(3)"
   ]
  },
  {
   "cell_type": "markdown",
   "metadata": {},
   "source": [
    "#### Objetivo 2 Covid Data:\n",
    "- Porcentaje de población casos positivos y decesos\n",
    "        - Nueva columna con porcentaje de población diagnosticada como caso positivo\n",
    "        - Nueva columna con porcentaje de población Fallecida por Covid-19"
   ]
  },
  {
   "cell_type": "code",
   "execution_count": 10,
   "metadata": {},
   "outputs": [],
   "source": [
    "CovidPercQ = CovidCasesQ.withColumn('cumulative_perc', (CovidCasesQ.cumulative_count * 100) / CovidCasesQ.population) \\\n",
    "                .withColumn('Quarter_perc', (CovidCasesQ.Quarter_count * 100) / CovidCasesQ.population) \n"
   ]
  },
  {
   "cell_type": "code",
   "execution_count": 11,
   "metadata": {},
   "outputs": [
    {
     "name": "stdout",
     "output_type": "stream",
     "text": [
      "+------------+-------+------+----------+---------+-------------+----------------+-------------+------------------+----------------+\n",
      "|country_code|country| DateQ|population|indicator|Quarter_count|cumulative_count|rate_Quarter_|Quarter_percentage|cumul_percentage|\n",
      "+------------+-------+------+----------+---------+-------------+----------------+-------------+------------------+----------------+\n",
      "|         AUT|Austria|2020Q1|   8901064|    cases|         9196|            9196|       11.463|             0.103|           0.103|\n",
      "|         AUT|Austria|2020Q2|   8901064|    cases|         8439|           17635|       18.728|             0.095|           0.198|\n",
      "|         AUT|Austria|2020Q3|   8901064|    cases|        25851|           43486|       40.947|              0.29|           0.489|\n",
      "|         AUT|Austria|2020Q4|   8901064|    cases|       307401|          350887|      523.808|             3.454|           3.942|\n",
      "|         AUT|Austria|2021Q1|   8901064|    cases|       203338|          554225|      320.371|             2.284|           6.227|\n",
      "|         AUT|Austria|2021Q2|   8901064|    cases|        90491|          644716|      173.822|             1.017|           7.243|\n",
      "|         AUT|Austria|2021Q3|   8901064|    cases|        99532|          744248|      161.698|             1.118|           8.361|\n",
      "|         AUT|Austria|2021Q4|   8901064|    cases|        86831|          831079|      425.382|             0.976|           9.337|\n",
      "|         AUT|Austria|2020Q1|   8901064|   deaths|          134|             134|        1.443|             0.002|           0.002|\n",
      "|         AUT|Austria|2020Q2|   8901064|   deaths|          597|             731|       11.114|             0.007|           0.008|\n",
      "|         AUT|Austria|2020Q3|   8901064|   deaths|           85|             816|        1.331|             0.001|           0.009|\n",
      "|         AUT|Austria|2020Q4|   8901064|   deaths|         5306|            6122|        87.95|              0.06|           0.069|\n",
      "|         AUT|Austria|2021Q1|   8901064|   deaths|         3245|            9367|       54.063|             0.036|           0.105|\n",
      "|         AUT|Austria|2021Q2|   8901064|   deaths|         1102|           10469|       20.801|             0.012|           0.118|\n",
      "|         AUT|Austria|2021Q3|   8901064|   deaths|          314|           10783|        5.038|             0.004|           0.121|\n",
      "|         AUT|Austria|2021Q4|   8901064|   deaths|          260|           11043|       14.436|             0.003|           0.124|\n",
      "|         BEL|Belgium|2020Q1|  11522440|    cases|        15483|           15483|       15.245|             0.134|           0.134|\n",
      "|         BEL|Belgium|2020Q2|  11522440|    cases|        48199|           63682|       69.377|             0.418|           0.553|\n",
      "|         BEL|Belgium|2020Q3|  11522440|    cases|        54834|          118516|       66.092|             0.476|           1.029|\n",
      "|         BEL|Belgium|2020Q4|  11522440|    cases|       523942|          642458|      698.671|             4.547|           5.576|\n",
      "+------------+-------+------+----------+---------+-------------+----------------+-------------+------------------+----------------+\n",
      "only showing top 20 rows\n",
      "\n"
     ]
    }
   ],
   "source": [
    "from pyspark.sql.functions import col, expr, when\n",
    "CovidPercQ = CovidPercQ.select(\"*\", func.round(col('cumulative_perc'),3).alias('cumul_percentage'))\n",
    "CovidPercQ = CovidPercQ.select(\"*\", func.round(col('Quarter_perc'),3).alias('Quarter_percentage'))\n",
    "CovidPercQ = CovidPercQ.select(\"*\", func.round(col('rate_Quarter'),3).alias('rate_Quarter_'))\n",
    "CovidPercQ = CovidPercQ.select(\"country_code\", \"country\", \"DateQ\", \"population\", \"indicator\", \"Quarter_count\", \"cumulative_count\",\n",
    "                               \"rate_Quarter_\", \"Quarter_percentage\", \"cumul_percentage\")\n",
    "\n",
    "\n",
    "\n",
    "CovidPercQ.show()"
   ]
  },
  {
   "cell_type": "code",
   "execution_count": 12,
   "metadata": {},
   "outputs": [],
   "source": [
    "#Guardo DF con resultados perc en hdfs /TFM_CEE/output\n",
    "#CovidPercQ.write.mode('overwrite').parquet(\"hdfs://localhost:9000/TFM_CEE/output/casesporcenpobl.parquet\")"
   ]
  },
  {
   "cell_type": "markdown",
   "metadata": {},
   "source": [
    "#### Objetivo 3 Vaccine Data:\n",
    "- Ratio de población denominator con dosis completa de vacunación\n",
    "        - Hallar datos para cantidad de dosis completa vacunación\n",
    "        - Janssen = FirstDose + UnknownDose\n",
    "        - No Janssen = SecondDose\n",
    "        - Resultados anteriores en nueva columna Fully_vaccine\n",
    "        - Sacar acumulado \n",
    "        - Hallar porcentaje de población vacunada en cada trimestre todas las vacunas\n",
    "        - Hallar porcentaje acumulado"
   ]
  },
  {
   "cell_type": "code",
   "execution_count": 13,
   "metadata": {
    "scrolled": true
   },
   "outputs": [
    {
     "name": "stdout",
     "output_type": "stream",
     "text": [
      "+----------------+------+-------+-----------+---------+----------+-----------+\n",
      "|ReportingCountry| DateQ|Vaccine|Denominator|FirstDose|SecondDose|UnknownDose|\n",
      "+----------------+------+-------+-----------+---------+----------+-----------+\n",
      "|              AT|2021Q1|  JANSS|    7358443|       59|         0|          0|\n",
      "|              AT|2021Q2|  JANSS|    7358443|   128937|        13|          0|\n",
      "|              AT|2021Q3|  JANSS|    7358443|   183302|       225|          0|\n",
      "|              AT|2021Q4|  JANSS|    7358443|    19127|        71|          0|\n",
      "|              BE|2021Q1|  JANSS|    9202196|        0|         0|          0|\n",
      "|              BE|2021Q2|  JANSS|    9202196|   268348|         0|          0|\n",
      "|              BE|2021Q3|  JANSS|    9202196|   110684|         0|          0|\n",
      "|              BE|2021Q4|  JANSS|    9202196|    14717|         0|          0|\n",
      "|              BG|2021Q2|  JANSS|    5761802|    39994|         0|          0|\n",
      "|              BG|2021Q3|  JANSS|    5761802|   155785|         0|          0|\n",
      "+----------------+------+-------+-----------+---------+----------+-----------+\n",
      "only showing top 10 rows\n",
      "\n"
     ]
    }
   ],
   "source": [
    "#Nota: planteado antes de dosis de refuerzo\n",
    "VaccinationQ.filter((VaccinationQ.Vaccine == 'JANSS')).show(10)"
   ]
  },
  {
   "cell_type": "code",
   "execution_count": 14,
   "metadata": {
    "scrolled": false
   },
   "outputs": [
    {
     "name": "stdout",
     "output_type": "stream",
     "text": [
      "+----------------+------+-------+-----------+---------+----------+-----------+\n",
      "|ReportingCountry| DateQ|Vaccine|Denominator|FirstDose|SecondDose|UnknownDose|\n",
      "+----------------+------+-------+-----------+---------+----------+-----------+\n",
      "|              AT|2021Q1|     AZ|    7358443|   421739|       154|          0|\n",
      "|              AT|2021Q2|     AZ|    7358443|   379998|    578781|          0|\n",
      "|              AT|2021Q3|     AZ|    7358443|     6429|    185758|          0|\n",
      "|              AT|2021Q4|     AZ|    7358443|      241|       723|          0|\n",
      "|              AT|2021Q1|    COM|    7358443|   784947|    492275|          0|\n",
      "|              AT|2021Q2|    COM|    7358443|  2629100|   1872751|          0|\n",
      "|              AT|2021Q3|    COM|    7358443|   476355|   1314452|          0|\n",
      "|              AT|2021Q4|    COM|    7358443|   170220|    130103|          0|\n",
      "|              AT|2021Q1|    MOD|    7358443|   116782|     23929|          0|\n",
      "|              AT|2021Q2|    MOD|    7358443|   367087|    296745|          0|\n",
      "+----------------+------+-------+-----------+---------+----------+-----------+\n",
      "only showing top 10 rows\n",
      "\n"
     ]
    }
   ],
   "source": [
    "VaccinationQ.filter((VaccinationQ.Vaccine != 'JANSS')).show(10)"
   ]
  },
  {
   "cell_type": "code",
   "execution_count": 15,
   "metadata": {},
   "outputs": [],
   "source": [
    "# Hallar datos para cantidad de dosis completa vacunación\n",
    "from pyspark.sql.functions import col, expr, when\n",
    "\n",
    "Fully_vaccine = when(col(\"Vaccine\") == 'JANSS',  (VaccinationQ.FirstDose + VaccinationQ.UnknownDose)) \\\n",
    "                .when(col(\"Vaccine\") != 'JANSS', VaccinationQ.SecondDose)"
   ]
  },
  {
   "cell_type": "code",
   "execution_count": 16,
   "metadata": {},
   "outputs": [],
   "source": [
    "VaccinationQF = VaccinationQ.withColumn(\"Fully_vaccine\", Fully_vaccine)"
   ]
  },
  {
   "cell_type": "code",
   "execution_count": 17,
   "metadata": {
    "scrolled": false
   },
   "outputs": [
    {
     "name": "stdout",
     "output_type": "stream",
     "text": [
      "+----------------+------+-------+-----------+---------+----------+-----------+-------------+\n",
      "|ReportingCountry| DateQ|Vaccine|Denominator|FirstDose|SecondDose|UnknownDose|Fully_vaccine|\n",
      "+----------------+------+-------+-----------+---------+----------+-----------+-------------+\n",
      "|              AT|2021Q1|     AZ|    7358443|   421739|       154|          0|          154|\n",
      "|              AT|2021Q2|     AZ|    7358443|   379998|    578781|          0|       578781|\n",
      "|              AT|2021Q3|     AZ|    7358443|     6429|    185758|          0|       185758|\n",
      "|              AT|2021Q4|     AZ|    7358443|      241|       723|          0|          723|\n",
      "|              AT|2021Q1|    COM|    7358443|   784947|    492275|          0|       492275|\n",
      "|              AT|2021Q2|    COM|    7358443|  2629100|   1872751|          0|      1872751|\n",
      "|              AT|2021Q3|    COM|    7358443|   476355|   1314452|          0|      1314452|\n",
      "|              AT|2021Q4|    COM|    7358443|   170220|    130103|          0|       130103|\n",
      "|              AT|2021Q1|  JANSS|    7358443|       59|         0|          0|           59|\n",
      "|              AT|2021Q2|  JANSS|    7358443|   128937|        13|          0|       128937|\n",
      "+----------------+------+-------+-----------+---------+----------+-----------+-------------+\n",
      "only showing top 10 rows\n",
      "\n"
     ]
    }
   ],
   "source": [
    "VaccinationQF.show(10)"
   ]
  },
  {
   "cell_type": "code",
   "execution_count": 18,
   "metadata": {},
   "outputs": [
    {
     "name": "stdout",
     "output_type": "stream",
     "text": [
      "+----------------+------+-----------+------------------+\n",
      "|ReportingCountry| DateQ|Denominator|sum(Fully_vaccine)|\n",
      "+----------------+------+-----------+------------------+\n",
      "|              AT|2021Q1|    7358443|            516528|\n",
      "|              AT|2021Q2|    7358443|           2877588|\n",
      "|              AT|2021Q3|    7358443|           1865563|\n",
      "|              AT|2021Q4|    7358443|            156344|\n",
      "|              BE|2021Q1|    9202196|            607894|\n",
      "|              BE|2021Q2|    9202196|           3608357|\n",
      "|              BE|2021Q3|    9202196|           3644522|\n",
      "|              BE|2021Q4|    9202196|             90022|\n",
      "|              BG|2020Q4|    5761802|                 0|\n",
      "|              BG|2021Q1|    5761802|            100880|\n",
      "|              BG|2021Q2|    5761802|            759696|\n",
      "|              BG|2021Q3|    5761802|            468464|\n",
      "|              BG|2021Q4|    5761802|            225712|\n",
      "|              CY|2020Q4|     717452|                 0|\n",
      "|              CY|2021Q1|     717452|             46697|\n",
      "|              CY|2021Q2|     717452|            338651|\n",
      "|              CY|2021Q3|     717452|            173689|\n",
      "|              CY|2021Q4|     717452|             13700|\n",
      "|              CZ|2020Q4|    8694474|                 0|\n",
      "|              CZ|2021Q1|    8694474|            584854|\n",
      "+----------------+------+-----------+------------------+\n",
      "only showing top 20 rows\n",
      "\n"
     ]
    }
   ],
   "source": [
    "VaccinationQF.groupBy('ReportingCountry', 'DateQ', 'Denominator').sum('Fully_vaccine').sort('ReportingCountry', 'DateQ').show()"
   ]
  },
  {
   "cell_type": "code",
   "execution_count": 19,
   "metadata": {},
   "outputs": [],
   "source": [
    "VaccinationQF = VaccinationQF.withColumnRenamed('ReportingCountry','CountryCode') \\\n",
    "                .groupBy('CountryCode', 'DateQ', 'Denominator') \\\n",
    "                .agg(sum('Fully_vaccine').alias('Full_vaccine')) \\\n",
    "                .sort('CountryCode', 'DateQ')"
   ]
  },
  {
   "cell_type": "code",
   "execution_count": 20,
   "metadata": {
    "scrolled": false
   },
   "outputs": [
    {
     "name": "stdout",
     "output_type": "stream",
     "text": [
      "+-----------+------+-----------+------------+\n",
      "|CountryCode| DateQ|Denominator|Full_vaccine|\n",
      "+-----------+------+-----------+------------+\n",
      "|         AT|2021Q1|    7358443|      516528|\n",
      "|         AT|2021Q2|    7358443|     2877588|\n",
      "|         AT|2021Q3|    7358443|     1865563|\n",
      "|         AT|2021Q4|    7358443|      156344|\n",
      "|         BE|2021Q1|    9202196|      607894|\n",
      "|         BE|2021Q2|    9202196|     3608357|\n",
      "|         BE|2021Q3|    9202196|     3644522|\n",
      "|         BE|2021Q4|    9202196|       90022|\n",
      "|         BG|2020Q4|    5761802|           0|\n",
      "|         BG|2021Q1|    5761802|      100880|\n",
      "|         BG|2021Q2|    5761802|      759696|\n",
      "|         BG|2021Q3|    5761802|      468464|\n",
      "|         BG|2021Q4|    5761802|      225712|\n",
      "|         CY|2020Q4|     717452|           0|\n",
      "|         CY|2021Q1|     717452|       46697|\n",
      "|         CY|2021Q2|     717452|      338651|\n",
      "|         CY|2021Q3|     717452|      173689|\n",
      "|         CY|2021Q4|     717452|       13700|\n",
      "|         CZ|2020Q4|    8694474|           0|\n",
      "|         CZ|2021Q1|    8694474|      584854|\n",
      "|         CZ|2021Q2|    8694474|     2940231|\n",
      "|         CZ|2021Q3|    8694474|     2216869|\n",
      "|         CZ|2021Q4|    8694474|      117101|\n",
      "|         DE|2020Q4|   69488809|          11|\n",
      "|         DE|2021Q1|   69488809|     4527664|\n",
      "|         DE|2021Q2|   69488809|    28034068|\n",
      "|         DE|2021Q3|   69488809|    21285589|\n",
      "|         DE|2021Q4|   69488809|     1635018|\n",
      "|         DK|2020Q4|    4666625|           0|\n",
      "|         DK|2021Q1|    4666625|      394622|\n",
      "|         DK|2021Q2|    4666625|     1700054|\n",
      "|         DK|2021Q3|    4666625|     1995443|\n",
      "|         DK|2021Q4|    4666625|       28556|\n",
      "|         EE|2020Q4|    1071932|           0|\n",
      "|         EE|2021Q1|    1071932|       71698|\n",
      "|         EE|2021Q2|    1071932|      384610|\n",
      "|         EE|2021Q3|    1071932|      215551|\n",
      "|         EE|2021Q4|    1071932|       38351|\n",
      "|         EL|2020Q4|    8864187|           0|\n",
      "|         EL|2021Q1|    8864187|      658340|\n",
      "|         EL|2021Q2|    8864187|     3296595|\n",
      "|         EL|2021Q3|    8864187|     2057767|\n",
      "|         EL|2021Q4|    8864187|      194717|\n",
      "|         ES|2021Q1|   39006858|     2903554|\n",
      "|         ES|2021Q2|   39006858|    16207015|\n",
      "|         ES|2021Q3|   39006858|    13379071|\n",
      "|         ES|2021Q4|   39006858|      308582|\n",
      "|         FI|2020Q4|    4476235|           0|\n",
      "|         FI|2021Q1|    4476235|       92618|\n",
      "|         FI|2021Q2|    4476235|     1067984|\n",
      "|         FI|2021Q3|    4476235|     2276257|\n",
      "|         FI|2021Q4|    4476235|      266169|\n",
      "|         FR|2021Q1|   52780048|     3127341|\n",
      "|         FR|2021Q2|   52780048|    19445158|\n",
      "|         FR|2021Q3|   52780048|    19113627|\n",
      "|         FR|2021Q4|   52780048|     1028014|\n",
      "|         HR|2020Q4|    3360840|           0|\n",
      "|         HR|2021Q1|    3360840|      116735|\n",
      "|         HR|2021Q2|    3360840|     1095087|\n",
      "|         HR|2021Q3|    3360840|      504271|\n",
      "|         HR|2021Q4|    3360840|       70769|\n",
      "|         HU|2020Q4|    8060478|           0|\n",
      "|         HU|2021Q1|    8060478|      896402|\n",
      "|         HU|2021Q2|    8060478|     3950029|\n",
      "|         HU|2021Q3|    8060478|      504764|\n",
      "|         HU|2021Q4|    8060478|       69048|\n",
      "|         IE|2020Q4|    3762805|           0|\n",
      "|         IE|2021Q1|    3762805|      290088|\n",
      "|         IE|2021Q2|    3762805|     1679587|\n",
      "|         IE|2021Q3|    3762805|     1472995|\n",
      "|         IE|2021Q4|    3762805|       33695|\n",
      "|         IT|2020Q4|   50208329|           2|\n",
      "|         IT|2021Q1|   50208329|     3491277|\n",
      "|         IT|2021Q2|   50208329|    16548504|\n",
      "|         IT|2021Q3|   50208329|    18890306|\n",
      "|         IT|2021Q4|   50208329|     1779994|\n",
      "|         LT|2020Q4|    2295269|           0|\n",
      "|         LT|2021Q1|    2295269|      176354|\n",
      "|         LT|2021Q2|    2295269|      896086|\n",
      "|         LT|2021Q3|    2295269|      518153|\n",
      "|         LT|2021Q4|    2295269|       67487|\n",
      "|         LU|2020Q4|     506569|           0|\n",
      "|         LU|2021Q1|     506569|       19587|\n",
      "|         LU|2021Q2|     506569|      226101|\n",
      "|         LU|2021Q3|     506569|      128317|\n",
      "|         LU|2021Q4|     506569|        8134|\n",
      "|         LV|2020Q4|    1548218|           0|\n",
      "|         LV|2021Q1|    1548218|       25337|\n",
      "|         LV|2021Q2|    1548218|      539399|\n",
      "|         LV|2021Q3|    1548218|      243847|\n",
      "|         LV|2021Q4|    1548218|      127548|\n",
      "|         MT|2020Q4|     432616|           0|\n",
      "|         MT|2021Q1|     432616|       58904|\n",
      "|         MT|2021Q2|     432616|      282061|\n",
      "|         MT|2021Q3|     432616|       52059|\n",
      "|         MT|2021Q4|     432616|        3487|\n",
      "|         NL|2020Q4|   14070340|           0|\n",
      "|         NL|2021Q1|   14070340|      785131|\n",
      "|         NL|2021Q2|   14070340|     5797111|\n",
      "|         NL|2021Q3|   14070340|     4476950|\n",
      "|         NL|2021Q4|   14070340|      183438|\n",
      "|         PL|2020Q4|   31044901|           0|\n",
      "|         PL|2021Q1|   31044901|     2086739|\n",
      "|         PL|2021Q2|   31044901|    11707740|\n",
      "|         PL|2021Q3|   31044901|     4938073|\n",
      "|         PL|2021Q4|   31044901|      424822|\n",
      "|         PT|2020Q4|    8578859|           1|\n",
      "|         PT|2021Q1|    8578859|      592783|\n",
      "|         PT|2021Q2|    8578859|     3178336|\n",
      "|         PT|2021Q3|    8578859|     3975314|\n",
      "|         PT|2021Q4|    8578859|      109616|\n",
      "|         RO|2021Q1|   15684219|     1198317|\n",
      "|         RO|2021Q2|   15684219|     3349305|\n",
      "|         RO|2021Q3|   15684219|      802428|\n",
      "|         RO|2021Q4|   15684219|      853217|\n",
      "|         SE|2020Q4|    8147081|           0|\n",
      "|         SE|2021Q1|    8147081|      577888|\n",
      "|         SE|2021Q2|    8147081|     2904636|\n",
      "|         SE|2021Q3|    8147081|     3030511|\n",
      "|         SE|2021Q4|    8147081|      192548|\n",
      "|         SI|2020Q4|    1724466|           0|\n",
      "|         SI|2021Q1|    1724466|      121799|\n",
      "|         SI|2021Q2|    1724466|      596134|\n",
      "|         SI|2021Q3|    1724466|      301938|\n",
      "|         SI|2021Q4|    1724466|       70379|\n",
      "|         SK|2020Q4|    4437897|           0|\n",
      "|         SK|2021Q1|    4437897|      267782|\n",
      "|         SK|2021Q2|    4437897|     1436861|\n",
      "|         SK|2021Q3|    4437897|      604385|\n",
      "|         SK|2021Q4|    4437897|       51017|\n",
      "+-----------+------+-----------+------------+\n",
      "\n"
     ]
    }
   ],
   "source": [
    "VaccinationQF.show(200)"
   ]
  },
  {
   "cell_type": "code",
   "execution_count": 21,
   "metadata": {},
   "outputs": [
    {
     "name": "stdout",
     "output_type": "stream",
     "text": [
      "+-----------+------+-----------+------------+------------------+\n",
      "|CountryCode| DateQ|Denominator|Full_vaccine|Full_vac_acumulado|\n",
      "+-----------+------+-----------+------------+------------------+\n",
      "|         LT|2020Q4|    2295269|           0|                 0|\n",
      "|         LT|2021Q1|    2295269|      176354|            176354|\n",
      "|         LT|2021Q2|    2295269|      896086|           1072440|\n",
      "|         LT|2021Q3|    2295269|      518153|           1590593|\n",
      "|         LT|2021Q4|    2295269|       67487|           1658080|\n",
      "|         FI|2020Q4|    4476235|           0|                 0|\n",
      "|         FI|2021Q1|    4476235|       92618|             92618|\n",
      "|         FI|2021Q2|    4476235|     1067984|           1160602|\n",
      "|         FI|2021Q3|    4476235|     2276257|           3436859|\n",
      "|         FI|2021Q4|    4476235|      266169|           3703028|\n",
      "|         RO|2021Q1|   15684219|     1198317|           1198317|\n",
      "|         RO|2021Q2|   15684219|     3349305|           4547622|\n",
      "|         RO|2021Q3|   15684219|      802428|           5350050|\n",
      "|         RO|2021Q4|   15684219|      853217|           6203267|\n",
      "|         NL|2020Q4|   14070340|           0|                 0|\n",
      "|         NL|2021Q1|   14070340|      785131|            785131|\n",
      "|         NL|2021Q2|   14070340|     5797111|           6582242|\n",
      "|         NL|2021Q3|   14070340|     4476950|          11059192|\n",
      "|         NL|2021Q4|   14070340|      183438|          11242630|\n",
      "|         PL|2020Q4|   31044901|           0|                 0|\n",
      "+-----------+------+-----------+------------+------------------+\n",
      "only showing top 20 rows\n",
      "\n"
     ]
    }
   ],
   "source": [
    "#Hallar acumulado\n",
    "from pyspark.sql import Window\n",
    "\n",
    "\n",
    "windowval = (Window.partitionBy('CountryCode').orderBy('CountryCode', 'DateQ')\n",
    "             .rangeBetween(Window.unboundedPreceding, 0))\n",
    "VaccineFull = VaccinationQF.withColumn('Full_vac_acumulado', func.sum('Full_vaccine').over(windowval))\n",
    "VaccineFull.show()"
   ]
  },
  {
   "cell_type": "code",
   "execution_count": 22,
   "metadata": {},
   "outputs": [
    {
     "name": "stdout",
     "output_type": "stream",
     "text": [
      "+-----------+------+-----------+------------+------------------+\n",
      "|CountryCode| DateQ|Denominator|Full_vaccine|Full_vac_acumulado|\n",
      "+-----------+------+-----------+------------+------------------+\n",
      "|         LT|2020Q4|    2295269|           0|                 0|\n",
      "|         LT|2021Q1|    2295269|      176354|            176354|\n",
      "|         LT|2021Q2|    2295269|      896086|           1072440|\n",
      "|         LT|2021Q3|    2295269|      518153|           1590593|\n",
      "|         LT|2021Q4|    2295269|       67487|           1658080|\n",
      "|         FI|2020Q4|    4476235|           0|                 0|\n",
      "|         FI|2021Q1|    4476235|       92618|             92618|\n",
      "|         FI|2021Q2|    4476235|     1067984|           1160602|\n",
      "|         FI|2021Q3|    4476235|     2276257|           3436859|\n",
      "|         FI|2021Q4|    4476235|      266169|           3703028|\n",
      "|         RO|2021Q1|   15684219|     1198317|           1198317|\n",
      "|         RO|2021Q2|   15684219|     3349305|           4547622|\n",
      "|         RO|2021Q3|   15684219|      802428|           5350050|\n",
      "|         RO|2021Q4|   15684219|      853217|           6203267|\n",
      "|         NL|2020Q4|   14070340|           0|                 0|\n",
      "|         NL|2021Q1|   14070340|      785131|            785131|\n",
      "|         NL|2021Q2|   14070340|     5797111|           6582242|\n",
      "|         NL|2021Q3|   14070340|     4476950|          11059192|\n",
      "|         NL|2021Q4|   14070340|      183438|          11242630|\n",
      "|         PL|2020Q4|   31044901|           0|                 0|\n",
      "|         PL|2021Q1|   31044901|     2086739|           2086739|\n",
      "|         PL|2021Q2|   31044901|    11707740|          13794479|\n",
      "|         PL|2021Q3|   31044901|     4938073|          18732552|\n",
      "|         PL|2021Q4|   31044901|      424822|          19157374|\n",
      "|         EE|2020Q4|    1071932|           0|                 0|\n",
      "|         EE|2021Q1|    1071932|       71698|             71698|\n",
      "|         EE|2021Q2|    1071932|      384610|            456308|\n",
      "|         EE|2021Q3|    1071932|      215551|            671859|\n",
      "|         EE|2021Q4|    1071932|       38351|            710210|\n",
      "|         AT|2021Q1|    7358443|      516528|            516528|\n",
      "|         AT|2021Q2|    7358443|     2877588|           3394116|\n",
      "|         AT|2021Q3|    7358443|     1865563|           5259679|\n",
      "|         AT|2021Q4|    7358443|      156344|           5416023|\n",
      "|         HR|2020Q4|    3360840|           0|                 0|\n",
      "|         HR|2021Q1|    3360840|      116735|            116735|\n",
      "|         HR|2021Q2|    3360840|     1095087|           1211822|\n",
      "|         HR|2021Q3|    3360840|      504271|           1716093|\n",
      "|         HR|2021Q4|    3360840|       70769|           1786862|\n",
      "|         CZ|2020Q4|    8694474|           0|                 0|\n",
      "|         CZ|2021Q1|    8694474|      584854|            584854|\n",
      "|         CZ|2021Q2|    8694474|     2940231|           3525085|\n",
      "|         CZ|2021Q3|    8694474|     2216869|           5741954|\n",
      "|         CZ|2021Q4|    8694474|      117101|           5859055|\n",
      "|         PT|2020Q4|    8578859|           1|                 1|\n",
      "|         PT|2021Q1|    8578859|      592783|            592784|\n",
      "|         PT|2021Q2|    8578859|     3178336|           3771120|\n",
      "|         PT|2021Q3|    8578859|     3975314|           7746434|\n",
      "|         PT|2021Q4|    8578859|      109616|           7856050|\n",
      "|         MT|2020Q4|     432616|           0|                 0|\n",
      "|         MT|2021Q1|     432616|       58904|             58904|\n",
      "|         MT|2021Q2|     432616|      282061|            340965|\n",
      "|         MT|2021Q3|     432616|       52059|            393024|\n",
      "|         MT|2021Q4|     432616|        3487|            396511|\n",
      "|         DE|2020Q4|   69488809|          11|                11|\n",
      "|         DE|2021Q1|   69488809|     4527664|           4527675|\n",
      "|         DE|2021Q2|   69488809|    28034068|          32561743|\n",
      "|         DE|2021Q3|   69488809|    21285589|          53847332|\n",
      "|         DE|2021Q4|   69488809|     1635018|          55482350|\n",
      "|         ES|2021Q1|   39006858|     2903554|           2903554|\n",
      "|         ES|2021Q2|   39006858|    16207015|          19110569|\n",
      "|         ES|2021Q3|   39006858|    13379071|          32489640|\n",
      "|         ES|2021Q4|   39006858|      308582|          32798222|\n",
      "|         FR|2021Q1|   52780048|     3127341|           3127341|\n",
      "|         FR|2021Q2|   52780048|    19445158|          22572499|\n",
      "|         FR|2021Q3|   52780048|    19113627|          41686126|\n",
      "|         FR|2021Q4|   52780048|     1028014|          42714140|\n",
      "|         IT|2020Q4|   50208329|           2|                 2|\n",
      "|         IT|2021Q1|   50208329|     3491277|           3491279|\n",
      "|         IT|2021Q2|   50208329|    16548504|          20039783|\n",
      "|         IT|2021Q3|   50208329|    18890306|          38930089|\n",
      "|         IT|2021Q4|   50208329|     1779994|          40710083|\n",
      "|         SE|2020Q4|    8147081|           0|                 0|\n",
      "|         SE|2021Q1|    8147081|      577888|            577888|\n",
      "|         SE|2021Q2|    8147081|     2904636|           3482524|\n",
      "|         SE|2021Q3|    8147081|     3030511|           6513035|\n",
      "|         SE|2021Q4|    8147081|      192548|           6705583|\n",
      "|         BG|2020Q4|    5761802|           0|                 0|\n",
      "|         BG|2021Q1|    5761802|      100880|            100880|\n",
      "|         BG|2021Q2|    5761802|      759696|            860576|\n",
      "|         BG|2021Q3|    5761802|      468464|           1329040|\n",
      "|         BG|2021Q4|    5761802|      225712|           1554752|\n",
      "|         SK|2020Q4|    4437897|           0|                 0|\n",
      "|         SK|2021Q1|    4437897|      267782|            267782|\n",
      "|         SK|2021Q2|    4437897|     1436861|           1704643|\n",
      "|         SK|2021Q3|    4437897|      604385|           2309028|\n",
      "|         SK|2021Q4|    4437897|       51017|           2360045|\n",
      "|         LV|2020Q4|    1548218|           0|                 0|\n",
      "|         LV|2021Q1|    1548218|       25337|             25337|\n",
      "|         LV|2021Q2|    1548218|      539399|            564736|\n",
      "|         LV|2021Q3|    1548218|      243847|            808583|\n",
      "|         LV|2021Q4|    1548218|      127548|            936131|\n",
      "|         HU|2020Q4|    8060478|           0|                 0|\n",
      "|         HU|2021Q1|    8060478|      896402|            896402|\n",
      "|         HU|2021Q2|    8060478|     3950029|           4846431|\n",
      "|         HU|2021Q3|    8060478|      504764|           5351195|\n",
      "|         HU|2021Q4|    8060478|       69048|           5420243|\n",
      "|         CY|2020Q4|     717452|           0|                 0|\n",
      "|         CY|2021Q1|     717452|       46697|             46697|\n",
      "|         CY|2021Q2|     717452|      338651|            385348|\n",
      "|         CY|2021Q3|     717452|      173689|            559037|\n",
      "|         CY|2021Q4|     717452|       13700|            572737|\n",
      "|         SI|2020Q4|    1724466|           0|                 0|\n",
      "|         SI|2021Q1|    1724466|      121799|            121799|\n",
      "|         SI|2021Q2|    1724466|      596134|            717933|\n",
      "|         SI|2021Q3|    1724466|      301938|           1019871|\n",
      "|         SI|2021Q4|    1724466|       70379|           1090250|\n",
      "|         IE|2020Q4|    3762805|           0|                 0|\n",
      "|         IE|2021Q1|    3762805|      290088|            290088|\n",
      "|         IE|2021Q2|    3762805|     1679587|           1969675|\n",
      "|         IE|2021Q3|    3762805|     1472995|           3442670|\n",
      "|         IE|2021Q4|    3762805|       33695|           3476365|\n",
      "|         EL|2020Q4|    8864187|           0|                 0|\n",
      "|         EL|2021Q1|    8864187|      658340|            658340|\n",
      "|         EL|2021Q2|    8864187|     3296595|           3954935|\n",
      "|         EL|2021Q3|    8864187|     2057767|           6012702|\n",
      "|         EL|2021Q4|    8864187|      194717|           6207419|\n",
      "|         BE|2021Q1|    9202196|      607894|            607894|\n",
      "|         BE|2021Q2|    9202196|     3608357|           4216251|\n",
      "|         BE|2021Q3|    9202196|     3644522|           7860773|\n",
      "|         BE|2021Q4|    9202196|       90022|           7950795|\n",
      "|         LU|2020Q4|     506569|           0|                 0|\n",
      "|         LU|2021Q1|     506569|       19587|             19587|\n",
      "|         LU|2021Q2|     506569|      226101|            245688|\n",
      "|         LU|2021Q3|     506569|      128317|            374005|\n",
      "|         LU|2021Q4|     506569|        8134|            382139|\n",
      "|         DK|2020Q4|    4666625|           0|                 0|\n",
      "|         DK|2021Q1|    4666625|      394622|            394622|\n",
      "|         DK|2021Q2|    4666625|     1700054|           2094676|\n",
      "|         DK|2021Q3|    4666625|     1995443|           4090119|\n",
      "|         DK|2021Q4|    4666625|       28556|           4118675|\n",
      "+-----------+------+-----------+------------+------------------+\n",
      "\n"
     ]
    }
   ],
   "source": [
    "VaccineFull.show(200)"
   ]
  },
  {
   "cell_type": "code",
   "execution_count": 23,
   "metadata": {},
   "outputs": [],
   "source": [
    "VaccineFull = VaccineFull.withColumn('Vac_perc_acum', (VaccineFull.Full_vac_acumulado * 100) / VaccineFull.Denominator) \\\n",
    "                .withColumn('Vac_perc', (VaccineFull.Full_vaccine * 100) / VaccineFull.Denominator) \n",
    "                "
   ]
  },
  {
   "cell_type": "code",
   "execution_count": 24,
   "metadata": {},
   "outputs": [
    {
     "name": "stdout",
     "output_type": "stream",
     "text": [
      "+-----------+------+-----------+------------+------------------+------------------+------------------+\n",
      "|CountryCode| DateQ|Denominator|Full_vaccine|Full_vac_acumulado|     Vac_perc_acum|          Vac_perc|\n",
      "+-----------+------+-----------+------------+------------------+------------------+------------------+\n",
      "|         LT|2020Q4|    2295269|           0|                 0|               0.0|               0.0|\n",
      "|         LT|2021Q1|    2295269|      176354|            176354|   7.6833695745466|   7.6833695745466|\n",
      "|         LT|2021Q2|    2295269|      896086|           1072440| 46.72393519016725| 39.04056561562065|\n",
      "|         LT|2021Q3|    2295269|      518153|           1590593| 69.29876193160801|22.574826741440763|\n",
      "|         LT|2021Q4|    2295269|       67487|           1658080| 72.23902732098068| 2.940265389372662|\n",
      "|         FI|2020Q4|    4476235|           0|                 0|               0.0|               0.0|\n",
      "|         FI|2021Q1|    4476235|       92618|             92618|2.0691049509241584|2.0691049509241584|\n",
      "|         FI|2021Q2|    4476235|     1067984|           1160602|25.928084651498413|23.858979700574256|\n",
      "|         FI|2021Q3|    4476235|     2276257|           3436859| 76.78012883595254| 50.85204418445412|\n",
      "|         FI|2021Q4|    4476235|      266169|           3703028| 82.72639841295195| 5.946269576999421|\n",
      "|         RO|2021Q1|   15684219|     1198317|           1198317|  7.64027204669866|  7.64027204669866|\n",
      "|         RO|2021Q2|   15684219|     3349305|           4547622|28.994889704103212|21.354617657404553|\n",
      "|         RO|2021Q3|   15684219|      802428|           5350050| 34.11103861786169| 5.116148913758472|\n",
      "|         RO|2021Q4|   15684219|      853217|           6203267| 39.55100983989065|  5.43997122202897|\n",
      "|         NL|2020Q4|   14070340|           0|                 0|               0.0|               0.0|\n",
      "|         NL|2021Q1|   14070340|      785131|            785131| 5.580042841892946| 5.580042841892946|\n",
      "|         NL|2021Q2|   14070340|     5797111|           6582242| 46.78097330981341|41.200930467920465|\n",
      "|         NL|2021Q3|   14070340|     4476950|          11059192| 78.59932311514861|31.818349805335195|\n",
      "|         NL|2021Q4|   14070340|      183438|          11242630| 79.90304427611558|1.3037211609669703|\n",
      "|         PL|2020Q4|   31044901|           0|                 0|               0.0|               0.0|\n",
      "+-----------+------+-----------+------------+------------------+------------------+------------------+\n",
      "only showing top 20 rows\n",
      "\n"
     ]
    }
   ],
   "source": [
    "VaccineFull.show()"
   ]
  },
  {
   "cell_type": "code",
   "execution_count": 25,
   "metadata": {},
   "outputs": [
    {
     "name": "stdout",
     "output_type": "stream",
     "text": [
      "+-----------+------+-----------+------------+------------------+----------+---------+\n",
      "|CountryCode| DateQ|Denominator|Full_vaccine|Full_vac_acumulado|percentage|perc_acum|\n",
      "+-----------+------+-----------+------------+------------------+----------+---------+\n",
      "|         LT|2020Q4|    2295269|           0|                 0|       0.0|      0.0|\n",
      "|         LT|2021Q1|    2295269|      176354|            176354|      7.68|     7.68|\n",
      "|         LT|2021Q2|    2295269|      896086|           1072440|     39.04|    46.72|\n",
      "|         LT|2021Q3|    2295269|      518153|           1590593|     22.57|     69.3|\n",
      "|         LT|2021Q4|    2295269|       67487|           1658080|      2.94|    72.24|\n",
      "|         FI|2020Q4|    4476235|           0|                 0|       0.0|      0.0|\n",
      "|         FI|2021Q1|    4476235|       92618|             92618|      2.07|     2.07|\n",
      "|         FI|2021Q2|    4476235|     1067984|           1160602|     23.86|    25.93|\n",
      "|         FI|2021Q3|    4476235|     2276257|           3436859|     50.85|    76.78|\n",
      "|         FI|2021Q4|    4476235|      266169|           3703028|      5.95|    82.73|\n",
      "|         RO|2021Q1|   15684219|     1198317|           1198317|      7.64|     7.64|\n",
      "|         RO|2021Q2|   15684219|     3349305|           4547622|     21.35|    28.99|\n",
      "|         RO|2021Q3|   15684219|      802428|           5350050|      5.12|    34.11|\n",
      "|         RO|2021Q4|   15684219|      853217|           6203267|      5.44|    39.55|\n",
      "|         NL|2020Q4|   14070340|           0|                 0|       0.0|      0.0|\n",
      "|         NL|2021Q1|   14070340|      785131|            785131|      5.58|     5.58|\n",
      "|         NL|2021Q2|   14070340|     5797111|           6582242|      41.2|    46.78|\n",
      "|         NL|2021Q3|   14070340|     4476950|          11059192|     31.82|     78.6|\n",
      "|         NL|2021Q4|   14070340|      183438|          11242630|       1.3|     79.9|\n",
      "|         PL|2020Q4|   31044901|           0|                 0|       0.0|      0.0|\n",
      "+-----------+------+-----------+------------+------------------+----------+---------+\n",
      "only showing top 20 rows\n",
      "\n"
     ]
    }
   ],
   "source": [
    "VaccineFull = VaccineFull.select(\"*\", func.round(col('Vac_perc'),2).alias('percentage'))\n",
    "VaccineFull = VaccineFull.select(\"*\", func.round(col('Vac_perc_acum'),2).alias('perc_acum'))\n",
    "VaccineFull = VaccineFull.select('CountryCode', 'DateQ', 'Denominator', 'Full_vaccine', 'Full_vac_acumulado', 'percentage', 'perc_acum')\n",
    "VaccineFull.show()"
   ]
  },
  {
   "cell_type": "code",
   "execution_count": 26,
   "metadata": {},
   "outputs": [],
   "source": [
    "validDates= ['2021Q1', '2021Q2', '2021Q3']\n",
    "completeVaccine = VaccineFull.filter(VaccineFull.DateQ.isin(validDates))\n"
   ]
  },
  {
   "cell_type": "code",
   "execution_count": 27,
   "metadata": {},
   "outputs": [],
   "source": [
    "from MyFunctions import EUcountries\n",
    "ps_EU = spark.createDataFrame(EUcountries())"
   ]
  },
  {
   "cell_type": "code",
   "execution_count": 28,
   "metadata": {},
   "outputs": [
    {
     "name": "stdout",
     "output_type": "stream",
     "text": [
      "+----+----------+--------------+\n",
      "|Code|   Country|Accession_year|\n",
      "+----+----------+--------------+\n",
      "|  AT|   Austria|          1995|\n",
      "|  BE|   Belgium|          1958|\n",
      "|  BG|  Bulgaria|          2007|\n",
      "|  CY|    Cyprus|          2004|\n",
      "|  CZ|   Czechia|          2004|\n",
      "|  DE|   Germany|          1958|\n",
      "|  DK|   Denmark|          1973|\n",
      "|  EE|   Estonia|          2004|\n",
      "|  ES|     Spain|          1986|\n",
      "|  FI|   Finland|          1995|\n",
      "|  FR|    France|          1958|\n",
      "|  EL|    Greece|          1981|\n",
      "|  HR|   Croatia|          2013|\n",
      "|  HU|   Hungary|          2004|\n",
      "|  IE|   Ireland|          1973|\n",
      "|  IT|     Italy|          1958|\n",
      "|  LT| Lithuania|          2004|\n",
      "|  LU|Luxembourg|          1958|\n",
      "|  LV|    Latvia|          2004|\n",
      "|  MT|     Malta|          2004|\n",
      "+----+----------+--------------+\n",
      "only showing top 20 rows\n",
      "\n"
     ]
    }
   ],
   "source": [
    "ps_EU.show()"
   ]
  },
  {
   "cell_type": "code",
   "execution_count": 29,
   "metadata": {},
   "outputs": [
    {
     "name": "stdout",
     "output_type": "stream",
     "text": [
      "+-----------+------+-----------+------------+------------------+----------+---------+----+-----------+--------------+\n",
      "|CountryCode| DateQ|Denominator|Full_vaccine|Full_vac_acumulado|percentage|perc_acum|Code|    Country|Accession_year|\n",
      "+-----------+------+-----------+------------+------------------+----------+---------+----+-----------+--------------+\n",
      "|         LT|2021Q1|    2295269|      176354|            176354|      7.68|     7.68|  LT|  Lithuania|          2004|\n",
      "|         LT|2021Q2|    2295269|      896086|           1072440|     39.04|    46.72|  LT|  Lithuania|          2004|\n",
      "|         LT|2021Q3|    2295269|      518153|           1590593|     22.57|     69.3|  LT|  Lithuania|          2004|\n",
      "|         FI|2021Q1|    4476235|       92618|             92618|      2.07|     2.07|  FI|    Finland|          1995|\n",
      "|         FI|2021Q2|    4476235|     1067984|           1160602|     23.86|    25.93|  FI|    Finland|          1995|\n",
      "|         FI|2021Q3|    4476235|     2276257|           3436859|     50.85|    76.78|  FI|    Finland|          1995|\n",
      "|         RO|2021Q1|   15684219|     1198317|           1198317|      7.64|     7.64|  RO|    Romania|          2007|\n",
      "|         RO|2021Q2|   15684219|     3349305|           4547622|     21.35|    28.99|  RO|    Romania|          2007|\n",
      "|         RO|2021Q3|   15684219|      802428|           5350050|      5.12|    34.11|  RO|    Romania|          2007|\n",
      "|         NL|2021Q1|   14070340|      785131|            785131|      5.58|     5.58|  NL|Netherlands|          1958|\n",
      "|         NL|2021Q2|   14070340|     5797111|           6582242|      41.2|    46.78|  NL|Netherlands|          1958|\n",
      "|         NL|2021Q3|   14070340|     4476950|          11059192|     31.82|     78.6|  NL|Netherlands|          1958|\n",
      "|         PL|2021Q1|   31044901|     2086739|           2086739|      6.72|     6.72|  PL|     Poland|          2004|\n",
      "|         PL|2021Q2|   31044901|    11707740|          13794479|     37.71|    44.43|  PL|     Poland|          2004|\n",
      "|         PL|2021Q3|   31044901|     4938073|          18732552|     15.91|    60.34|  PL|     Poland|          2004|\n",
      "|         EE|2021Q1|    1071932|       71698|             71698|      6.69|     6.69|  EE|    Estonia|          2004|\n",
      "|         EE|2021Q2|    1071932|      384610|            456308|     35.88|    42.57|  EE|    Estonia|          2004|\n",
      "|         EE|2021Q3|    1071932|      215551|            671859|     20.11|    62.68|  EE|    Estonia|          2004|\n",
      "|         AT|2021Q1|    7358443|      516528|            516528|      7.02|     7.02|  AT|    Austria|          1995|\n",
      "|         AT|2021Q2|    7358443|     2877588|           3394116|     39.11|    46.13|  AT|    Austria|          1995|\n",
      "+-----------+------+-----------+------------+------------------+----------+---------+----+-----------+--------------+\n",
      "only showing top 20 rows\n",
      "\n"
     ]
    }
   ],
   "source": [
    "completeVaccine.join(ps_EU, completeVaccine.CountryCode == ps_EU.Code, 'outer').show()"
   ]
  },
  {
   "cell_type": "code",
   "execution_count": 30,
   "metadata": {},
   "outputs": [
    {
     "name": "stdout",
     "output_type": "stream",
     "text": [
      "+----+-----------+------+-----------+------------+------------------+----------+---------+\n",
      "|Code|    Country| DateQ|Denominator|Full_vaccine|Full_vac_acumulado|percentage|perc_acum|\n",
      "+----+-----------+------+-----------+------------+------------------+----------+---------+\n",
      "|  LT|  Lithuania|2021Q1|    2295269|      176354|            176354|      7.68|     7.68|\n",
      "|  LT|  Lithuania|2021Q2|    2295269|      896086|           1072440|     39.04|    46.72|\n",
      "|  LT|  Lithuania|2021Q3|    2295269|      518153|           1590593|     22.57|     69.3|\n",
      "|  FI|    Finland|2021Q1|    4476235|       92618|             92618|      2.07|     2.07|\n",
      "|  FI|    Finland|2021Q2|    4476235|     1067984|           1160602|     23.86|    25.93|\n",
      "|  FI|    Finland|2021Q3|    4476235|     2276257|           3436859|     50.85|    76.78|\n",
      "|  RO|    Romania|2021Q1|   15684219|     1198317|           1198317|      7.64|     7.64|\n",
      "|  RO|    Romania|2021Q2|   15684219|     3349305|           4547622|     21.35|    28.99|\n",
      "|  RO|    Romania|2021Q3|   15684219|      802428|           5350050|      5.12|    34.11|\n",
      "|  NL|Netherlands|2021Q1|   14070340|      785131|            785131|      5.58|     5.58|\n",
      "|  NL|Netherlands|2021Q2|   14070340|     5797111|           6582242|      41.2|    46.78|\n",
      "|  NL|Netherlands|2021Q3|   14070340|     4476950|          11059192|     31.82|     78.6|\n",
      "|  PL|     Poland|2021Q1|   31044901|     2086739|           2086739|      6.72|     6.72|\n",
      "|  PL|     Poland|2021Q2|   31044901|    11707740|          13794479|     37.71|    44.43|\n",
      "|  PL|     Poland|2021Q3|   31044901|     4938073|          18732552|     15.91|    60.34|\n",
      "|  EE|    Estonia|2021Q1|    1071932|       71698|             71698|      6.69|     6.69|\n",
      "|  EE|    Estonia|2021Q2|    1071932|      384610|            456308|     35.88|    42.57|\n",
      "|  EE|    Estonia|2021Q3|    1071932|      215551|            671859|     20.11|    62.68|\n",
      "|  AT|    Austria|2021Q1|    7358443|      516528|            516528|      7.02|     7.02|\n",
      "|  AT|    Austria|2021Q2|    7358443|     2877588|           3394116|     39.11|    46.13|\n",
      "+----+-----------+------+-----------+------------+------------------+----------+---------+\n",
      "only showing top 20 rows\n",
      "\n"
     ]
    }
   ],
   "source": [
    "completeVaccineF = completeVaccine.join(ps_EU, completeVaccine.CountryCode == ps_EU.Code, 'outer')\n",
    "completeVaccineF = completeVaccineF.select('Code', 'Country', 'DateQ', 'Denominator', 'Full_vaccine', 'Full_vac_acumulado', 'percentage', 'perc_acum')\n",
    "completeVaccineF.show()"
   ]
  },
  {
   "cell_type": "code",
   "execution_count": 31,
   "metadata": {},
   "outputs": [],
   "source": [
    "#Guardo DF con resultados perc en hdfs /TFM_CEE/output\n",
    "completeVaccine.write.mode('overwrite').parquet(\"hdfs://localhost:9000/TFM_CEE/output/completeVaccine.parquet\")"
   ]
  },
  {
   "cell_type": "code",
   "execution_count": null,
   "metadata": {},
   "outputs": [],
   "source": []
  },
  {
   "cell_type": "code",
   "execution_count": null,
   "metadata": {},
   "outputs": [],
   "source": []
  }
 ],
 "metadata": {
  "kernelspec": {
   "display_name": "Python 3",
   "language": "python",
   "name": "python3"
  },
  "language_info": {
   "codemirror_mode": {
    "name": "ipython",
    "version": 3
   },
   "file_extension": ".py",
   "mimetype": "text/x-python",
   "name": "python",
   "nbconvert_exporter": "python",
   "pygments_lexer": "ipython3",
   "version": "3.8.5"
  }
 },
 "nbformat": 4,
 "nbformat_minor": 4
}
