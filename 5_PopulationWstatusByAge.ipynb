{
 "cells": [
  {
   "cell_type": "markdown",
   "metadata": {},
   "source": [
    "# Population by sex, age, citizenship and labour status"
   ]
  },
  {
   "cell_type": "markdown",
   "metadata": {},
   "source": [
    "## 5. Datos relativos a población por sexo, edad, ciudadanía y empleo"
   ]
  },
  {
   "cell_type": "code",
   "execution_count": 1,
   "metadata": {},
   "outputs": [],
   "source": [
    "import pandas as pd\n",
    "import eurostat\n",
    "import plotly.express as px # Graphics\n",
    "from MyFunctions import EUcountries\n",
    "from pyspark.sql import SparkSession \n",
    "from pyspark.sql.types import StructField, StructType, StringType, IntegerType, FloatType \n",
    "from pyspark.sql import functions as func"
   ]
  },
  {
   "cell_type": "code",
   "execution_count": 2,
   "metadata": {},
   "outputs": [],
   "source": [
    "spark = SparkSession.builder.appName(\"PopulationByAge\").master(\"local\") .getOrCreate() "
   ]
  },
  {
   "cell_type": "markdown",
   "metadata": {},
   "source": [
    "### Exploración DF"
   ]
  },
  {
   "cell_type": "code",
   "execution_count": 3,
   "metadata": {},
   "outputs": [
    {
     "name": "stdout",
     "output_type": "stream",
     "text": [
      "<class 'pandas.core.frame.DataFrame'>\n",
      "RangeIndex: 188206 entries, 0 to 188205\n",
      "Data columns (total 100 columns):\n",
      " #   Column    Non-Null Count   Dtype  \n",
      "---  ------    --------------   -----  \n",
      " 0   unit      188206 non-null  object \n",
      " 1   sex       188206 non-null  object \n",
      " 2   citizen   188206 non-null  object \n",
      " 3   age       188206 non-null  object \n",
      " 4   wstatus   188206 non-null  object \n",
      " 5   geo\\time  188206 non-null  object \n",
      " 6   2021Q2    58429 non-null   float64\n",
      " 7   2021Q1    58592 non-null   float64\n",
      " 8   2020Q4    59905 non-null   float64\n",
      " 9   2020Q3    62079 non-null   float64\n",
      " 10  2020Q2    62058 non-null   float64\n",
      " 11  2020Q1    61965 non-null   float64\n",
      " 12  2019Q4    108409 non-null  float64\n",
      " 13  2019Q3    108877 non-null  float64\n",
      " 14  2019Q2    108823 non-null  float64\n",
      " 15  2019Q1    108885 non-null  float64\n",
      " 16  2018Q4    109044 non-null  float64\n",
      " 17  2018Q3    108785 non-null  float64\n",
      " 18  2018Q2    108711 non-null  float64\n",
      " 19  2018Q1    109373 non-null  float64\n",
      " 20  2017Q4    108778 non-null  float64\n",
      " 21  2017Q3    108372 non-null  float64\n",
      " 22  2017Q2    108317 non-null  float64\n",
      " 23  2017Q1    109065 non-null  float64\n",
      " 24  2016Q4    108589 non-null  float64\n",
      " 25  2016Q3    108914 non-null  float64\n",
      " 26  2016Q2    109306 non-null  float64\n",
      " 27  2016Q1    109198 non-null  float64\n",
      " 28  2015Q4    108293 non-null  float64\n",
      " 29  2015Q3    108837 non-null  float64\n",
      " 30  2015Q2    108777 non-null  float64\n",
      " 31  2015Q1    108777 non-null  float64\n",
      " 32  2014Q4    107732 non-null  float64\n",
      " 33  2014Q3    107900 non-null  float64\n",
      " 34  2014Q2    108071 non-null  float64\n",
      " 35  2014Q1    108403 non-null  float64\n",
      " 36  2013Q4    107382 non-null  float64\n",
      " 37  2013Q3    106168 non-null  float64\n",
      " 38  2013Q2    107266 non-null  float64\n",
      " 39  2013Q1    105897 non-null  float64\n",
      " 40  2012Q4    106646 non-null  float64\n",
      " 41  2012Q3    104520 non-null  float64\n",
      " 42  2012Q2    105450 non-null  float64\n",
      " 43  2012Q1    104667 non-null  float64\n",
      " 44  2011Q4    104654 non-null  float64\n",
      " 45  2011Q3    102933 non-null  float64\n",
      " 46  2011Q2    103883 non-null  float64\n",
      " 47  2011Q1    103273 non-null  float64\n",
      " 48  2010Q4    102783 non-null  float64\n",
      " 49  2010Q3    101514 non-null  float64\n",
      " 50  2010Q2    102763 non-null  float64\n",
      " 51  2010Q1    101509 non-null  float64\n",
      " 52  2009Q4    96225 non-null   float64\n",
      " 53  2009Q3    96147 non-null   float64\n",
      " 54  2009Q2    100154 non-null  float64\n",
      " 55  2009Q1    96339 non-null   float64\n",
      " 56  2008Q4    95076 non-null   float64\n",
      " 57  2008Q3    94799 non-null   float64\n",
      " 58  2008Q2    98630 non-null   float64\n",
      " 59  2008Q1    94995 non-null   float64\n",
      " 60  2007Q4    93483 non-null   float64\n",
      " 61  2007Q3    93897 non-null   float64\n",
      " 62  2007Q2    97582 non-null   float64\n",
      " 63  2007Q1    93413 non-null   float64\n",
      " 64  2006Q4    92783 non-null   float64\n",
      " 65  2006Q3    93019 non-null   float64\n",
      " 66  2006Q2    97080 non-null   float64\n",
      " 67  2006Q1    93543 non-null   float64\n",
      " 68  2005Q4    57754 non-null   float64\n",
      " 69  2005Q3    57479 non-null   float64\n",
      " 70  2005Q2    59834 non-null   float64\n",
      " 71  2005Q1    57665 non-null   float64\n",
      " 72  2004Q4    44426 non-null   float64\n",
      " 73  2004Q3    44332 non-null   float64\n",
      " 74  2004Q2    60655 non-null   float64\n",
      " 75  2004Q1    43140 non-null   float64\n",
      " 76  2003Q4    42212 non-null   float64\n",
      " 77  2003Q3    42296 non-null   float64\n",
      " 78  2003Q2    60149 non-null   float64\n",
      " 79  2003Q1    42449 non-null   float64\n",
      " 80  2002Q4    36788 non-null   float64\n",
      " 81  2002Q3    36520 non-null   float64\n",
      " 82  2002Q2    45694 non-null   float64\n",
      " 83  2002Q1    39679 non-null   float64\n",
      " 84  2001Q4    34215 non-null   float64\n",
      " 85  2001Q3    30981 non-null   float64\n",
      " 86  2001Q2    43746 non-null   float64\n",
      " 87  2001Q1    35464 non-null   float64\n",
      " 88  2000Q4    31224 non-null   float64\n",
      " 89  2000Q3    29113 non-null   float64\n",
      " 90  2000Q2    43870 non-null   float64\n",
      " 91  2000Q1    32428 non-null   float64\n",
      " 92  1999Q4    23493 non-null   float64\n",
      " 93  1999Q3    21525 non-null   float64\n",
      " 94  1999Q2    39920 non-null   float64\n",
      " 95  1999Q1    21924 non-null   float64\n",
      " 96  1998Q4    11998 non-null   float64\n",
      " 97  1998Q3    9963 non-null    float64\n",
      " 98  1998Q2    36758 non-null   float64\n",
      " 99  1998Q1    14222 non-null   float64\n",
      "dtypes: float64(94), object(6)\n",
      "memory usage: 143.6+ MB\n"
     ]
    }
   ],
   "source": [
    "# Load data on Population by sex, age, citizenship and labour status\n",
    "PopByAge = eurostat.get_data_df('lfsq_pganws')\n",
    "PopByAge.info()"
   ]
  },
  {
   "cell_type": "code",
   "execution_count": 4,
   "metadata": {},
   "outputs": [
    {
     "name": "stdout",
     "output_type": "stream",
     "text": [
      "Dataset actualizado a: 29 de Octubre 2021\n",
      "Nº de filas / entradas:  188206\n",
      "Nº de columnas / variables:  100\n",
      "Tipo de datos para cada variable: \n"
     ]
    },
    {
     "data": {
      "text/plain": [
       "unit        object\n",
       "sex         object\n",
       "citizen     object\n",
       "age         object\n",
       "wstatus     object\n",
       "            ...   \n",
       "1999Q1     float64\n",
       "1998Q4     float64\n",
       "1998Q3     float64\n",
       "1998Q2     float64\n",
       "1998Q1     float64\n",
       "Length: 100, dtype: object"
      ]
     },
     "metadata": {},
     "output_type": "display_data"
    },
    {
     "name": "stdout",
     "output_type": "stream",
     "text": [
      "Total valores nulos:  10289711\n",
      "Variables con valores nulos: \n",
      "  2021Q2:  129777 valores nulos\n",
      "  2018Q3:  79421 valores nulos\n"
     ]
    }
   ],
   "source": [
    "print(\"Dataset actualizado a: 29 de Octubre 2021\")\n",
    "print(\"Nº de filas / entradas: \", PopByAge.shape[0])\n",
    "print(\"Nº de columnas / variables: \", PopByAge.shape[1])\n",
    "print(\"Tipo de datos para cada variable: \")\n",
    "display(PopByAge.dtypes)\n",
    "print(\"Total valores nulos: \", PopByAge.isnull().sum().sum())\n",
    "print(\"Variables con valores nulos: \")\n",
    "print(\"  2021Q2: \", PopByAge['2021Q2'].isnull().sum().sum(), \"valores nulos\")\n",
    "print(\"  2018Q3: \", PopByAge['2018Q3'].isnull().sum().sum(),  \"valores nulos\")"
   ]
  },
  {
   "cell_type": "code",
   "execution_count": 5,
   "metadata": {},
   "outputs": [
    {
     "data": {
      "text/html": [
       "<div>\n",
       "<style scoped>\n",
       "    .dataframe tbody tr th:only-of-type {\n",
       "        vertical-align: middle;\n",
       "    }\n",
       "\n",
       "    .dataframe tbody tr th {\n",
       "        vertical-align: top;\n",
       "    }\n",
       "\n",
       "    .dataframe thead th {\n",
       "        text-align: right;\n",
       "    }\n",
       "</style>\n",
       "<table border=\"1\" class=\"dataframe\">\n",
       "  <thead>\n",
       "    <tr style=\"text-align: right;\">\n",
       "      <th></th>\n",
       "      <th>unit</th>\n",
       "      <th>sex</th>\n",
       "      <th>citizen</th>\n",
       "      <th>age</th>\n",
       "      <th>wstatus</th>\n",
       "      <th>geo\\time</th>\n",
       "      <th>2021Q2</th>\n",
       "      <th>2021Q1</th>\n",
       "      <th>2020Q4</th>\n",
       "      <th>2020Q3</th>\n",
       "      <th>...</th>\n",
       "      <th>2000Q2</th>\n",
       "      <th>2000Q1</th>\n",
       "      <th>1999Q4</th>\n",
       "      <th>1999Q3</th>\n",
       "      <th>1999Q2</th>\n",
       "      <th>1999Q1</th>\n",
       "      <th>1998Q4</th>\n",
       "      <th>1998Q3</th>\n",
       "      <th>1998Q2</th>\n",
       "      <th>1998Q1</th>\n",
       "    </tr>\n",
       "  </thead>\n",
       "  <tbody>\n",
       "    <tr>\n",
       "      <th>156894</th>\n",
       "      <td>THS</td>\n",
       "      <td>T</td>\n",
       "      <td>NEU15_FOR</td>\n",
       "      <td>Y25-64</td>\n",
       "      <td>POP</td>\n",
       "      <td>CY</td>\n",
       "      <td>NaN</td>\n",
       "      <td>NaN</td>\n",
       "      <td>NaN</td>\n",
       "      <td>NaN</td>\n",
       "      <td>...</td>\n",
       "      <td>17.9</td>\n",
       "      <td>NaN</td>\n",
       "      <td>NaN</td>\n",
       "      <td>NaN</td>\n",
       "      <td>15.2</td>\n",
       "      <td>NaN</td>\n",
       "      <td>NaN</td>\n",
       "      <td>NaN</td>\n",
       "      <td>NaN</td>\n",
       "      <td>NaN</td>\n",
       "    </tr>\n",
       "    <tr>\n",
       "      <th>64924</th>\n",
       "      <td>THS</td>\n",
       "      <td>M</td>\n",
       "      <td>EU15_FOR</td>\n",
       "      <td>Y35-39</td>\n",
       "      <td>UNE</td>\n",
       "      <td>EA19</td>\n",
       "      <td>NaN</td>\n",
       "      <td>NaN</td>\n",
       "      <td>NaN</td>\n",
       "      <td>NaN</td>\n",
       "      <td>...</td>\n",
       "      <td>NaN</td>\n",
       "      <td>NaN</td>\n",
       "      <td>NaN</td>\n",
       "      <td>NaN</td>\n",
       "      <td>NaN</td>\n",
       "      <td>NaN</td>\n",
       "      <td>NaN</td>\n",
       "      <td>NaN</td>\n",
       "      <td>NaN</td>\n",
       "      <td>NaN</td>\n",
       "    </tr>\n",
       "    <tr>\n",
       "      <th>68920</th>\n",
       "      <td>THS</td>\n",
       "      <td>M</td>\n",
       "      <td>EU27_2020_FOR</td>\n",
       "      <td>Y15-74</td>\n",
       "      <td>INAC</td>\n",
       "      <td>EU28</td>\n",
       "      <td>NaN</td>\n",
       "      <td>NaN</td>\n",
       "      <td>NaN</td>\n",
       "      <td>NaN</td>\n",
       "      <td>...</td>\n",
       "      <td>NaN</td>\n",
       "      <td>NaN</td>\n",
       "      <td>NaN</td>\n",
       "      <td>NaN</td>\n",
       "      <td>NaN</td>\n",
       "      <td>NaN</td>\n",
       "      <td>NaN</td>\n",
       "      <td>NaN</td>\n",
       "      <td>NaN</td>\n",
       "      <td>NaN</td>\n",
       "    </tr>\n",
       "  </tbody>\n",
       "</table>\n",
       "<p>3 rows × 100 columns</p>\n",
       "</div>"
      ],
      "text/plain": [
       "       unit sex        citizen     age wstatus geo\\time  2021Q2  2021Q1  \\\n",
       "156894  THS   T      NEU15_FOR  Y25-64     POP       CY     NaN     NaN   \n",
       "64924   THS   M       EU15_FOR  Y35-39     UNE     EA19     NaN     NaN   \n",
       "68920   THS   M  EU27_2020_FOR  Y15-74    INAC     EU28     NaN     NaN   \n",
       "\n",
       "        2020Q4  2020Q3  ...  2000Q2  2000Q1  1999Q4  1999Q3  1999Q2  1999Q1  \\\n",
       "156894     NaN     NaN  ...    17.9     NaN     NaN     NaN    15.2     NaN   \n",
       "64924      NaN     NaN  ...     NaN     NaN     NaN     NaN     NaN     NaN   \n",
       "68920      NaN     NaN  ...     NaN     NaN     NaN     NaN     NaN     NaN   \n",
       "\n",
       "        1998Q4  1998Q3  1998Q2  1998Q1  \n",
       "156894     NaN     NaN     NaN     NaN  \n",
       "64924      NaN     NaN     NaN     NaN  \n",
       "68920      NaN     NaN     NaN     NaN  \n",
       "\n",
       "[3 rows x 100 columns]"
      ]
     },
     "execution_count": 5,
     "metadata": {},
     "output_type": "execute_result"
    }
   ],
   "source": [
    "PopByAge.sample(3)"
   ]
  },
  {
   "cell_type": "markdown",
   "metadata": {},
   "source": [
    "### Limpieza y preparación"
   ]
  },
  {
   "cell_type": "markdown",
   "metadata": {},
   "source": [
    "**FILTROS**:\n",
    "\n",
    "Primer filtro: trimestres en este caso dejaré datos del año 2018 en adelante  \n",
    "\n",
    "Segundo filtro: filtrar por los paises miembros de la UE  \n",
    "\n"
   ]
  },
  {
   "cell_type": "code",
   "execution_count": 6,
   "metadata": {},
   "outputs": [],
   "source": [
    "#Primer filtro: trimestres en este caso dejaré datos del año 2007 en adelante, por ser el ultimo año en el que algún país ingresó formalment a la UE\n",
    "PopByAge.drop(PopByAge.iloc[:,20:], inplace = True, axis = 1) "
   ]
  },
  {
   "cell_type": "code",
   "execution_count": 7,
   "metadata": {},
   "outputs": [],
   "source": [
    "#Rename columns\n",
    "\n",
    "PopByAge.columns = ['unit','sex', 'citizen', 'age', 'wstatus', 'country', '2021Q2', '2021Q1', '2020Q4', '2020Q3', '2020Q2', '2020Q1', '2019Q4',\n",
    "                '2019Q3', '2019Q2', '2019Q1', '2018Q4',  '2018Q3', '2018Q2', '2018Q1']"
   ]
  },
  {
   "cell_type": "code",
   "execution_count": 8,
   "metadata": {},
   "outputs": [
    {
     "data": {
      "text/plain": [
       "array(['AT', 'BE', 'CY', 'CZ', 'DE', 'DK', 'EL', 'ES', 'FI', 'FR', 'IE',\n",
       "       'IT', 'LU', 'MT', 'NL', 'PT', 'SE', 'SK', 'BG', 'EE', 'HU', 'LT',\n",
       "       'LV', 'PL', 'RO', 'SI', 'HR'], dtype=object)"
      ]
     },
     "execution_count": 8,
     "metadata": {},
     "output_type": "execute_result"
    }
   ],
   "source": [
    "# Segundo filtro: filtrar por los paises miembros de la UE\n",
    "# from MyFunctions import DF EU countries.\n",
    "\n",
    "PopByAge = PopByAge[PopByAge.country.isin(EUcountries().Code)]\n",
    "\n",
    "#Verico que estén los 27\n",
    "PopByAge['country'].unique()"
   ]
  },
  {
   "cell_type": "code",
   "execution_count": 9,
   "metadata": {},
   "outputs": [
    {
     "data": {
      "text/plain": [
       "1001857"
      ]
     },
     "execution_count": 9,
     "metadata": {},
     "output_type": "execute_result"
    }
   ],
   "source": [
    "#Busco null values\n",
    "PopByAge.isnull().sum().sum()"
   ]
  },
  {
   "cell_type": "code",
   "execution_count": 10,
   "metadata": {},
   "outputs": [
    {
     "data": {
      "text/html": [
       "<div>\n",
       "<style scoped>\n",
       "    .dataframe tbody tr th:only-of-type {\n",
       "        vertical-align: middle;\n",
       "    }\n",
       "\n",
       "    .dataframe tbody tr th {\n",
       "        vertical-align: top;\n",
       "    }\n",
       "\n",
       "    .dataframe thead th {\n",
       "        text-align: right;\n",
       "    }\n",
       "</style>\n",
       "<table border=\"1\" class=\"dataframe\">\n",
       "  <thead>\n",
       "    <tr style=\"text-align: right;\">\n",
       "      <th></th>\n",
       "      <th>unit</th>\n",
       "      <th>sex</th>\n",
       "      <th>citizen</th>\n",
       "      <th>age</th>\n",
       "      <th>wstatus</th>\n",
       "      <th>country</th>\n",
       "      <th>2021Q2</th>\n",
       "      <th>2021Q1</th>\n",
       "      <th>2020Q4</th>\n",
       "      <th>2020Q3</th>\n",
       "      <th>2020Q2</th>\n",
       "      <th>2020Q1</th>\n",
       "      <th>2019Q4</th>\n",
       "      <th>2019Q3</th>\n",
       "      <th>2019Q2</th>\n",
       "      <th>2019Q1</th>\n",
       "      <th>2018Q4</th>\n",
       "      <th>2018Q3</th>\n",
       "      <th>2018Q2</th>\n",
       "      <th>2018Q1</th>\n",
       "    </tr>\n",
       "  </thead>\n",
       "  <tbody>\n",
       "    <tr>\n",
       "      <th>133475</th>\n",
       "      <td>THS</td>\n",
       "      <td>T</td>\n",
       "      <td>EU27_2020_FOR</td>\n",
       "      <td>Y40-44</td>\n",
       "      <td>EMP</td>\n",
       "      <td>LV</td>\n",
       "      <td>NaN</td>\n",
       "      <td>NaN</td>\n",
       "      <td>NaN</td>\n",
       "      <td>NaN</td>\n",
       "      <td>NaN</td>\n",
       "      <td>NaN</td>\n",
       "      <td>NaN</td>\n",
       "      <td>NaN</td>\n",
       "      <td>NaN</td>\n",
       "      <td>NaN</td>\n",
       "      <td>NaN</td>\n",
       "      <td>NaN</td>\n",
       "      <td>NaN</td>\n",
       "      <td>NaN</td>\n",
       "    </tr>\n",
       "    <tr>\n",
       "      <th>128317</th>\n",
       "      <td>THS</td>\n",
       "      <td>T</td>\n",
       "      <td>EU15_FOR</td>\n",
       "      <td>Y45-49</td>\n",
       "      <td>UNE</td>\n",
       "      <td>EE</td>\n",
       "      <td>NaN</td>\n",
       "      <td>NaN</td>\n",
       "      <td>NaN</td>\n",
       "      <td>NaN</td>\n",
       "      <td>NaN</td>\n",
       "      <td>NaN</td>\n",
       "      <td>NaN</td>\n",
       "      <td>NaN</td>\n",
       "      <td>NaN</td>\n",
       "      <td>NaN</td>\n",
       "      <td>NaN</td>\n",
       "      <td>NaN</td>\n",
       "      <td>NaN</td>\n",
       "      <td>NaN</td>\n",
       "    </tr>\n",
       "    <tr>\n",
       "      <th>32228</th>\n",
       "      <td>THS</td>\n",
       "      <td>F</td>\n",
       "      <td>NEU15_FOR</td>\n",
       "      <td>Y40-44</td>\n",
       "      <td>POP</td>\n",
       "      <td>LT</td>\n",
       "      <td>NaN</td>\n",
       "      <td>NaN</td>\n",
       "      <td>NaN</td>\n",
       "      <td>NaN</td>\n",
       "      <td>NaN</td>\n",
       "      <td>NaN</td>\n",
       "      <td>NaN</td>\n",
       "      <td>NaN</td>\n",
       "      <td>NaN</td>\n",
       "      <td>NaN</td>\n",
       "      <td>NaN</td>\n",
       "      <td>NaN</td>\n",
       "      <td>NaN</td>\n",
       "      <td>NaN</td>\n",
       "    </tr>\n",
       "    <tr>\n",
       "      <th>181699</th>\n",
       "      <td>THS</td>\n",
       "      <td>T</td>\n",
       "      <td>STLS</td>\n",
       "      <td>Y_GE50</td>\n",
       "      <td>EMP</td>\n",
       "      <td>EE</td>\n",
       "      <td>NaN</td>\n",
       "      <td>NaN</td>\n",
       "      <td>NaN</td>\n",
       "      <td>NaN</td>\n",
       "      <td>NaN</td>\n",
       "      <td>NaN</td>\n",
       "      <td>NaN</td>\n",
       "      <td>NaN</td>\n",
       "      <td>NaN</td>\n",
       "      <td>NaN</td>\n",
       "      <td>NaN</td>\n",
       "      <td>NaN</td>\n",
       "      <td>NaN</td>\n",
       "      <td>NaN</td>\n",
       "    </tr>\n",
       "    <tr>\n",
       "      <th>39917</th>\n",
       "      <td>THS</td>\n",
       "      <td>F</td>\n",
       "      <td>NEU27_2020_FOR</td>\n",
       "      <td>Y65-69</td>\n",
       "      <td>ACT</td>\n",
       "      <td>CY</td>\n",
       "      <td>NaN</td>\n",
       "      <td>NaN</td>\n",
       "      <td>NaN</td>\n",
       "      <td>NaN</td>\n",
       "      <td>NaN</td>\n",
       "      <td>NaN</td>\n",
       "      <td>NaN</td>\n",
       "      <td>NaN</td>\n",
       "      <td>NaN</td>\n",
       "      <td>NaN</td>\n",
       "      <td>NaN</td>\n",
       "      <td>NaN</td>\n",
       "      <td>NaN</td>\n",
       "      <td>NaN</td>\n",
       "    </tr>\n",
       "  </tbody>\n",
       "</table>\n",
       "</div>"
      ],
      "text/plain": [
       "       unit sex         citizen     age wstatus country  2021Q2  2021Q1  \\\n",
       "133475  THS   T   EU27_2020_FOR  Y40-44     EMP      LV     NaN     NaN   \n",
       "128317  THS   T        EU15_FOR  Y45-49     UNE      EE     NaN     NaN   \n",
       "32228   THS   F       NEU15_FOR  Y40-44     POP      LT     NaN     NaN   \n",
       "181699  THS   T            STLS  Y_GE50     EMP      EE     NaN     NaN   \n",
       "39917   THS   F  NEU27_2020_FOR  Y65-69     ACT      CY     NaN     NaN   \n",
       "\n",
       "        2020Q4  2020Q3  2020Q2  2020Q1  2019Q4  2019Q3  2019Q2  2019Q1  \\\n",
       "133475     NaN     NaN     NaN     NaN     NaN     NaN     NaN     NaN   \n",
       "128317     NaN     NaN     NaN     NaN     NaN     NaN     NaN     NaN   \n",
       "32228      NaN     NaN     NaN     NaN     NaN     NaN     NaN     NaN   \n",
       "181699     NaN     NaN     NaN     NaN     NaN     NaN     NaN     NaN   \n",
       "39917      NaN     NaN     NaN     NaN     NaN     NaN     NaN     NaN   \n",
       "\n",
       "        2018Q4  2018Q3  2018Q2  2018Q1  \n",
       "133475     NaN     NaN     NaN     NaN  \n",
       "128317     NaN     NaN     NaN     NaN  \n",
       "32228      NaN     NaN     NaN     NaN  \n",
       "181699     NaN     NaN     NaN     NaN  \n",
       "39917      NaN     NaN     NaN     NaN  "
      ]
     },
     "execution_count": 10,
     "metadata": {},
     "output_type": "execute_result"
    }
   ],
   "source": [
    "#Muestra de algunos valores nulos\n",
    "PopByAge[PopByAge.isnull().any(1)].sample(5)\n",
    "\n",
    "#Un montón pffff"
   ]
  },
  {
   "cell_type": "code",
   "execution_count": 11,
   "metadata": {},
   "outputs": [],
   "source": [
    "# Cargo los diccionarios para PopByAge desde el bulkdown de Eurostat\n",
    "unit = eurostat.get_dic('unit')\n",
    "sex = eurostat.get_dic('sex')\n",
    "citizen =eurostat.get_dic('citizen')\n",
    "age = eurostat.get_dic('age')\n",
    "wstatus = eurostat.get_dic('wstatus')\n",
    "geo =eurostat.get_dic('geo')"
   ]
  },
  {
   "cell_type": "code",
   "execution_count": 12,
   "metadata": {},
   "outputs": [],
   "source": [
    "#Uso la variable broadcast porque solo me interesan los datos presentes en el dataframe\n",
    "\n",
    "broadcast_unit = spark.sparkContext.broadcast(unit)\n",
    "broadcast_sex = spark.sparkContext.broadcast(sex)\n",
    "broadcast_citizen = spark.sparkContext.broadcast(citizen)\n",
    "broadcast_age = spark.sparkContext.broadcast(age)\n",
    "broadcast_wstatus = spark.sparkContext.broadcast(wstatus)\n",
    "broadcast_geo = spark.sparkContext.broadcast(geo)"
   ]
  },
  {
   "cell_type": "code",
   "execution_count": 13,
   "metadata": {},
   "outputs": [
    {
     "name": "stdout",
     "output_type": "stream",
     "text": [
      "root\n",
      " |-- unit: string (nullable = true)\n",
      " |-- sex: string (nullable = true)\n",
      " |-- citizen: string (nullable = true)\n",
      " |-- age: string (nullable = true)\n",
      " |-- wstatus: string (nullable = true)\n",
      " |-- country: string (nullable = true)\n",
      " |-- 2021Q2: double (nullable = true)\n",
      " |-- 2021Q1: double (nullable = true)\n",
      " |-- 2020Q4: double (nullable = true)\n",
      " |-- 2020Q3: double (nullable = true)\n",
      " |-- 2020Q2: double (nullable = true)\n",
      " |-- 2020Q1: double (nullable = true)\n",
      " |-- 2019Q4: double (nullable = true)\n",
      " |-- 2019Q3: double (nullable = true)\n",
      " |-- 2019Q2: double (nullable = true)\n",
      " |-- 2019Q1: double (nullable = true)\n",
      " |-- 2018Q4: double (nullable = true)\n",
      " |-- 2018Q3: double (nullable = true)\n",
      " |-- 2018Q2: double (nullable = true)\n",
      " |-- 2018Q1: double (nullable = true)\n",
      "\n"
     ]
    }
   ],
   "source": [
    "#From pandas to spark\n",
    "Pop_Age = spark.createDataFrame(PopByAge)\n",
    "Pop_Age.printSchema()"
   ]
  },
  {
   "cell_type": "code",
   "execution_count": 14,
   "metadata": {
    "scrolled": false
   },
   "outputs": [
    {
     "name": "stdout",
     "output_type": "stream",
     "text": [
      "----------------------------------------------\n",
      "Codes in Population by sex, age, citizenship and labour status DataFrame\n",
      "----------------------------------------------\n",
      "+----+------+--------+\n",
      "|unit|count |UnitDesc|\n",
      "+----+------+--------+\n",
      "|THS |133612|Thousand|\n",
      "+----+------+--------+\n",
      "\n",
      "+---+-----+-------+\n",
      "|sex|count|SexDesc|\n",
      "+---+-----+-------+\n",
      "|F  |44085|Females|\n",
      "|T  |45045|Total  |\n",
      "|M  |44482|Males  |\n",
      "+---+-----+-------+\n",
      "\n",
      "+--------------+-----+----------------------------------------------------+\n",
      "|citizen       |count|CitizenDesc                                         |\n",
      "+--------------+-----+----------------------------------------------------+\n",
      "|NEU28_FOR     |12578|Non-EU28 countries (2013-2020) nor reporting country|\n",
      "|NRP           |10781|No response                                         |\n",
      "|EU28_FOR      |12395|EU28 countries (2013-2020) except reporting country |\n",
      "|STLS          |9060 |Stateless                                           |\n",
      "|EU27_2020_FOR |12446|EU27 countries (from 2020) except reporting country |\n",
      "|NEU27_2020_FOR|12651|Non-EU27 countries (from 2020) nor reporting country|\n",
      "|TOTAL         |12971|Total                                               |\n",
      "|EU15_FOR      |12156|EU15 countries (1995-2004) except reporting country |\n",
      "|NEU15_FOR     |12755|Non-EU15 countries (1995-2004) nor reporting country|\n",
      "|FOR           |12848|Foreign country                                     |\n",
      "|NAT           |12971|Reporting country                                   |\n",
      "+--------------+-----+----------------------------------------------------+\n",
      "\n",
      "+------+-----+-------------------+\n",
      "|age   |count|AgeDesc            |\n",
      "+------+-----+-------------------+\n",
      "|Y25-29|4251 |From 25 to 29 years|\n",
      "|Y50-64|4266 |From 50 to 64 years|\n",
      "|Y25-49|4337 |From 25 to 49 years|\n",
      "|Y65-69|3850 |From 65 to 69 years|\n",
      "|Y15-24|4214 |From 15 to 24 years|\n",
      "|Y40-64|4322 |From 40 to 64 years|\n",
      "|Y70-74|3551 |From 70 to 74 years|\n",
      "|Y40-44|4191 |From 40 to 44 years|\n",
      "|Y25-54|4349 |From 25 to 54 years|\n",
      "|Y15-64|4366 |From 15 to 64 years|\n",
      "|Y_GE15|4367 |15 years or over   |\n",
      "|Y35-39|4225 |From 35 to 39 years|\n",
      "|Y_GE65|3933 |65 years or over   |\n",
      "|Y60-64|4045 |From 60 to 64 years|\n",
      "|Y45-49|4216 |From 45 to 49 years|\n",
      "|Y55-59|4176 |From 55 to 59 years|\n",
      "|Y50-54|4206 |From 50 to 54 years|\n",
      "|Y_GE75|2787 |75 years or over   |\n",
      "|Y20-64|4364 |From 20 to 64 years|\n",
      "|Y15-19|3997 |From 15 to 19 years|\n",
      "|Y25-64|4356 |From 25 to 64 years|\n",
      "|Y20-24|4170 |From 20 to 24 years|\n",
      "|Y55-64|4213 |From 55 to 64 years|\n",
      "|Y15-74|4366 |From 15 to 74 years|\n",
      "|Y40-59|4315 |From 40 to 59 years|\n",
      "|Y25-59|4352 |From 25 to 59 years|\n",
      "|Y15-39|4341 |From 15 to 39 years|\n",
      "|Y50-59|4252 |From 50 to 59 years|\n",
      "|Y_GE50|4279 |50 years or over   |\n",
      "|Y15-59|4363 |From 15 to 59 years|\n",
      "|Y_GE25|4360 |25 years or over   |\n",
      "|Y30-34|4232 |From 30 to 34 years|\n",
      "+------+-----+-------------------+\n",
      "\n",
      "+-------+-----+----------------------------------------------------------------+\n",
      "|wstatus|count|WstatusDesc                                                     |\n",
      "+-------+-----+----------------------------------------------------------------+\n",
      "|POP    |27685|Population                                                      |\n",
      "|INAC   |27314|Persons outside the labour force (former name: inactive persons)|\n",
      "|ACT    |26923|Persons in the labour force (former name: active persons)       |\n",
      "|UNK    |478  |Unknown                                                         |\n",
      "|EMP    |26845|Employed persons                                                |\n",
      "|UNE    |24367|Unemployed persons                                              |\n",
      "+-------+-----+----------------------------------------------------------------+\n",
      "\n",
      "+-------+-----+------------------------------------------------+\n",
      "|country|count|CountryName                                     |\n",
      "+-------+-----+------------------------------------------------+\n",
      "|LT     |4720 |Lithuania                                       |\n",
      "|FI     |5092 |Finland                                         |\n",
      "|RO     |4663 |Romania                                         |\n",
      "|NL     |4888 |Netherlands                                     |\n",
      "|PL     |5018 |Poland                                          |\n",
      "|EE     |4915 |Estonia                                         |\n",
      "|AT     |5215 |Austria                                         |\n",
      "|HR     |4434 |Croatia                                         |\n",
      "|CZ     |5072 |Czechia                                         |\n",
      "|PT     |5176 |Portugal                                        |\n",
      "|MT     |5118 |Malta                                           |\n",
      "|DE     |5211 |Germany (until 1990 former territory of the FRG)|\n",
      "|ES     |4653 |Spain                                           |\n",
      "|FR     |5204 |France                                          |\n",
      "|IT     |5112 |Italy                                           |\n",
      "|SE     |5130 |Sweden                                          |\n",
      "|BG     |4678 |Bulgaria                                        |\n",
      "|SK     |4498 |Slovakia                                        |\n",
      "|LV     |4940 |Latvia                                          |\n",
      "|HU     |4880 |Hungary                                         |\n",
      "|CY     |4732 |Cyprus                                          |\n",
      "|SI     |4821 |Slovenia                                        |\n",
      "|IE     |5234 |Ireland                                         |\n",
      "|EL     |5106 |Greece                                          |\n",
      "|BE     |5167 |Belgium                                         |\n",
      "|LU     |4855 |Luxembourg                                      |\n",
      "|DK     |5080 |Denmark                                         |\n",
      "+-------+-----+------------------------------------------------+\n",
      "\n"
     ]
    }
   ],
   "source": [
    "#Codes in Pop_Age DF: unit, sex, citizen, age, Wstatus   \n",
    "\n",
    "\n",
    "# Look for the codes for each variable, the meaning of the codes and count how many times apears in the DF\n",
    "unitText = Pop_Age.groupBy(\"unit\").count()\n",
    "sexText = Pop_Age.groupBy(\"sex\").count()\n",
    "citizenText = Pop_Age.groupBy(\"citizen\").count()\n",
    "ageText = Pop_Age.groupBy(\"age\").count()\n",
    "wstatusText = Pop_Age.groupBy(\"wstatus\").count()\n",
    "geoText = Pop_Age.groupBy(\"country\").count()\n",
    "\n",
    "# Function to look up code names from broadcasted variables\n",
    "###...Problem: I've not been able to use just one Function and replace the variables. def lookup(x)\n",
    "def lookupUnit(unit):\n",
    "    return broadcast_unit.value[unit]\n",
    "\n",
    "def lookupSex(sex):\n",
    "    return broadcast_sex.value[sex]\n",
    "\n",
    "def lookupCitizen(citizen):\n",
    "    return broadcast_citizen.value[citizen]\n",
    "\n",
    "def lookupAge(age):\n",
    "    return broadcast_age.value[age]\n",
    "\n",
    "def lookupWstatus(wstatus):\n",
    "    return broadcast_wstatus.value[wstatus]\n",
    "\n",
    "def lookupGeo(geo):\n",
    "    return broadcast_geo.value[geo]\n",
    "\n",
    "lookupUnitUDF = func.udf(lookupUnit)\n",
    "lookupSexUDF = func.udf(lookupSex)\n",
    "lookupCitizenUDF = func.udf(lookupCitizen)\n",
    "lookupAgeUDF = func.udf(lookupAge)\n",
    "lookupWstatusUDF = func.udf(lookupWstatus)\n",
    "lookupGeoUDF = func.udf(lookupGeo)\n",
    "\n",
    "# Add a new column\n",
    "\n",
    "UnitDesc = unitText.withColumn(\"UnitDesc\", lookupUnitUDF(func.col(\"unit\")))\n",
    "SexDesc = sexText.withColumn(\"SexDesc\", lookupSexUDF(func.col(\"sex\")))\n",
    "CitizenDesc = citizenText.withColumn(\"CitizenDesc\", lookupCitizenUDF(func.col(\"citizen\")))\n",
    "AgeDesc = ageText.withColumn(\"AgeDesc\", lookupAgeUDF(func.col(\"age\")))\n",
    "WstatusDesc = wstatusText.withColumn(\"WstatusDesc\", lookupWstatusUDF(func.col(\"wstatus\")))\n",
    "geoDesc = geoText.withColumn(\"CountryName\", lookupGeoUDF(func.col(\"Country\")))\n",
    "\n",
    "print(\"----------------------------------------------\")\n",
    "print(\"Codes in Population by sex, age, citizenship and labour status DataFrame\")\n",
    "print(\"----------------------------------------------\")\n",
    "\n",
    "UnitDesc.show(truncate=False)\n",
    "SexDesc.show(truncate=False)\n",
    "CitizenDesc.show(truncate=False)\n",
    "AgeDesc.show(80, truncate=False)\n",
    "WstatusDesc.show(truncate=False)\n",
    "geoDesc.show(27, truncate=False)"
   ]
  },
  {
   "cell_type": "code",
   "execution_count": 15,
   "metadata": {},
   "outputs": [],
   "source": [
    "#De este DataFrame elimino la columna unit porque solo tiene un valor: thousands \n",
    "#La variable age la dejo tal cual\n",
    "#De la variables citizen solo me interesan TOTAL, filtro por esta y elimino la columna\n",
    "#De la variable age me interesa la població en edad de trabajar, entre 15 y 64, y por rangos de edades \n",
    "#De la variable wstatus todos menos unknown \n",
    "\n",
    "citizenconcept= ['TOTAL']\n",
    "ageconcept = ['Y15-64', 'Y20-64', 'Y20-24', 'Y25-29', 'Y30-34', 'Y35-39', 'Y40-59']\n",
    "wstatutsconcept = ['POP', 'INAC', 'ACT', 'EMP', 'UNE']\n",
    "\n",
    "Pop_Age = Pop_Age.filter((Pop_Age.citizen.isin(citizenconcept)) & (Pop_Age.age.isin(ageconcept)) & (Pop_Age.wstatus.isin(wstatutsconcept)))\n",
    "Pop_Age = Pop_Age.select([c for c in Pop_Age.columns if c not in {'unit', 'citizen'}])"
   ]
  },
  {
   "cell_type": "code",
   "execution_count": 16,
   "metadata": {},
   "outputs": [
    {
     "name": "stdout",
     "output_type": "stream",
     "text": [
      "+---+---+-------+-------+------+------+------+------+------+------+------+------+------+------+------+------+------+------+\n",
      "|sex|age|wstatus|country|2021Q2|2021Q1|2020Q4|2020Q3|2020Q2|2020Q1|2019Q4|2019Q3|2019Q2|2019Q1|2018Q4|2018Q3|2018Q2|2018Q1|\n",
      "+---+---+-------+-------+------+------+------+------+------+------+------+------+------+------+------+------+------+------+\n",
      "|  0|  0|      0|      0|    49|    39|   144|   143|   147|   155|    55|    53|    58|    48|    48|    48|    52|    40|\n",
      "+---+---+-------+-------+------+------+------+------+------+------+------+------+------+------+------+------+------+------+\n",
      "\n"
     ]
    }
   ],
   "source": [
    "Pop_Age.select([func.count(func.when(func.isnan(c) | func.col(c).isNull(), c)).alias(c) for c in Pop_Age.columns]).show()"
   ]
  },
  {
   "cell_type": "code",
   "execution_count": 17,
   "metadata": {
    "scrolled": false
   },
   "outputs": [
    {
     "name": "stdout",
     "output_type": "stream",
     "text": [
      "+---+------+-------+-------+-------+-------+------+------+------+------+-------+-------+-------+-------+-------+-------+-------+-------+\n",
      "|sex|   age|wstatus|country| 2021Q2| 2021Q1|2020Q4|2020Q3|2020Q2|2020Q1| 2019Q4| 2019Q3| 2019Q2| 2019Q1| 2018Q4| 2018Q3| 2018Q2| 2018Q1|\n",
      "+---+------+-------+-------+-------+-------+------+------+------+------+-------+-------+-------+-------+-------+-------+-------+-------+\n",
      "|  T|Y15-64|    ACT|     DE|41581.0|41789.7|   NaN|   NaN|   NaN|   NaN|42938.5|42498.6|42002.6|42269.5|42267.1|42329.2|41760.4|42019.5|\n",
      "|  T|Y15-64|    EMP|     DE|40059.4|40036.8|   NaN|   NaN|   NaN|   NaN|41599.4|41153.3|40681.2|40826.4|40901.9|40893.8|40280.9|40466.3|\n",
      "|  T|Y15-64|   INAC|     DE|11429.3|11680.0|   NaN|   NaN|   NaN|   NaN|11053.3|10952.0|11200.8|11264.7|11180.6|11279.4|11630.6|11627.7|\n",
      "|  T|Y15-64|    POP|     DE|53010.4|53469.6|   NaN|   NaN|   NaN|   NaN|53991.9|53450.6|53203.4|53534.3|53447.6|53608.6|53391.0|53647.2|\n",
      "|  T|Y15-64|    UNE|     DE| 1521.6| 1752.9|   NaN|   NaN|   NaN|   NaN| 1339.1| 1345.3| 1321.4| 1443.1| 1365.2| 1435.4| 1479.5| 1553.2|\n",
      "|  T|Y20-24|    ACT|     DE| 3261.5| 3303.6|   NaN|   NaN|   NaN|   NaN| 3171.4| 3116.0| 3131.4| 3114.1| 3130.4| 3071.9| 3035.5| 3041.4|\n",
      "|  T|Y20-24|    EMP|     DE| 3058.0| 3031.9|   NaN|   NaN|   NaN|   NaN| 3012.3| 2939.4| 2976.3| 2942.1| 2974.7| 2897.6| 2855.2| 2851.5|\n",
      "|  T|Y20-24|   INAC|     DE| 1368.5| 1380.2|   NaN|   NaN|   NaN|   NaN| 1299.7| 1230.7| 1304.8| 1273.7| 1339.3| 1299.8| 1345.6| 1347.5|\n",
      "|  T|Y20-24|    POP|     DE| 4630.1| 4683.8|   NaN|   NaN|   NaN|   NaN| 4471.2| 4346.7| 4436.2| 4387.8| 4469.7| 4371.7| 4381.1| 4389.0|\n",
      "|  T|Y20-24|    UNE|     DE|  203.5|  271.8|   NaN|   NaN|   NaN|   NaN|  159.1|  176.6|  155.0|  172.0|  155.7|  174.3|  180.3|  190.0|\n",
      "|  T|Y20-64|    ACT|     DE|40573.6|40708.8|   NaN|   NaN|   NaN|   NaN|41708.3|41295.7|40904.8|41026.1|41027.4|41161.5|40678.3|40820.1|\n",
      "|  T|Y20-64|    EMP|     DE|39149.7|39046.1|   NaN|   NaN|   NaN|   NaN|40435.2|40065.7|39658.1|39662.0|39735.7|39829.8|39291.4|39348.0|\n",
      "|  T|Y20-64|   INAC|     DE| 8752.7| 8949.4|   NaN|   NaN|   NaN|   NaN| 8298.0| 8171.9| 8374.1| 8394.7| 8379.6| 8509.2| 8686.5| 8693.1|\n",
      "|  T|Y20-64|    POP|     DE|49326.3|49658.3|   NaN|   NaN|   NaN|   NaN|50006.3|49467.7|49279.0|49420.8|49407.0|49670.7|49364.9|49513.1|\n",
      "|  T|Y20-64|    UNE|     DE| 1423.8| 1662.7|   NaN|   NaN|   NaN|   NaN| 1273.1| 1230.0| 1246.7| 1364.1| 1291.7| 1331.7| 1387.0| 1472.0|\n",
      "|  T|Y25-29|    ACT|     DE| 3962.6| 3947.5|   NaN|   NaN|   NaN|   NaN| 4095.4| 4213.3| 4160.3| 4157.2| 4219.1| 4271.6| 4281.4| 4283.8|\n",
      "|  T|Y25-29|    EMP|     DE| 3767.8| 3720.8|   NaN|   NaN|   NaN|   NaN| 3930.0| 4045.7| 3995.3| 3977.5| 4023.8| 4094.4| 4090.5| 4069.2|\n",
      "|  T|Y25-29|   INAC|     DE|  743.9|  765.8|   NaN|   NaN|   NaN|   NaN|  782.1|  746.6|  798.7|  817.4|  827.5|  838.5|  846.2|  846.6|\n",
      "|  T|Y25-29|    POP|     DE| 4706.5| 4713.3|   NaN|   NaN|   NaN|   NaN| 4877.5| 4959.9| 4959.0| 4974.6| 5046.6| 5110.1| 5127.7| 5130.4|\n",
      "|  T|Y25-29|    UNE|     DE|  194.8|  226.7|   NaN|   NaN|   NaN|   NaN|  165.3|  167.6|  165.0|  179.7|  195.3|  177.1|  191.0|  214.6|\n",
      "+---+------+-------+-------+-------+-------+------+------+------+------+-------+-------+-------+-------+-------+-------+-------+-------+\n",
      "only showing top 20 rows\n",
      "\n"
     ]
    }
   ],
   "source": [
    "# Problema, Alemania no ha reportado datos para el año 2020\n",
    "\n",
    "Pop_Age.filter((Pop_Age.country == 'DE') & (Pop_Age.sex == 'T')).show()"
   ]
  },
  {
   "cell_type": "code",
   "execution_count": 18,
   "metadata": {},
   "outputs": [],
   "source": [
    "countryconcept= ['DE']\n",
    "\n",
    "Pop_Age_withoutDE = Pop_Age.filter(~Pop_Age.country.isin(countryconcept)) \n"
   ]
  },
  {
   "cell_type": "code",
   "execution_count": 19,
   "metadata": {},
   "outputs": [
    {
     "name": "stdout",
     "output_type": "stream",
     "text": [
      "+---+---+-------+-------+------+------+------+------+------+------+------+------+------+------+------+------+------+------+\n",
      "|sex|age|wstatus|country|2021Q2|2021Q1|2020Q4|2020Q3|2020Q2|2020Q1|2019Q4|2019Q3|2019Q2|2019Q1|2018Q4|2018Q3|2018Q2|2018Q1|\n",
      "+---+---+-------+-------+------+------+------+------+------+------+------+------+------+------+------+------+------+------+\n",
      "|  0|  0|      0|      0|    49|    39|    39|    38|    42|    50|    55|    53|    58|    48|    48|    48|    52|    40|\n",
      "+---+---+-------+-------+------+------+------+------+------+------+------+------+------+------+------+------+------+------+\n",
      "\n"
     ]
    }
   ],
   "source": [
    "Pop_Age_withoutDE.select([func.count(func.when(func.isnan(c) | func.col(c).isNull(), c)).alias(c) for c in Pop_Age_withoutDE.columns]).show()"
   ]
  },
  {
   "cell_type": "code",
   "execution_count": 20,
   "metadata": {},
   "outputs": [
    {
     "name": "stdout",
     "output_type": "stream",
     "text": [
      "+---+---+-------+-------+------+------+------+------+------+------+------+------+------+------+------+------+------+------+\n",
      "|sex|age|wstatus|country|2021Q2|2021Q1|2020Q4|2020Q3|2020Q2|2020Q1|2019Q4|2019Q3|2019Q2|2019Q1|2018Q4|2018Q3|2018Q2|2018Q1|\n",
      "+---+---+-------+-------+------+------+------+------+------+------+------+------+------+------+------+------+------+------+\n",
      "+---+---+-------+-------+------+------+------+------+------+------+------+------+------+------+------+------+------+------+\n",
      "\n"
     ]
    }
   ],
   "source": [
    "Pop_Age_withoutDE.filter(Pop_Age_withoutDE['2021Q2'].isNull()).show()"
   ]
  },
  {
   "cell_type": "code",
   "execution_count": 21,
   "metadata": {},
   "outputs": [],
   "source": [
    "Pop_Age = Pop_Age.selectExpr('sex', 'age', 'wstatus', 'country', \"\"\"stack(14,'2021Q2', 2021Q2, '2021Q1', 2021Q1, '2020Q4', 2020Q4, '2020Q3', 2020Q3, '2020Q2', 2020Q2, '2020Q1', 2020Q1, '2019Q4', 2019Q4,\n",
    "                '2019Q3', 2019Q3, '2019Q2', 2019Q2, '2019Q1', 2019Q1, '2018Q4', 2018Q4, '2018Q3', 2018Q3, '2018Q2', 2018Q2, '2018Q1', 2018Q1) as (Date, cant)\"\"\")"
   ]
  },
  {
   "cell_type": "code",
   "execution_count": 22,
   "metadata": {
    "scrolled": true
   },
   "outputs": [
    {
     "name": "stdout",
     "output_type": "stream",
     "text": [
      "root\n",
      " |-- sex: string (nullable = true)\n",
      " |-- age: string (nullable = true)\n",
      " |-- wstatus: string (nullable = true)\n",
      " |-- country: string (nullable = true)\n",
      " |-- Date: string (nullable = true)\n",
      " |-- cant: double (nullable = true)\n",
      "\n"
     ]
    }
   ],
   "source": [
    "Pop_Age.printSchema()"
   ]
  },
  {
   "cell_type": "code",
   "execution_count": 23,
   "metadata": {},
   "outputs": [
    {
     "name": "stdout",
     "output_type": "stream",
     "text": [
      "+-------+-----+------+-------+-------+------+------+\n",
      "|summary|  sex|   age|wstatus|country|  Date|  cant|\n",
      "+-------+-----+------+-------+-------+------+------+\n",
      "|  count|39690| 39690|  39690|  39690| 39690| 39690|\n",
      "|   mean| null|  null|   null|   null|  null|   NaN|\n",
      "| stddev| null|  null|   null|   null|  null|   NaN|\n",
      "|    min|    F|Y15-64|    ACT|     AT|2018Q1|   0.9|\n",
      "|    25%| null|  null|   null|   null|  null|  63.4|\n",
      "|    50%| null|  null|   null|   null|  null| 276.4|\n",
      "|    75%| null|  null|   null|   null|  null|1287.6|\n",
      "|    max|    T|Y40-59|    UNE|     SK|2021Q2|   NaN|\n",
      "+-------+-----+------+-------+-------+------+------+\n",
      "\n"
     ]
    }
   ],
   "source": [
    "Pop_Age.summary().show()"
   ]
  },
  {
   "cell_type": "code",
   "execution_count": 24,
   "metadata": {},
   "outputs": [],
   "source": [
    "Pop_Age_F = Pop_Age.withColumn(\"Estado_empleo\", lookupWstatusUDF(func.col(\"wstatus\"))).withColumn(\"CountryName\", lookupGeoUDF(func.col(\"Country\"))).orderBy('Country', \"date\")"
   ]
  },
  {
   "cell_type": "code",
   "execution_count": 25,
   "metadata": {
    "scrolled": true
   },
   "outputs": [
    {
     "name": "stdout",
     "output_type": "stream",
     "text": [
      "+---+------+-------+-------+------+------+--------------------+-----------+\n",
      "|sex|   age|wstatus|country|  Date|  cant|       Estado_empleo|CountryName|\n",
      "+---+------+-------+-------+------+------+--------------------+-----------+\n",
      "|  F|Y25-29|    POP|     AT|2018Q1| 290.9|          Population|    Austria|\n",
      "|  M|Y15-64|    POP|     AT|2018Q1|2897.8|          Population|    Austria|\n",
      "|  F|Y25-29|    UNE|     AT|2018Q1|  10.6|  Unemployed persons|    Austria|\n",
      "|  F|Y15-64|    EMP|     AT|2018Q1|1980.0|    Employed persons|    Austria|\n",
      "|  F|Y30-34|    ACT|     AT|2018Q1| 248.0|Persons in the la...|    Austria|\n",
      "|  F|Y15-64|   INAC|     AT|2018Q1| 824.3|Persons outside t...|    Austria|\n",
      "|  F|Y30-34|    EMP|     AT|2018Q1| 235.0|    Employed persons|    Austria|\n",
      "|  F|Y15-64|    UNE|     AT|2018Q1| 100.6|  Unemployed persons|    Austria|\n",
      "|  F|Y30-34|   INAC|     AT|2018Q1|  44.6|Persons outside t...|    Austria|\n",
      "|  F|Y20-24|    EMP|     AT|2018Q1| 163.3|    Employed persons|    Austria|\n",
      "|  F|Y30-34|    POP|     AT|2018Q1| 292.6|          Population|    Austria|\n",
      "|  F|Y20-24|    UNE|     AT|2018Q1|  13.4|  Unemployed persons|    Austria|\n",
      "|  F|Y30-34|    UNE|     AT|2018Q1|  13.0|  Unemployed persons|    Austria|\n",
      "|  F|Y20-64|    EMP|     AT|2018Q1|1922.7|    Employed persons|    Austria|\n",
      "|  F|Y35-39|    ACT|     AT|2018Q1| 246.7|Persons in the la...|    Austria|\n",
      "|  F|Y20-64|    POP|     AT|2018Q1|2693.5|          Population|    Austria|\n",
      "|  F|Y35-39|    EMP|     AT|2018Q1| 234.4|    Employed persons|    Austria|\n",
      "|  F|Y25-29|    ACT|     AT|2018Q1| 236.2|Persons in the la...|    Austria|\n",
      "|  F|Y35-39|   INAC|     AT|2018Q1|  43.3|Persons outside t...|    Austria|\n",
      "|  F|Y25-29|   INAC|     AT|2018Q1|  54.6|Persons outside t...|    Austria|\n",
      "+---+------+-------+-------+------+------+--------------------+-----------+\n",
      "only showing top 20 rows\n",
      "\n"
     ]
    }
   ],
   "source": [
    "Pop_Age_F.show()"
   ]
  },
  {
   "cell_type": "code",
   "execution_count": 26,
   "metadata": {},
   "outputs": [],
   "source": [
    "Germanie_Issue = Pop_Age_F.toPandas()\n",
    "Germanie_Issue['CountryName'].replace(\n",
    "    to_replace=['Germany (until 1990 former territory of the FRG)'],\n",
    "    value='Germany',\n",
    "    inplace=True\n",
    ")\n",
    "Pop_Age_F = spark.createDataFrame(Germanie_Issue)"
   ]
  },
  {
   "cell_type": "code",
   "execution_count": 27,
   "metadata": {},
   "outputs": [],
   "source": [
    "#Guardar en HDFS row data\n",
    "\n",
    "Pop_Age_F.write.mode('overwrite').parquet(\"hdfs://localhost:9000//TFM_CEE/row/PopWStatusByAge.parquet\")"
   ]
  },
  {
   "cell_type": "code",
   "execution_count": null,
   "metadata": {},
   "outputs": [],
   "source": []
  }
 ],
 "metadata": {
  "kernelspec": {
   "display_name": "Python 3",
   "language": "python",
   "name": "python3"
  },
  "language_info": {
   "codemirror_mode": {
    "name": "ipython",
    "version": 3
   },
   "file_extension": ".py",
   "mimetype": "text/x-python",
   "name": "python",
   "nbconvert_exporter": "python",
   "pygments_lexer": "ipython3",
   "version": "3.8.5"
  }
 },
 "nbformat": 4,
 "nbformat_minor": 4
}
