{
 "cells": [
  {
   "cell_type": "markdown",
   "metadata": {},
   "source": [
    "# Employment A*10 industry breakdowns"
   ]
  },
  {
   "cell_type": "markdown",
   "metadata": {},
   "source": [
    "## 6. Datos relativos a empleo por actividad económica\n",
    "\n",
    "\n"
   ]
  },
  {
   "cell_type": "code",
   "execution_count": 1,
   "metadata": {},
   "outputs": [],
   "source": [
    "import pandas as pd\n",
    "import numpy as np\n",
    "import matplotlib.pyplot as plt\n",
    "import seaborn as sns\n",
    "import eurostat\n",
    "import plotly.express as px # Graphics\n",
    "from MyFunctions import EUcountries\n",
    "from pyspark.sql import SparkSession \n",
    "from pyspark.sql.types import StructField, StructType, StringType, IntegerType, FloatType \n",
    "from pyspark.sql import functions as func"
   ]
  },
  {
   "cell_type": "code",
   "execution_count": 2,
   "metadata": {},
   "outputs": [],
   "source": [
    "spark = SparkSession.builder.appName(\"EmploymentById\").master(\"local\") .getOrCreate() "
   ]
  },
  {
   "cell_type": "markdown",
   "metadata": {},
   "source": [
    "### Exploración DF"
   ]
  },
  {
   "cell_type": "code",
   "execution_count": 3,
   "metadata": {
    "scrolled": true
   },
   "outputs": [
    {
     "name": "stdout",
     "output_type": "stream",
     "text": [
      "<class 'pandas.core.frame.DataFrame'>\n",
      "RangeIndex: 26992 entries, 0 to 26991\n",
      "Columns: 192 entries, unit to 1975Q1\n",
      "dtypes: float64(187), object(5)\n",
      "memory usage: 39.5+ MB\n"
     ]
    }
   ],
   "source": [
    "# Employment A*10 industry breakdowns\n",
    "emplInd = eurostat.get_data_df('namq_10_a10_e')\n",
    "emplInd.info()"
   ]
  },
  {
   "cell_type": "code",
   "execution_count": 4,
   "metadata": {},
   "outputs": [
    {
     "name": "stdout",
     "output_type": "stream",
     "text": [
      "Dataset actualizado a: 29 de Octubre 2021\n",
      "Nº de filas / entradas:  26992\n",
      "Nº de columnas / variables:  192\n",
      "Tipo de datos para cada variable: \n"
     ]
    },
    {
     "data": {
      "text/plain": [
       "unit         object\n",
       "nace_r2      object\n",
       "s_adj        object\n",
       "na_item      object\n",
       "geo\\time     object\n",
       "             ...   \n",
       "1976Q1      float64\n",
       "1975Q4      float64\n",
       "1975Q3      float64\n",
       "1975Q2      float64\n",
       "1975Q1      float64\n",
       "Length: 192, dtype: object"
      ]
     },
     "metadata": {},
     "output_type": "display_data"
    },
    {
     "name": "stdout",
     "output_type": "stream",
     "text": [
      "Total valores nulos:  2339218\n",
      "Variables con valores nulos: \n",
      "  2021Q3:  25627 valores nulos\n",
      "  2018Q3:  1551 valores nulos\n"
     ]
    }
   ],
   "source": [
    "print(\"Dataset actualizado a: 29 de Octubre 2021\")\n",
    "print(\"Nº de filas / entradas: \", emplInd.shape[0])\n",
    "print(\"Nº de columnas / variables: \", emplInd.shape[1])\n",
    "print(\"Tipo de datos para cada variable: \")\n",
    "display(emplInd.dtypes)\n",
    "print(\"Total valores nulos: \", emplInd.isnull().sum().sum())\n",
    "print(\"Variables con valores nulos: \")\n",
    "print(\"  2021Q3: \", emplInd['2021Q3'].isnull().sum().sum(), \"valores nulos\")\n",
    "print(\"  2018Q3: \", emplInd['2018Q3'].isnull().sum().sum(),  \"valores nulos\")"
   ]
  },
  {
   "cell_type": "code",
   "execution_count": 5,
   "metadata": {},
   "outputs": [
    {
     "data": {
      "text/html": [
       "<div>\n",
       "<style scoped>\n",
       "    .dataframe tbody tr th:only-of-type {\n",
       "        vertical-align: middle;\n",
       "    }\n",
       "\n",
       "    .dataframe tbody tr th {\n",
       "        vertical-align: top;\n",
       "    }\n",
       "\n",
       "    .dataframe thead th {\n",
       "        text-align: right;\n",
       "    }\n",
       "</style>\n",
       "<table border=\"1\" class=\"dataframe\">\n",
       "  <thead>\n",
       "    <tr style=\"text-align: right;\">\n",
       "      <th></th>\n",
       "      <th>unit</th>\n",
       "      <th>nace_r2</th>\n",
       "      <th>s_adj</th>\n",
       "      <th>na_item</th>\n",
       "      <th>geo\\time</th>\n",
       "      <th>2021Q3</th>\n",
       "      <th>2021Q2</th>\n",
       "      <th>2021Q1</th>\n",
       "      <th>2020Q4</th>\n",
       "      <th>2020Q3</th>\n",
       "      <th>...</th>\n",
       "      <th>1977Q2</th>\n",
       "      <th>1977Q1</th>\n",
       "      <th>1976Q4</th>\n",
       "      <th>1976Q3</th>\n",
       "      <th>1976Q2</th>\n",
       "      <th>1976Q1</th>\n",
       "      <th>1975Q4</th>\n",
       "      <th>1975Q3</th>\n",
       "      <th>1975Q2</th>\n",
       "      <th>1975Q1</th>\n",
       "    </tr>\n",
       "  </thead>\n",
       "  <tbody>\n",
       "    <tr>\n",
       "      <th>12814</th>\n",
       "      <td>PCH_SM_PER</td>\n",
       "      <td>F</td>\n",
       "      <td>NSA</td>\n",
       "      <td>SAL_DC</td>\n",
       "      <td>CZ</td>\n",
       "      <td>NaN</td>\n",
       "      <td>4.3</td>\n",
       "      <td>1.1</td>\n",
       "      <td>1.3</td>\n",
       "      <td>0.1</td>\n",
       "      <td>...</td>\n",
       "      <td>NaN</td>\n",
       "      <td>NaN</td>\n",
       "      <td>NaN</td>\n",
       "      <td>NaN</td>\n",
       "      <td>NaN</td>\n",
       "      <td>NaN</td>\n",
       "      <td>NaN</td>\n",
       "      <td>NaN</td>\n",
       "      <td>NaN</td>\n",
       "      <td>NaN</td>\n",
       "    </tr>\n",
       "    <tr>\n",
       "      <th>14215</th>\n",
       "      <td>PCH_SM_PER</td>\n",
       "      <td>O-Q</td>\n",
       "      <td>NSA</td>\n",
       "      <td>EMP_DC</td>\n",
       "      <td>NO</td>\n",
       "      <td>NaN</td>\n",
       "      <td>2.5</td>\n",
       "      <td>1.3</td>\n",
       "      <td>1.2</td>\n",
       "      <td>0.2</td>\n",
       "      <td>...</td>\n",
       "      <td>NaN</td>\n",
       "      <td>NaN</td>\n",
       "      <td>NaN</td>\n",
       "      <td>NaN</td>\n",
       "      <td>NaN</td>\n",
       "      <td>NaN</td>\n",
       "      <td>NaN</td>\n",
       "      <td>NaN</td>\n",
       "      <td>NaN</td>\n",
       "      <td>NaN</td>\n",
       "    </tr>\n",
       "    <tr>\n",
       "      <th>20230</th>\n",
       "      <td>PC_TOT_PER</td>\n",
       "      <td>O-Q</td>\n",
       "      <td>CA</td>\n",
       "      <td>EMP_DC</td>\n",
       "      <td>LV</td>\n",
       "      <td>NaN</td>\n",
       "      <td>20.9</td>\n",
       "      <td>23.0</td>\n",
       "      <td>21.5</td>\n",
       "      <td>21.0</td>\n",
       "      <td>...</td>\n",
       "      <td>NaN</td>\n",
       "      <td>NaN</td>\n",
       "      <td>NaN</td>\n",
       "      <td>NaN</td>\n",
       "      <td>NaN</td>\n",
       "      <td>NaN</td>\n",
       "      <td>NaN</td>\n",
       "      <td>NaN</td>\n",
       "      <td>NaN</td>\n",
       "      <td>NaN</td>\n",
       "    </tr>\n",
       "  </tbody>\n",
       "</table>\n",
       "<p>3 rows × 192 columns</p>\n",
       "</div>"
      ],
      "text/plain": [
       "             unit nace_r2 s_adj na_item geo\\time  2021Q3  2021Q2  2021Q1  \\\n",
       "12814  PCH_SM_PER       F   NSA  SAL_DC       CZ     NaN     4.3     1.1   \n",
       "14215  PCH_SM_PER     O-Q   NSA  EMP_DC       NO     NaN     2.5     1.3   \n",
       "20230  PC_TOT_PER     O-Q    CA  EMP_DC       LV     NaN    20.9    23.0   \n",
       "\n",
       "       2020Q4  2020Q3  ...  1977Q2  1977Q1  1976Q4  1976Q3  1976Q2  1976Q1  \\\n",
       "12814     1.3     0.1  ...     NaN     NaN     NaN     NaN     NaN     NaN   \n",
       "14215     1.2     0.2  ...     NaN     NaN     NaN     NaN     NaN     NaN   \n",
       "20230    21.5    21.0  ...     NaN     NaN     NaN     NaN     NaN     NaN   \n",
       "\n",
       "       1975Q4  1975Q3  1975Q2  1975Q1  \n",
       "12814     NaN     NaN     NaN     NaN  \n",
       "14215     NaN     NaN     NaN     NaN  \n",
       "20230     NaN     NaN     NaN     NaN  \n",
       "\n",
       "[3 rows x 192 columns]"
      ]
     },
     "execution_count": 5,
     "metadata": {},
     "output_type": "execute_result"
    }
   ],
   "source": [
    "emplInd.sample(3)"
   ]
  },
  {
   "cell_type": "code",
   "execution_count": 6,
   "metadata": {},
   "outputs": [],
   "source": [
    "#2021Q3 Tiene demasiados datos null \n",
    "emplInd.drop(['2021Q3'], axis=1, inplace=True)"
   ]
  },
  {
   "cell_type": "code",
   "execution_count": 7,
   "metadata": {},
   "outputs": [
    {
     "name": "stdout",
     "output_type": "stream",
     "text": [
      "Descripción Variables: \n",
      "Unit: Unidad de medida\n",
      "['I15_HW' 'I15_JOB' 'I15_PER' 'PCH_PRE_HW' 'PCH_PRE_JOB' 'PCH_PRE_PER'\n",
      " 'PCH_SM_HW' 'PCH_SM_JOB' 'PCH_SM_PER' 'PC_TOT_HW' 'PC_TOT_JOB'\n",
      " 'PC_TOT_PER' 'THS_HW' 'THS_JOB' 'THS_PER']\n",
      "Tipo: Object\n",
      "--------------------------------------------------------------------\n",
      "nace_r2: Ajuste estacional\n",
      "['A' 'B-E' 'C' 'F' 'G-I' 'J' 'K' 'L' 'M_N' 'O-Q' 'R-U' 'TOTAL']\n",
      "Tipo: Object\n",
      "--------------------------------------------------------------------\n",
      "s_adj: Ajuste estacional\n",
      "['CA' 'NSA' 'SA' 'SCA']\n",
      "Tipo: Object\n",
      "--------------------------------------------------------------------\n",
      "na_item: Indicador de cuentas nacionales\n",
      "['EMP_DC' 'SAL_DC' 'SELF_DC']\n",
      "Tipo: Object\n",
      "--------------------------------------------------------------------\n"
     ]
    }
   ],
   "source": [
    "print('Descripción Variables: ')\n",
    "print('Unit: Unidad de medida')\n",
    "print(emplInd.unit.unique())\n",
    "print('Tipo: Object')\n",
    "print('--------------------------------------------------------------------')\n",
    "print('nace_r2: Ajuste estacional')\n",
    "print(emplInd.nace_r2.unique())\n",
    "print('Tipo: Object')\n",
    "print('--------------------------------------------------------------------')\n",
    "print('s_adj: Ajuste estacional')\n",
    "print(emplInd.s_adj.unique())\n",
    "print('Tipo: Object')\n",
    "print('--------------------------------------------------------------------')\n",
    "print('na_item: Indicador de cuentas nacionales')\n",
    "print(emplInd.na_item.unique())\n",
    "print('Tipo: Object')\n",
    "print('--------------------------------------------------------------------')\n"
   ]
  },
  {
   "cell_type": "markdown",
   "metadata": {},
   "source": [
    "### Limpieza y preparación"
   ]
  },
  {
   "cell_type": "markdown",
   "metadata": {},
   "source": [
    "**FILTROS**:\n",
    "\n",
    "* Primer filtro: trimestres en este caso dejaré datos del año 2018 en adelante  \n",
    "\n"
   ]
  },
  {
   "cell_type": "code",
   "execution_count": 8,
   "metadata": {},
   "outputs": [],
   "source": [
    "#Primer filtro: trimestres en este caso dejaré datos del año 2018 en adelante, por ser el ultimo año en el que algún país ingresó formalment a la UE\n",
    "emplInd.drop(emplInd.iloc[:,19:], inplace = True, axis = 1) "
   ]
  },
  {
   "cell_type": "markdown",
   "metadata": {},
   "source": [
    "\n",
    "* Segundo filtro: filtrar por los paises miembros de la UE  \n"
   ]
  },
  {
   "cell_type": "code",
   "execution_count": 9,
   "metadata": {},
   "outputs": [],
   "source": [
    "#Rename columns\n",
    "\n",
    "emplInd.columns = ['unit','nace_r2', 's_adj', 'na_item', 'country', '2021Q2', '2021Q1', '2020Q4', '2020Q3', '2020Q2', '2020Q1', '2019Q4',\n",
    "                '2019Q3', '2019Q2', '2019Q1', '2018Q4',  '2018Q3', '2018Q2', '2018Q1']"
   ]
  },
  {
   "cell_type": "code",
   "execution_count": 10,
   "metadata": {},
   "outputs": [
    {
     "data": {
      "text/plain": [
       "array(['FI', 'IT', 'LU', 'LV', 'AT', 'BG', 'CY', 'CZ', 'DE', 'DK', 'EE',\n",
       "       'EL', 'ES', 'FR', 'HR', 'HU', 'IE', 'LT', 'MT', 'NL', 'PL', 'PT',\n",
       "       'RO', 'SE', 'SI', 'SK', 'BE'], dtype=object)"
      ]
     },
     "execution_count": 10,
     "metadata": {},
     "output_type": "execute_result"
    }
   ],
   "source": [
    "# Segundo filtro: filtrar por los paises miembros de la UE\n",
    "# from MyFunctions import DF EU countries.\n",
    "\n",
    "emplInd = emplInd[emplInd.country.isin(EUcountries().Code)]\n",
    "\n",
    "#Verico que estén los 27\n",
    "emplInd['country'].unique()"
   ]
  },
  {
   "cell_type": "code",
   "execution_count": 11,
   "metadata": {},
   "outputs": [
    {
     "data": {
      "text/plain": [
       "6581"
      ]
     },
     "execution_count": 11,
     "metadata": {},
     "output_type": "execute_result"
    }
   ],
   "source": [
    "#Busco null values\n",
    "emplInd.isnull().sum().sum()"
   ]
  },
  {
   "cell_type": "code",
   "execution_count": 12,
   "metadata": {},
   "outputs": [
    {
     "data": {
      "text/html": [
       "<div>\n",
       "<style scoped>\n",
       "    .dataframe tbody tr th:only-of-type {\n",
       "        vertical-align: middle;\n",
       "    }\n",
       "\n",
       "    .dataframe tbody tr th {\n",
       "        vertical-align: top;\n",
       "    }\n",
       "\n",
       "    .dataframe thead th {\n",
       "        text-align: right;\n",
       "    }\n",
       "</style>\n",
       "<table border=\"1\" class=\"dataframe\">\n",
       "  <thead>\n",
       "    <tr style=\"text-align: right;\">\n",
       "      <th></th>\n",
       "      <th>unit</th>\n",
       "      <th>nace_r2</th>\n",
       "      <th>s_adj</th>\n",
       "      <th>na_item</th>\n",
       "      <th>country</th>\n",
       "      <th>2021Q2</th>\n",
       "      <th>2021Q1</th>\n",
       "      <th>2020Q4</th>\n",
       "      <th>2020Q3</th>\n",
       "      <th>2020Q2</th>\n",
       "      <th>2020Q1</th>\n",
       "      <th>2019Q4</th>\n",
       "      <th>2019Q3</th>\n",
       "      <th>2019Q2</th>\n",
       "      <th>2019Q1</th>\n",
       "      <th>2018Q4</th>\n",
       "      <th>2018Q3</th>\n",
       "      <th>2018Q2</th>\n",
       "      <th>2018Q1</th>\n",
       "    </tr>\n",
       "  </thead>\n",
       "  <tbody>\n",
       "    <tr>\n",
       "      <th>22472</th>\n",
       "      <td>THS_HW</td>\n",
       "      <td>K</td>\n",
       "      <td>SA</td>\n",
       "      <td>EMP_DC</td>\n",
       "      <td>CZ</td>\n",
       "      <td>NaN</td>\n",
       "      <td>NaN</td>\n",
       "      <td>NaN</td>\n",
       "      <td>NaN</td>\n",
       "      <td>NaN</td>\n",
       "      <td>NaN</td>\n",
       "      <td>NaN</td>\n",
       "      <td>NaN</td>\n",
       "      <td>NaN</td>\n",
       "      <td>NaN</td>\n",
       "      <td>NaN</td>\n",
       "      <td>NaN</td>\n",
       "      <td>NaN</td>\n",
       "      <td>NaN</td>\n",
       "    </tr>\n",
       "    <tr>\n",
       "      <th>16420</th>\n",
       "      <td>PC_TOT_HW</td>\n",
       "      <td>K</td>\n",
       "      <td>SA</td>\n",
       "      <td>EMP_DC</td>\n",
       "      <td>CZ</td>\n",
       "      <td>NaN</td>\n",
       "      <td>NaN</td>\n",
       "      <td>NaN</td>\n",
       "      <td>NaN</td>\n",
       "      <td>NaN</td>\n",
       "      <td>NaN</td>\n",
       "      <td>NaN</td>\n",
       "      <td>NaN</td>\n",
       "      <td>NaN</td>\n",
       "      <td>NaN</td>\n",
       "      <td>NaN</td>\n",
       "      <td>NaN</td>\n",
       "      <td>NaN</td>\n",
       "      <td>NaN</td>\n",
       "    </tr>\n",
       "    <tr>\n",
       "      <th>15444</th>\n",
       "      <td>PC_TOT_HW</td>\n",
       "      <td>C</td>\n",
       "      <td>NSA</td>\n",
       "      <td>SELF_DC</td>\n",
       "      <td>BE</td>\n",
       "      <td>NaN</td>\n",
       "      <td>NaN</td>\n",
       "      <td>NaN</td>\n",
       "      <td>NaN</td>\n",
       "      <td>NaN</td>\n",
       "      <td>NaN</td>\n",
       "      <td>NaN</td>\n",
       "      <td>NaN</td>\n",
       "      <td>NaN</td>\n",
       "      <td>NaN</td>\n",
       "      <td>NaN</td>\n",
       "      <td>NaN</td>\n",
       "      <td>NaN</td>\n",
       "      <td>NaN</td>\n",
       "    </tr>\n",
       "    <tr>\n",
       "      <th>22622</th>\n",
       "      <td>THS_HW</td>\n",
       "      <td>L</td>\n",
       "      <td>NSA</td>\n",
       "      <td>EMP_DC</td>\n",
       "      <td>MT</td>\n",
       "      <td>NaN</td>\n",
       "      <td>NaN</td>\n",
       "      <td>NaN</td>\n",
       "      <td>NaN</td>\n",
       "      <td>NaN</td>\n",
       "      <td>NaN</td>\n",
       "      <td>NaN</td>\n",
       "      <td>NaN</td>\n",
       "      <td>NaN</td>\n",
       "      <td>NaN</td>\n",
       "      <td>NaN</td>\n",
       "      <td>NaN</td>\n",
       "      <td>NaN</td>\n",
       "      <td>NaN</td>\n",
       "    </tr>\n",
       "    <tr>\n",
       "      <th>22708</th>\n",
       "      <td>THS_HW</td>\n",
       "      <td>L</td>\n",
       "      <td>SA</td>\n",
       "      <td>EMP_DC</td>\n",
       "      <td>MT</td>\n",
       "      <td>NaN</td>\n",
       "      <td>NaN</td>\n",
       "      <td>NaN</td>\n",
       "      <td>NaN</td>\n",
       "      <td>NaN</td>\n",
       "      <td>NaN</td>\n",
       "      <td>NaN</td>\n",
       "      <td>NaN</td>\n",
       "      <td>NaN</td>\n",
       "      <td>NaN</td>\n",
       "      <td>NaN</td>\n",
       "      <td>NaN</td>\n",
       "      <td>NaN</td>\n",
       "      <td>NaN</td>\n",
       "    </tr>\n",
       "  </tbody>\n",
       "</table>\n",
       "</div>"
      ],
      "text/plain": [
       "            unit nace_r2 s_adj  na_item country  2021Q2  2021Q1  2020Q4  \\\n",
       "22472     THS_HW       K    SA   EMP_DC      CZ     NaN     NaN     NaN   \n",
       "16420  PC_TOT_HW       K    SA   EMP_DC      CZ     NaN     NaN     NaN   \n",
       "15444  PC_TOT_HW       C   NSA  SELF_DC      BE     NaN     NaN     NaN   \n",
       "22622     THS_HW       L   NSA   EMP_DC      MT     NaN     NaN     NaN   \n",
       "22708     THS_HW       L    SA   EMP_DC      MT     NaN     NaN     NaN   \n",
       "\n",
       "       2020Q3  2020Q2  2020Q1  2019Q4  2019Q3  2019Q2  2019Q1  2018Q4  2018Q3  \\\n",
       "22472     NaN     NaN     NaN     NaN     NaN     NaN     NaN     NaN     NaN   \n",
       "16420     NaN     NaN     NaN     NaN     NaN     NaN     NaN     NaN     NaN   \n",
       "15444     NaN     NaN     NaN     NaN     NaN     NaN     NaN     NaN     NaN   \n",
       "22622     NaN     NaN     NaN     NaN     NaN     NaN     NaN     NaN     NaN   \n",
       "22708     NaN     NaN     NaN     NaN     NaN     NaN     NaN     NaN     NaN   \n",
       "\n",
       "       2018Q2  2018Q1  \n",
       "22472     NaN     NaN  \n",
       "16420     NaN     NaN  \n",
       "15444     NaN     NaN  \n",
       "22622     NaN     NaN  \n",
       "22708     NaN     NaN  "
      ]
     },
     "execution_count": 12,
     "metadata": {},
     "output_type": "execute_result"
    }
   ],
   "source": [
    "#Muestra de algunos valores nulos\n",
    "emplInd[emplInd.isnull().any(1)].sample(5)\n",
    "\n"
   ]
  },
  {
   "cell_type": "code",
   "execution_count": 13,
   "metadata": {},
   "outputs": [],
   "source": [
    "# Cargo los diccionarios para emplInd desde el bulkdown de Eurostat\n",
    "unit = eurostat.get_dic('unit')\n",
    "nace_r2 = eurostat.get_dic('nace_r2')\n",
    "s_adj = eurostat.get_dic('s_adj')\n",
    "na_item =eurostat.get_dic('na_item')\n",
    "geo =eurostat.get_dic('geo')"
   ]
  },
  {
   "cell_type": "code",
   "execution_count": 14,
   "metadata": {},
   "outputs": [],
   "source": [
    "#Uso la variable broadcast porque solo me interesan los datos presentes en el dataframe\n",
    "broadcast_unit = spark.sparkContext.broadcast(unit)\n",
    "broadcast_nace_r2 = spark.sparkContext.broadcast(nace_r2)\n",
    "broadcast_s_adj = spark.sparkContext.broadcast(s_adj)\n",
    "broadcast_na_item = spark.sparkContext.broadcast(na_item)\n",
    "broadcast_geo = spark.sparkContext.broadcast(geo)"
   ]
  },
  {
   "cell_type": "code",
   "execution_count": 15,
   "metadata": {},
   "outputs": [
    {
     "name": "stdout",
     "output_type": "stream",
     "text": [
      "root\n",
      " |-- unit: string (nullable = true)\n",
      " |-- nace_r2: string (nullable = true)\n",
      " |-- s_adj: string (nullable = true)\n",
      " |-- na_item: string (nullable = true)\n",
      " |-- country: string (nullable = true)\n",
      " |-- 2021Q2: double (nullable = true)\n",
      " |-- 2021Q1: double (nullable = true)\n",
      " |-- 2020Q4: double (nullable = true)\n",
      " |-- 2020Q3: double (nullable = true)\n",
      " |-- 2020Q2: double (nullable = true)\n",
      " |-- 2020Q1: double (nullable = true)\n",
      " |-- 2019Q4: double (nullable = true)\n",
      " |-- 2019Q3: double (nullable = true)\n",
      " |-- 2019Q2: double (nullable = true)\n",
      " |-- 2019Q1: double (nullable = true)\n",
      " |-- 2018Q4: double (nullable = true)\n",
      " |-- 2018Q3: double (nullable = true)\n",
      " |-- 2018Q2: double (nullable = true)\n",
      " |-- 2018Q1: double (nullable = true)\n",
      "\n"
     ]
    }
   ],
   "source": [
    "#From pandas to spark\n",
    "empByInd = spark.createDataFrame(emplInd)\n",
    "empByInd.printSchema()"
   ]
  },
  {
   "cell_type": "code",
   "execution_count": 16,
   "metadata": {},
   "outputs": [
    {
     "name": "stdout",
     "output_type": "stream",
     "text": [
      "----------------------------------------------\n",
      "Codes in Employment A*10 industry breakdowns\n",
      "----------------------------------------------\n",
      "+-----------+-----+----------------------------------------------------------------------------------+\n",
      "|unit       |count|UnitDesc                                                                          |\n",
      "+-----------+-----+----------------------------------------------------------------------------------+\n",
      "|PCH_SM_PER |2050 |Percentage change compared to same period in previous year (based on persons)     |\n",
      "|PC_TOT_PER |2052 |Percentage of total (based on persons)                                            |\n",
      "|I15_HW     |2066 |Index, 2015=100 (based on hours worked)                                           |\n",
      "|I15_PER    |2042 |Index, 2015=100 (based on persons)                                                |\n",
      "|PCH_SM_HW  |2098 |Percentage change compared to same period in previous year (based on hours worked)|\n",
      "|THS_HW     |2100 |Thousand hours worked                                                             |\n",
      "|PCH_PRE_JOB|180  |Percentage change on previous period (based on jobs)                              |\n",
      "|PC_TOT_HW  |2100 |Percentage of total (based on hours worked)                                       |\n",
      "|PCH_SM_JOB |360  |Percentage change compared to same period in previous year (based on jobs)        |\n",
      "|THS_PER    |2052 |Thousand persons                                                                  |\n",
      "|PC_TOT_JOB |360  |Percentage of total (based on jobs)                                               |\n",
      "|PCH_PRE_PER|971  |Percentage change on previous period (based on persons)                           |\n",
      "|PCH_PRE_HW |995  |Percentage change on previous period (based on hours worked)                      |\n",
      "|I15_JOB    |352  |Index, 2015=100 (based on jobs)                                                   |\n",
      "|THS_JOB    |360  |Thousand jobs                                                                     |\n",
      "+-----------+-----+----------------------------------------------------------------------------------+\n",
      "\n",
      "+-------+-----+------------------------------------------------------------------------------------------------------------------------------------+\n",
      "|nace_r2|count|UnitDesc                                                                                                                            |\n",
      "+-------+-----+------------------------------------------------------------------------------------------------------------------------------------+\n",
      "|K      |1665 |Financial and insurance activities                                                                                                  |\n",
      "|F      |1681 |Construction                                                                                                                        |\n",
      "|L      |1675 |Real estate activities                                                                                                              |\n",
      "|C      |1681 |Manufacturing                                                                                                                       |\n",
      "|J      |1675 |Information and communication                                                                                                       |\n",
      "|TOTAL  |1681 |Total - all NACE activities                                                                                                         |\n",
      "|M_N    |1681 |Professional, scientific and technical activities; administrative and support service activities                                    |\n",
      "|A      |1681 |Agriculture, forestry and fishing                                                                                                   |\n",
      "|R-U    |1681 |Arts, entertainment and recreation; other service activities; activities of household and extra-territorial organizations and bodies|\n",
      "|O-Q    |1675 |Public administration, defence, education, human health and social work activities                                                  |\n",
      "|G-I    |1681 |Wholesale and retail trade, transport, accommodation and food service activities                                                    |\n",
      "|B-E    |1681 |Industry (except construction)                                                                                                      |\n",
      "+-------+-----+------------------------------------------------------------------------------------------------------------------------------------+\n",
      "\n",
      "+-----+-----+-----------------------------------------------------------------------------+\n",
      "|s_adj|count|s_adjDesc                                                                    |\n",
      "+-----+-----+-----------------------------------------------------------------------------+\n",
      "|NSA  |8420 |Unadjusted data (i.e. neither seasonally adjusted nor calendar adjusted data)|\n",
      "|SA   |1440 |Seasonally adjusted data, not calendar adjusted data                         |\n",
      "|CA   |1008 |Calendar adjusted data, not seasonally adjusted data                         |\n",
      "|SCA  |9270 |Seasonally and calendar adjusted data                                        |\n",
      "+-----+-----+-----------------------------------------------------------------------------+\n",
      "\n",
      "+-------+-----+---------------------------------+\n",
      "|na_item|count|na_itemDesc                      |\n",
      "+-------+-----+---------------------------------+\n",
      "|SELF_DC|6710 |Self-employed domestic concept   |\n",
      "|SAL_DC |6768 |Employees domestic concept       |\n",
      "|EMP_DC |6660 |Total employment domestic concept|\n",
      "+-------+-----+---------------------------------+\n",
      "\n",
      "+-------+-----+------------------------------------------------+\n",
      "|country|count|CountryName                                     |\n",
      "+-------+-----+------------------------------------------------+\n",
      "|LT     |648  |Lithuania                                       |\n",
      "|FI     |936  |Finland                                         |\n",
      "|RO     |648  |Romania                                         |\n",
      "|NL     |972  |Netherlands                                     |\n",
      "|PL     |648  |Poland                                          |\n",
      "|EE     |948  |Estonia                                         |\n",
      "|AT     |972  |Austria                                         |\n",
      "|HR     |648  |Croatia                                         |\n",
      "|CZ     |828  |Czechia                                         |\n",
      "|PT     |648  |Portugal                                        |\n",
      "|MT     |648  |Malta                                           |\n",
      "|DE     |648  |Germany (until 1990 former territory of the FRG)|\n",
      "|ES     |972  |Spain                                           |\n",
      "|FR     |648  |France                                          |\n",
      "|IT     |1116 |Italy                                           |\n",
      "|SE     |648  |Sweden                                          |\n",
      "|BG     |648  |Bulgaria                                        |\n",
      "|SK     |648  |Slovakia                                        |\n",
      "|LV     |936  |Latvia                                          |\n",
      "|HU     |648  |Hungary                                         |\n",
      "|CY     |648  |Cyprus                                          |\n",
      "|SI     |648  |Slovenia                                        |\n",
      "|IE     |648  |Ireland                                         |\n",
      "|EL     |648  |Greece                                          |\n",
      "|BE     |516  |Belgium                                         |\n",
      "|LU     |936  |Luxembourg                                      |\n",
      "|DK     |638  |Denmark                                         |\n",
      "+-------+-----+------------------------------------------------+\n",
      "\n"
     ]
    }
   ],
   "source": [
    "from pyspark.sql import functions as func\n",
    "\n",
    "# Look for the codes for each variable, the meaning of the codes and count how many times apears in the DF\n",
    "UnitText = empByInd.groupBy(\"unit\").count()\n",
    "nace_r2Text = empByInd.groupBy(\"nace_r2\").count()\n",
    "s_adjText = empByInd.groupBy(\"s_adj\").count()\n",
    "na_itemText = empByInd.groupBy(\"na_item\").count()\n",
    "geoText = empByInd.groupBy(\"country\").count()\n",
    "\n",
    "# Function to look up code names from broadcasted variables\n",
    "###...Problem: I've not been able to use just one Function and replace the variables. def lookup(x)\n",
    "def lookupUnit(unit):\n",
    "    return broadcast_unit.value[unit]\n",
    "\n",
    "def lookupNace_r2(nace_r2):\n",
    "    return broadcast_nace_r2.value[nace_r2]\n",
    "\n",
    "def lookupS_adj(s_adj):\n",
    "    return broadcast_s_adj.value[s_adj]\n",
    "\n",
    "def lookupNa_item(na_item):\n",
    "    return broadcast_na_item.value[na_item]\n",
    "\n",
    "def lookupGeo(geo):\n",
    "    return broadcast_geo.value[geo]\n",
    "\n",
    "lookupUnitUDF = func.udf(lookupUnit)\n",
    "lookupNace_r2UDF = func.udf(lookupNace_r2)\n",
    "lookupS_adjUDF = func.udf(lookupS_adj)\n",
    "lookupNa_itemUDF = func.udf(lookupNa_item)\n",
    "lookupGeoUDF = func.udf(lookupGeo)\n",
    "\n",
    "# Add a new column\n",
    "\n",
    "UnitDesc = UnitText.withColumn(\"UnitDesc\", lookupUnitUDF(func.col(\"unit\")))\n",
    "nace_r2Desc = nace_r2Text.withColumn(\"UnitDesc\", lookupNace_r2UDF(func.col(\"nace_r2\")))\n",
    "s_adjDesc = s_adjText.withColumn(\"s_adjDesc\", lookupS_adjUDF(func.col(\"s_adj\")))\n",
    "na_itemDesc = na_itemText.withColumn(\"na_itemDesc\", lookupNa_itemUDF(func.col(\"na_item\")))\n",
    "geoDesc = geoText.withColumn(\"CountryName\", lookupGeoUDF(func.col(\"Country\")))\n",
    "\n",
    "print(\"----------------------------------------------\")\n",
    "print(\"Codes in Employment A*10 industry breakdowns\")\n",
    "print(\"----------------------------------------------\")\n",
    "\n",
    "UnitDesc.show(truncate=False)\n",
    "nace_r2Desc.show(truncate=False)\n",
    "s_adjDesc.show(truncate=False)\n",
    "na_itemDesc.show(truncate=False)\n",
    "geoDesc.show(27, truncate=False)"
   ]
  },
  {
   "cell_type": "code",
   "execution_count": 17,
   "metadata": {},
   "outputs": [],
   "source": [
    "# Para la variable unit me quedo con thousands \n",
    "# s_adj solo not adjusted data\n",
    "# De la variable na_item me quedo con total employment domestic concept\n",
    "# Elimino las tres variables filtradas\n",
    "\n",
    "unitconcept = ['THS_PER'] #Thousand persons\n",
    "s_adjconcept= ['NSA'] #not adjusted data \n",
    "na_itemconcept= ['EMP_DC'] #Total employment domestic concept\n",
    "empByInd = empByInd.filter((empByInd.unit.isin(unitconcept)) & (empByInd.s_adj.isin(s_adjconcept)) & (empByInd.na_item.isin(na_itemconcept)))\n",
    "empByInd = empByInd.select([c for c in empByInd.columns if c not in {'unit', 's_adj', 'na_item'}])"
   ]
  },
  {
   "cell_type": "code",
   "execution_count": 18,
   "metadata": {},
   "outputs": [
    {
     "name": "stdout",
     "output_type": "stream",
     "text": [
      "+-------+-------+------+------+------+------+------+------+------+------+------+------+------+------+------+------+\n",
      "|nace_r2|country|2021Q2|2021Q1|2020Q4|2020Q3|2020Q2|2020Q1|2019Q4|2019Q3|2019Q2|2019Q1|2018Q4|2018Q3|2018Q2|2018Q1|\n",
      "+-------+-------+------+------+------+------+------+------+------+------+------+------+------+------+------+------+\n",
      "|      A|     AT|157.02|145.45|151.85|161.05|155.49|142.05|147.19|155.76|150.76|145.17|153.71|161.37|162.23|151.61|\n",
      "|      A|     BE|  59.0|  54.5|  59.9|  65.8|  59.8|  53.9|  59.1|  64.7|  59.5|  54.1|  58.4|  64.3|  59.2|  53.5|\n",
      "|      A|     BG|581.22|476.49|531.15|680.64|645.14| 525.9|536.31|664.33|640.91|545.45|518.81| 724.4|680.29|574.14|\n",
      "|      A|     CY| 15.28| 14.75| 14.89| 15.09| 15.16| 14.82| 14.98| 15.15| 15.22| 14.69| 14.77|  14.9| 14.88| 14.89|\n",
      "|      A|     CZ|157.82|145.66|156.05|176.81|160.92| 144.9|154.35|173.85|163.15|150.01|161.65|181.49|167.95|150.99|\n",
      "|      A|     DE| 601.0| 533.0| 549.0| 601.0| 616.0| 555.0| 572.0| 619.0| 639.0| 567.0| 582.0| 628.0| 653.0| 569.0|\n",
      "|      A|     DK| 69.82| 66.54| 70.81|  72.7| 71.13| 66.36| 69.71| 70.52| 68.39| 64.45| 70.09| 72.13| 71.43|  67.4|\n",
      "|      A|     EE| 17.52| 19.41| 19.66| 17.89| 20.54| 19.19| 20.89| 23.26| 21.98| 20.04| 20.46| 25.83| 21.94| 20.61|\n",
      "|      A|     EL|480.51|476.92|441.64|444.96|461.09|457.48|487.41|503.93|497.97|498.94|502.49|514.06| 506.6|503.41|\n",
      "|      A|     ES| 733.0| 722.8| 724.9| 677.6| 695.6| 745.5| 775.1| 728.7| 780.9| 799.7| 820.0| 761.7| 809.8| 818.1|\n",
      "|      A|     FI|  94.8|  88.2|  89.2|  88.4|  86.0|  82.4|  87.2|  91.2|  89.2|  83.2|  83.6|  92.8|  92.8|  82.0|\n",
      "|      A|     FR| 768.3| 721.0| 744.1| 778.4| 746.5| 699.4| 746.5| 793.7| 758.7| 714.0| 746.6| 792.6| 762.1| 715.1|\n",
      "|      A|     HR|116.12| 95.22| 97.81|117.04|112.24| 87.67|  93.4|112.77| 110.0|103.99| 99.61|110.97| 96.36|107.63|\n",
      "|      A|     HU|189.06|160.33|191.16|212.91|191.15|163.82|186.67|206.14|193.03|160.21|192.37|210.86|193.25|166.78|\n",
      "|      A|     IE|108.12|106.62|106.45| 98.73| 98.45|107.42|106.97| 99.51|100.99|103.97|104.81|105.21|106.82|113.37|\n",
      "|      A|     IT| 973.5| 937.2| 956.1| 954.9| 886.9| 907.2| 970.9| 930.8| 908.2| 897.2| 930.3| 956.6| 973.4| 895.5|\n",
      "|      A|     LT| 73.58| 77.04|  77.4| 77.33| 80.35|  78.9| 76.01|  83.9| 94.63|101.01| 97.75| 90.12|103.63|102.82|\n",
      "|      A|     LU|  3.67|  3.63|  3.68|  3.68|  3.66|  3.61|  3.65|  3.66|  3.67|  3.64|   3.7|  3.72|  3.69|  3.64|\n",
      "|      A|     LV| 69.77| 63.72| 58.71|  70.6| 69.11| 65.19| 57.73| 70.07| 67.86| 66.77| 59.06| 70.04| 67.22| 64.15|\n",
      "|      A|     MT|  2.56|   2.6|  2.59|  2.59|  2.56|   2.6|   2.6|  2.56|   2.5|  2.48|  2.63|  2.52|  2.64|  2.57|\n",
      "+-------+-------+------+------+------+------+------+------+------+------+------+------+------+------+------+------+\n",
      "only showing top 20 rows\n",
      "\n"
     ]
    }
   ],
   "source": [
    "empByInd.show()"
   ]
  },
  {
   "cell_type": "code",
   "execution_count": 19,
   "metadata": {},
   "outputs": [
    {
     "name": "stdout",
     "output_type": "stream",
     "text": [
      "27\n"
     ]
    }
   ],
   "source": [
    "print(empByInd.select(['Country']).distinct().count())"
   ]
  },
  {
   "cell_type": "code",
   "execution_count": 20,
   "metadata": {},
   "outputs": [],
   "source": [
    "empByInd = empByInd.selectExpr('nace_r2', 'country',  \"\"\"stack(14,'2021Q2', 2021Q2, '2021Q1', 2021Q1, '2020Q4', 2020Q4, '2020Q3', 2020Q3, '2020Q2', 2020Q2, '2020Q1', 2020Q1, '2019Q4', 2019Q4,\n",
    "                '2019Q3', 2019Q3, '2019Q2', 2019Q2, '2019Q1', 2019Q1, '2018Q4', 2018Q4, '2018Q3', 2018Q3, '2018Q2', 2018Q2, '2018Q1', 2018Q1) as (Date, cant)\"\"\")"
   ]
  },
  {
   "cell_type": "code",
   "execution_count": 21,
   "metadata": {
    "scrolled": false
   },
   "outputs": [
    {
     "name": "stdout",
     "output_type": "stream",
     "text": [
      "root\n",
      " |-- nace_r2: string (nullable = true)\n",
      " |-- country: string (nullable = true)\n",
      " |-- Date: string (nullable = true)\n",
      " |-- cant: double (nullable = true)\n",
      "\n"
     ]
    }
   ],
   "source": [
    "empByInd.printSchema()"
   ]
  },
  {
   "cell_type": "code",
   "execution_count": 22,
   "metadata": {},
   "outputs": [
    {
     "name": "stdout",
     "output_type": "stream",
     "text": [
      "+-------+-------+-------+------+------------------+\n",
      "|summary|nace_r2|country|  Date|              cant|\n",
      "+-------+-------+-------+------+------------------+\n",
      "|  count|   4536|   4536|  4536|              4536|\n",
      "|   mean|   null|   null|  null|1372.0202491181642|\n",
      "| stddev|   null|   null|  null|3843.6437858169106|\n",
      "|    min|      A|     AT|2018Q1|              2.09|\n",
      "|    25%|   null|   null|  null|              83.2|\n",
      "|    50%|   null|   null|  null|            286.23|\n",
      "|    75%|   null|   null|  null|             998.3|\n",
      "|    max|  TOTAL|     SK|2021Q2|           45559.0|\n",
      "+-------+-------+-------+------+------------------+\n",
      "\n"
     ]
    }
   ],
   "source": [
    "empByInd.summary().show()"
   ]
  },
  {
   "cell_type": "code",
   "execution_count": 23,
   "metadata": {},
   "outputs": [
    {
     "name": "stdout",
     "output_type": "stream",
     "text": [
      "+-------+-------+----+----+\n",
      "|nace_r2|country|Date|cant|\n",
      "+-------+-------+----+----+\n",
      "|      0|      0|   0|   0|\n",
      "+-------+-------+----+----+\n",
      "\n"
     ]
    }
   ],
   "source": [
    "empByInd.select([func.count(func.when(func.isnan(c) | func.col(c).isNull(), c)).alias(c) for c in empByInd.columns]).show()"
   ]
  },
  {
   "cell_type": "code",
   "execution_count": 24,
   "metadata": {},
   "outputs": [],
   "source": [
    "empByInd_F = empByInd.withColumn(\"EconomicAct\", lookupNace_r2UDF(func.col(\"nace_r2\"))).withColumn(\"CountryName\", lookupGeoUDF(func.col(\"Country\"))).orderBy(\"country\",\"date\")\n"
   ]
  },
  {
   "cell_type": "code",
   "execution_count": 25,
   "metadata": {},
   "outputs": [
    {
     "name": "stdout",
     "output_type": "stream",
     "text": [
      "+-------+-------+------+-------+--------------------+-----------+\n",
      "|nace_r2|country|  Date|   cant|         EconomicAct|CountryName|\n",
      "+-------+-------+------+-------+--------------------+-----------+\n",
      "|      A|     AT|2018Q1| 151.61|Agriculture, fore...|    Austria|\n",
      "|    B-E|     AT|2018Q1| 699.27|Industry (except ...|    Austria|\n",
      "|    R-U|     AT|2018Q1| 196.16|Arts, entertainme...|    Austria|\n",
      "|  TOTAL|     AT|2018Q1|4404.95|Total - all NACE ...|    Austria|\n",
      "|    G-I|     AT|2018Q1|1204.07|Wholesale and ret...|    Austria|\n",
      "|      J|     AT|2018Q1| 121.38|Information and c...|    Austria|\n",
      "|      L|     AT|2018Q1|  62.24|Real estate activ...|    Austria|\n",
      "|      K|     AT|2018Q1| 122.97|Financial and ins...|    Austria|\n",
      "|      C|     AT|2018Q1| 643.33|       Manufacturing|    Austria|\n",
      "|    M_N|     AT|2018Q1| 527.51|Professional, sci...|    Austria|\n",
      "|    O-Q|     AT|2018Q1|1056.68|Public administra...|    Austria|\n",
      "|      F|     AT|2018Q1| 263.07|        Construction|    Austria|\n",
      "|      L|     AT|2018Q2|  63.08|Real estate activ...|    Austria|\n",
      "|    G-I|     AT|2018Q2|1181.53|Wholesale and ret...|    Austria|\n",
      "|      C|     AT|2018Q2| 652.57|       Manufacturing|    Austria|\n",
      "|    B-E|     AT|2018Q2| 710.06|Industry (except ...|    Austria|\n",
      "|      A|     AT|2018Q2| 162.23|Agriculture, fore...|    Austria|\n",
      "|      F|     AT|2018Q2| 309.95|        Construction|    Austria|\n",
      "|      J|     AT|2018Q2| 122.98|Information and c...|    Austria|\n",
      "|    M_N|     AT|2018Q2| 546.52|Professional, sci...|    Austria|\n",
      "+-------+-------+------+-------+--------------------+-----------+\n",
      "only showing top 20 rows\n",
      "\n"
     ]
    }
   ],
   "source": [
    "empByInd_F.show()"
   ]
  },
  {
   "cell_type": "code",
   "execution_count": 26,
   "metadata": {},
   "outputs": [],
   "source": [
    "Germanie_Issue = empByInd_F.toPandas()\n",
    "Germanie_Issue['CountryName'].replace(\n",
    "    to_replace=['Germany (until 1990 former territory of the FRG)'],\n",
    "    value='Germany',\n",
    "    inplace=True\n",
    ")\n",
    "empByInd_F = spark.createDataFrame(Germanie_Issue)"
   ]
  },
  {
   "cell_type": "code",
   "execution_count": 27,
   "metadata": {},
   "outputs": [],
   "source": [
    "#Save parquet file in hdfs whit unit thousends of people, solo adjusted data y total employment domestic concept\n",
    "\n",
    "\n",
    "empByInd_F.write.mode('overwrite').parquet(\"hdfs://localhost:9000/TFM_CEE/row/EmpByIndust.parquet\")"
   ]
  },
  {
   "cell_type": "code",
   "execution_count": null,
   "metadata": {},
   "outputs": [],
   "source": []
  }
 ],
 "metadata": {
  "kernelspec": {
   "display_name": "Python 3",
   "language": "python",
   "name": "python3"
  },
  "language_info": {
   "codemirror_mode": {
    "name": "ipython",
    "version": 3
   },
   "file_extension": ".py",
   "mimetype": "text/x-python",
   "name": "python",
   "nbconvert_exporter": "python",
   "pygments_lexer": "ipython3",
   "version": "3.8.5"
  }
 },
 "nbformat": 4,
 "nbformat_minor": 4
}
